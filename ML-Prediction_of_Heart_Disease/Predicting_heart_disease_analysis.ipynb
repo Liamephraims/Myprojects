{
 "cells": [
  {
   "cell_type": "markdown",
   "metadata": {},
   "source": [
    "## Introduction - Prediction of Heart Disease\n",
    "To undertake this study, the below Machine Learning and Data Mining Work-Flow 9 Step pathway will be followed ensuring best practice:"
   ]
  },
  {
   "cell_type": "markdown",
   "metadata": {},
   "source": [
    "![alt text](images/ML-work-flow.PNG)"
   ]
  },
  {
   "cell_type": "markdown",
   "metadata": {},
   "source": [
    "## Importing neccessary libraries"
   ]
  },
  {
   "cell_type": "code",
   "execution_count": null,
   "metadata": {},
   "outputs": [],
   "source": [
    "from plotnine import *\n",
    "\n",
    "import numpy as np\n",
    "\n",
    "from scipy import sparse\n",
    "\n",
    "import pandas as pd\n",
    "from IPython.display import display\n",
    "\n",
    "import seaborn as sns\n",
    "from sklearn.preprocessing import StandardScaler\n",
    "\n",
    "import matplotlib.pyplot as plt\n",
    "\n",
    "import keras\n",
    "from keras.models import Sequential\n",
    "from keras.layers import Dense, Dropout, Activation\n",
    "from keras import models\n",
    "from keras import layers\n",
    "from keras.constraints import maxnorm\n",
    "from keras.optimizers import SGD\n",
    "\n",
    "import pickle\n",
    "\n",
    "from sklearn.model_selection import GridSearchCV\n",
    "from sklearn.metrics import confusion_matrix\n",
    "from sklearn.metrics import f1_score\n",
    "from sklearn.metrics import classification_report\n",
    "from sklearn.model_selection import RandomizedSearchCV\n",
    "from sklearn.linear_model import LogisticRegression\n",
    "from sklearn.pipeline import Pipeline\n",
    "from sklearn.metrics import confusion_matrix\n",
    "from sklearn.metrics import f1_score\n",
    "from sklearn.metrics import classification_report\n",
    "from sklearn.metrics import roc_auc_score"
   ]
  },
  {
   "cell_type": "markdown",
   "metadata": {},
   "source": [
    "##  What are we interested in answering and what is the context?"
   ]
  },
  {
   "cell_type": "markdown",
   "metadata": {},
   "source": [
    "Goal:\n",
    "Given a study population of 70 000 patients presenting to an Emergency Department of a Redfern Hospital suffering chest pain symptoms from 1st of January 2015 to 31st October 2019, is it possible to build a predictive algorithm in the prediction of heart disease within this population on the set of features; age, sex, cholestrol and other given heart and lung measurements?  \n",
    "\n",
    "Context:\n",
    "Clincial pathways for those with Heart Disease (HD) within Redfern hospital networks have already been developed in targeting positive criteria patients faster via these specialised interventions, to further improve this identification of patients suitable for entry into these clinical HD pathways the clinical team would like to predict patients who have HD so they may target them for this intervention and stream-line this process. "
   ]
  },
  {
   "cell_type": "markdown",
   "metadata": {},
   "source": [
    "## Data Extraction: Gathering Data"
   ]
  },
  {
   "cell_type": "markdown",
   "metadata": {},
   "source": [
    "We will assume ethics, communication with custodians, a list of variables and data dictionary have been provided, transport, storage and security measures are already in place considering the data is already available to us. Furthermore, more complex models will be trained over the google cloud platform using datalab, security measures and firewalls are established in ensuring the data is secure. We will be using n1-standard-8 from google clouds services, approximately 8 CPUs as opposed to a single CPU available to the study team. Thereby, correcting computational limitations of our own hardwire within this study."
   ]
  },
  {
   "cell_type": "markdown",
   "metadata": {},
   "source": [
    "## Preparing the Data"
   ]
  },
  {
   "cell_type": "markdown",
   "metadata": {},
   "source": [
    "### Visualization and Exploration (Basic Statistics)"
   ]
  },
  {
   "cell_type": "code",
   "execution_count": 5,
   "metadata": {},
   "outputs": [
    {
     "name": "stdout",
     "output_type": "stream",
     "text": [
      "(70000, 14)\n"
     ]
    }
   ],
   "source": [
    "hospital_temp = pd.read_csv('data/HeartDiseaseData.csv', sep=',',na_values='?')\n",
    "print(hospital_temp.shape)"
   ]
  },
  {
   "cell_type": "markdown",
   "metadata": {},
   "source": [
    "We can observe there are 70 000 rows (observations) and 14 raw features (variables)."
   ]
  },
  {
   "cell_type": "code",
   "execution_count": 6,
   "metadata": {},
   "outputs": [
    {
     "name": "stdout",
     "output_type": "stream",
     "text": [
      "<class 'pandas.core.frame.DataFrame'>\n",
      "RangeIndex: 70000 entries, 0 to 69999\n",
      "Data columns (total 14 columns):\n",
      "age             70000 non-null int64\n",
      "sex             70000 non-null int64\n",
      "chestpain       70000 non-null int64\n",
      "restbps         70000 non-null int64\n",
      "chol            70000 non-null int64\n",
      "fbsugar         70000 non-null int64\n",
      "restecg         70000 non-null int64\n",
      "maxheartrate    70000 non-null int64\n",
      "exangina        70000 non-null int64\n",
      "STdepression    70000 non-null float64\n",
      "STsegment       70000 non-null int64\n",
      "majorvessel     68961 non-null float64\n",
      "thalassemia     69535 non-null float64\n",
      "heart           70000 non-null int64\n",
      "dtypes: float64(3), int64(11)\n",
      "memory usage: 7.5 MB\n"
     ]
    }
   ],
   "source": [
    "#Visualising feature/response types:\n",
    "hospital_temp.info()"
   ]
  },
  {
   "cell_type": "code",
   "execution_count": 7,
   "metadata": {},
   "outputs": [
    {
     "data": {
      "text/html": [
       "<div>\n",
       "<style scoped>\n",
       "    .dataframe tbody tr th:only-of-type {\n",
       "        vertical-align: middle;\n",
       "    }\n",
       "\n",
       "    .dataframe tbody tr th {\n",
       "        vertical-align: top;\n",
       "    }\n",
       "\n",
       "    .dataframe thead th {\n",
       "        text-align: right;\n",
       "    }\n",
       "</style>\n",
       "<table border=\"1\" class=\"dataframe\">\n",
       "  <thead>\n",
       "    <tr style=\"text-align: right;\">\n",
       "      <th></th>\n",
       "      <th>age</th>\n",
       "      <th>sex</th>\n",
       "      <th>chestpain</th>\n",
       "      <th>restbps</th>\n",
       "      <th>chol</th>\n",
       "      <th>fbsugar</th>\n",
       "      <th>restecg</th>\n",
       "      <th>maxheartrate</th>\n",
       "      <th>exangina</th>\n",
       "      <th>STdepression</th>\n",
       "      <th>STsegment</th>\n",
       "      <th>majorvessel</th>\n",
       "      <th>thalassemia</th>\n",
       "      <th>heart</th>\n",
       "    </tr>\n",
       "  </thead>\n",
       "  <tbody>\n",
       "    <tr>\n",
       "      <td>0</td>\n",
       "      <td>64</td>\n",
       "      <td>0</td>\n",
       "      <td>4</td>\n",
       "      <td>155</td>\n",
       "      <td>325</td>\n",
       "      <td>0</td>\n",
       "      <td>0</td>\n",
       "      <td>145</td>\n",
       "      <td>0</td>\n",
       "      <td>1.2</td>\n",
       "      <td>2</td>\n",
       "      <td>0.0</td>\n",
       "      <td>3.0</td>\n",
       "      <td>0</td>\n",
       "    </tr>\n",
       "    <tr>\n",
       "      <td>1</td>\n",
       "      <td>57</td>\n",
       "      <td>1</td>\n",
       "      <td>4</td>\n",
       "      <td>110</td>\n",
       "      <td>239</td>\n",
       "      <td>0</td>\n",
       "      <td>0</td>\n",
       "      <td>120</td>\n",
       "      <td>1</td>\n",
       "      <td>3.0</td>\n",
       "      <td>2</td>\n",
       "      <td>1.0</td>\n",
       "      <td>7.0</td>\n",
       "      <td>3</td>\n",
       "    </tr>\n",
       "    <tr>\n",
       "      <td>2</td>\n",
       "      <td>50</td>\n",
       "      <td>0</td>\n",
       "      <td>3</td>\n",
       "      <td>120</td>\n",
       "      <td>248</td>\n",
       "      <td>0</td>\n",
       "      <td>0</td>\n",
       "      <td>154</td>\n",
       "      <td>0</td>\n",
       "      <td>0.3</td>\n",
       "      <td>2</td>\n",
       "      <td>0.0</td>\n",
       "      <td>3.0</td>\n",
       "      <td>0</td>\n",
       "    </tr>\n",
       "    <tr>\n",
       "      <td>3</td>\n",
       "      <td>54</td>\n",
       "      <td>0</td>\n",
       "      <td>4</td>\n",
       "      <td>123</td>\n",
       "      <td>209</td>\n",
       "      <td>0</td>\n",
       "      <td>0</td>\n",
       "      <td>143</td>\n",
       "      <td>1</td>\n",
       "      <td>0.8</td>\n",
       "      <td>1</td>\n",
       "      <td>0.0</td>\n",
       "      <td>3.0</td>\n",
       "      <td>0</td>\n",
       "    </tr>\n",
       "    <tr>\n",
       "      <td>4</td>\n",
       "      <td>69</td>\n",
       "      <td>1</td>\n",
       "      <td>3</td>\n",
       "      <td>130</td>\n",
       "      <td>208</td>\n",
       "      <td>0</td>\n",
       "      <td>0</td>\n",
       "      <td>146</td>\n",
       "      <td>0</td>\n",
       "      <td>0.4</td>\n",
       "      <td>2</td>\n",
       "      <td>1.0</td>\n",
       "      <td>3.0</td>\n",
       "      <td>0</td>\n",
       "    </tr>\n",
       "    <tr>\n",
       "      <td>...</td>\n",
       "      <td>...</td>\n",
       "      <td>...</td>\n",
       "      <td>...</td>\n",
       "      <td>...</td>\n",
       "      <td>...</td>\n",
       "      <td>...</td>\n",
       "      <td>...</td>\n",
       "      <td>...</td>\n",
       "      <td>...</td>\n",
       "      <td>...</td>\n",
       "      <td>...</td>\n",
       "      <td>...</td>\n",
       "      <td>...</td>\n",
       "      <td>...</td>\n",
       "    </tr>\n",
       "    <tr>\n",
       "      <td>69995</td>\n",
       "      <td>53</td>\n",
       "      <td>1</td>\n",
       "      <td>4</td>\n",
       "      <td>110</td>\n",
       "      <td>233</td>\n",
       "      <td>0</td>\n",
       "      <td>0</td>\n",
       "      <td>126</td>\n",
       "      <td>1</td>\n",
       "      <td>1.0</td>\n",
       "      <td>2</td>\n",
       "      <td>0.0</td>\n",
       "      <td>3.0</td>\n",
       "      <td>0</td>\n",
       "    </tr>\n",
       "    <tr>\n",
       "      <td>69996</td>\n",
       "      <td>48</td>\n",
       "      <td>1</td>\n",
       "      <td>4</td>\n",
       "      <td>124</td>\n",
       "      <td>256</td>\n",
       "      <td>0</td>\n",
       "      <td>2</td>\n",
       "      <td>166</td>\n",
       "      <td>0</td>\n",
       "      <td>0.5</td>\n",
       "      <td>2</td>\n",
       "      <td>1.0</td>\n",
       "      <td>7.0</td>\n",
       "      <td>3</td>\n",
       "    </tr>\n",
       "    <tr>\n",
       "      <td>69997</td>\n",
       "      <td>56</td>\n",
       "      <td>1</td>\n",
       "      <td>2</td>\n",
       "      <td>130</td>\n",
       "      <td>232</td>\n",
       "      <td>0</td>\n",
       "      <td>2</td>\n",
       "      <td>152</td>\n",
       "      <td>0</td>\n",
       "      <td>0.4</td>\n",
       "      <td>2</td>\n",
       "      <td>0.0</td>\n",
       "      <td>6.0</td>\n",
       "      <td>1</td>\n",
       "    </tr>\n",
       "    <tr>\n",
       "      <td>69998</td>\n",
       "      <td>59</td>\n",
       "      <td>0</td>\n",
       "      <td>4</td>\n",
       "      <td>145</td>\n",
       "      <td>294</td>\n",
       "      <td>0</td>\n",
       "      <td>2</td>\n",
       "      <td>146</td>\n",
       "      <td>0</td>\n",
       "      <td>2.6</td>\n",
       "      <td>2</td>\n",
       "      <td>2.0</td>\n",
       "      <td>7.0</td>\n",
       "      <td>1</td>\n",
       "    </tr>\n",
       "    <tr>\n",
       "      <td>69999</td>\n",
       "      <td>48</td>\n",
       "      <td>1</td>\n",
       "      <td>4</td>\n",
       "      <td>120</td>\n",
       "      <td>186</td>\n",
       "      <td>0</td>\n",
       "      <td>0</td>\n",
       "      <td>118</td>\n",
       "      <td>1</td>\n",
       "      <td>2.4</td>\n",
       "      <td>2</td>\n",
       "      <td>0.0</td>\n",
       "      <td>7.0</td>\n",
       "      <td>3</td>\n",
       "    </tr>\n",
       "  </tbody>\n",
       "</table>\n",
       "<p>70000 rows × 14 columns</p>\n",
       "</div>"
      ],
      "text/plain": [
       "       age  sex  chestpain  restbps  chol  fbsugar  restecg  maxheartrate  \\\n",
       "0       64    0          4      155   325        0        0           145   \n",
       "1       57    1          4      110   239        0        0           120   \n",
       "2       50    0          3      120   248        0        0           154   \n",
       "3       54    0          4      123   209        0        0           143   \n",
       "4       69    1          3      130   208        0        0           146   \n",
       "...    ...  ...        ...      ...   ...      ...      ...           ...   \n",
       "69995   53    1          4      110   233        0        0           126   \n",
       "69996   48    1          4      124   256        0        2           166   \n",
       "69997   56    1          2      130   232        0        2           152   \n",
       "69998   59    0          4      145   294        0        2           146   \n",
       "69999   48    1          4      120   186        0        0           118   \n",
       "\n",
       "       exangina  STdepression  STsegment  majorvessel  thalassemia  heart  \n",
       "0             0           1.2          2          0.0          3.0      0  \n",
       "1             1           3.0          2          1.0          7.0      3  \n",
       "2             0           0.3          2          0.0          3.0      0  \n",
       "3             1           0.8          1          0.0          3.0      0  \n",
       "4             0           0.4          2          1.0          3.0      0  \n",
       "...         ...           ...        ...          ...          ...    ...  \n",
       "69995         1           1.0          2          0.0          3.0      0  \n",
       "69996         0           0.5          2          1.0          7.0      3  \n",
       "69997         0           0.4          2          0.0          6.0      1  \n",
       "69998         0           2.6          2          2.0          7.0      1  \n",
       "69999         1           2.4          2          0.0          7.0      3  \n",
       "\n",
       "[70000 rows x 14 columns]"
      ]
     },
     "metadata": {},
     "output_type": "display_data"
    }
   ],
   "source": [
    "#Displaying the dataset:\n",
    "display(hospital_temp)"
   ]
  },
  {
   "cell_type": "markdown",
   "metadata": {},
   "source": [
    "We can observe the variable - heart - is our outcome, with each row or observation corresponding to a patient presentation to hospital"
   ]
  },
  {
   "cell_type": "markdown",
   "metadata": {},
   "source": [
    "#### Univariate Vizualisation of age"
   ]
  },
  {
   "cell_type": "code",
   "execution_count": 8,
   "metadata": {},
   "outputs": [
    {
     "name": "stderr",
     "output_type": "stream",
     "text": [
      "C:\\ProgramData\\Anaconda3\\lib\\site-packages\\plotnine\\scales\\scale.py:93: MatplotlibDeprecationWarning: \n",
      "The iterable function was deprecated in Matplotlib 3.1 and will be removed in 3.3. Use np.iterable instead.\n",
      "  if cbook.iterable(self.breaks) and cbook.iterable(self.labels):\n",
      "C:\\ProgramData\\Anaconda3\\lib\\site-packages\\plotnine\\utils.py:553: MatplotlibDeprecationWarning: \n",
      "The iterable function was deprecated in Matplotlib 3.1 and will be removed in 3.3. Use np.iterable instead.\n",
      "  return cbook.iterable(var) and not is_string(var)\n"
     ]
    },
    {
     "data": {
      "image/png": "[encoded data removed]",
      "text/plain": [
       "<Figure size 640x480 with 1 Axes>"
      ]
     },
     "metadata": {},
     "output_type": "display_data"
    },
    {
     "data": {
      "text/plain": [
       "<ggplot: (-9223371892575596158)>"
      ]
     },
     "execution_count": 8,
     "metadata": {},
     "output_type": "execute_result"
    }
   ],
   "source": [
    "p = ggplot(aes(x='age', fill='age'), data=hospital_temp)\n",
    "p + geom_bar() + ggtitle(\"Age Histogram\") "
   ]
  },
  {
   "cell_type": "markdown",
   "metadata": {},
   "source": [
    "#### Descriptive Statistics for Age:"
   ]
  },
  {
   "cell_type": "code",
   "execution_count": 9,
   "metadata": {},
   "outputs": [
    {
     "data": {
      "text/plain": [
       "count    70000.000000\n",
       "mean        54.366386\n",
       "std          8.999630\n",
       "min         29.000000\n",
       "25%         47.000000\n",
       "50%         55.000000\n",
       "75%         61.000000\n",
       "max         77.000000\n",
       "Name: age, dtype: float64"
      ]
     },
     "execution_count": 9,
     "metadata": {},
     "output_type": "execute_result"
    }
   ],
   "source": [
    "hospital_temp['age'].describe()"
   ]
  },
  {
   "cell_type": "markdown",
   "metadata": {},
   "source": [
    "We can observe minimum age is 29 years, maximum age is 77 years with a mean age of 54 years."
   ]
  },
  {
   "cell_type": "markdown",
   "metadata": {},
   "source": [
    "#### Univariate Sex Histogram"
   ]
  },
  {
   "cell_type": "code",
   "execution_count": 10,
   "metadata": {},
   "outputs": [
    {
     "name": "stderr",
     "output_type": "stream",
     "text": [
      "C:\\ProgramData\\Anaconda3\\lib\\site-packages\\plotnine\\scales\\scale.py:93: MatplotlibDeprecationWarning: \n",
      "The iterable function was deprecated in Matplotlib 3.1 and will be removed in 3.3. Use np.iterable instead.\n",
      "  if cbook.iterable(self.breaks) and cbook.iterable(self.labels):\n",
      "C:\\ProgramData\\Anaconda3\\lib\\site-packages\\plotnine\\utils.py:553: MatplotlibDeprecationWarning: \n",
      "The iterable function was deprecated in Matplotlib 3.1 and will be removed in 3.3. Use np.iterable instead.\n",
      "  return cbook.iterable(var) and not is_string(var)\n"
     ]
    },
    {
     "data": {
      "image/png": "[encoded data removed]",
      "text/plain": [
       "<Figure size 640x480 with 1 Axes>"
      ]
     },
     "metadata": {},
     "output_type": "display_data"
    },
    {
     "data": {
      "text/plain": [
       "<ggplot: (-9223371892575448853)>"
      ]
     },
     "execution_count": 10,
     "metadata": {},
     "output_type": "execute_result"
    }
   ],
   "source": [
    "p = ggplot(aes(x='sex', fill='sex'), data=hospital_temp)\n",
    "p + geom_bar() + ggtitle(\"Sex Histogram\") "
   ]
  },
  {
   "cell_type": "markdown",
   "metadata": {},
   "source": [
    "#### Descriptive Statistics (Counts) for Sex:"
   ]
  },
  {
   "cell_type": "code",
   "execution_count": 11,
   "metadata": {},
   "outputs": [
    {
     "data": {
      "text/html": [
       "<div>\n",
       "<style scoped>\n",
       "    .dataframe tbody tr th:only-of-type {\n",
       "        vertical-align: middle;\n",
       "    }\n",
       "\n",
       "    .dataframe tbody tr th {\n",
       "        vertical-align: top;\n",
       "    }\n",
       "\n",
       "    .dataframe thead th {\n",
       "        text-align: right;\n",
       "    }\n",
       "</style>\n",
       "<table border=\"1\" class=\"dataframe\">\n",
       "  <thead>\n",
       "    <tr style=\"text-align: right;\">\n",
       "      <th>col_0</th>\n",
       "      <th>count</th>\n",
       "    </tr>\n",
       "    <tr>\n",
       "      <th>sex</th>\n",
       "      <th></th>\n",
       "    </tr>\n",
       "  </thead>\n",
       "  <tbody>\n",
       "    <tr>\n",
       "      <td>0</td>\n",
       "      <td>22371</td>\n",
       "    </tr>\n",
       "    <tr>\n",
       "      <td>1</td>\n",
       "      <td>47629</td>\n",
       "    </tr>\n",
       "  </tbody>\n",
       "</table>\n",
       "</div>"
      ],
      "text/plain": [
       "col_0  count\n",
       "sex         \n",
       "0      22371\n",
       "1      47629"
      ]
     },
     "execution_count": 11,
     "metadata": {},
     "output_type": "execute_result"
    }
   ],
   "source": [
    "my_tab = pd.crosstab(hospital_temp['sex'],  # Make a crosstab\n",
    "                              columns=\"count\")      # Name the count column\n",
    "my_tab"
   ]
  },
  {
   "cell_type": "markdown",
   "metadata": {},
   "source": [
    "Observation: We can see there is over double the amount of males to females."
   ]
  },
  {
   "cell_type": "markdown",
   "metadata": {},
   "source": [
    "#### Univariate chest pain histogram"
   ]
  },
  {
   "cell_type": "code",
   "execution_count": 12,
   "metadata": {},
   "outputs": [
    {
     "name": "stderr",
     "output_type": "stream",
     "text": [
      "C:\\ProgramData\\Anaconda3\\lib\\site-packages\\plotnine\\scales\\scale.py:93: MatplotlibDeprecationWarning: \n",
      "The iterable function was deprecated in Matplotlib 3.1 and will be removed in 3.3. Use np.iterable instead.\n",
      "  if cbook.iterable(self.breaks) and cbook.iterable(self.labels):\n",
      "C:\\ProgramData\\Anaconda3\\lib\\site-packages\\plotnine\\utils.py:553: MatplotlibDeprecationWarning: \n",
      "The iterable function was deprecated in Matplotlib 3.1 and will be removed in 3.3. Use np.iterable instead.\n",
      "  return cbook.iterable(var) and not is_string(var)\n"
     ]
    },
    {
     "data": {
      "image/png": "[encoded data removed]",
      "text/plain": [
       "<Figure size 640x480 with 1 Axes>"
      ]
     },
     "metadata": {},
     "output_type": "display_data"
    },
    {
     "data": {
      "text/plain": [
       "<ggplot: (144279335025)>"
      ]
     },
     "execution_count": 12,
     "metadata": {},
     "output_type": "execute_result"
    }
   ],
   "source": [
    "p = ggplot(aes(x='chestpain', fill='chestpain'), data=hospital_temp)\n",
    "p + geom_bar() + ggtitle(\"Chest Pain Histogram\") "
   ]
  },
  {
   "cell_type": "markdown",
   "metadata": {},
   "source": [
    "#### Descriptive Statistics (Counts) for Chest Pain status:"
   ]
  },
  {
   "cell_type": "code",
   "execution_count": 13,
   "metadata": {},
   "outputs": [
    {
     "data": {
      "text/html": [
       "<div>\n",
       "<style scoped>\n",
       "    .dataframe tbody tr th:only-of-type {\n",
       "        vertical-align: middle;\n",
       "    }\n",
       "\n",
       "    .dataframe tbody tr th {\n",
       "        vertical-align: top;\n",
       "    }\n",
       "\n",
       "    .dataframe thead th {\n",
       "        text-align: right;\n",
       "    }\n",
       "</style>\n",
       "<table border=\"1\" class=\"dataframe\">\n",
       "  <thead>\n",
       "    <tr style=\"text-align: right;\">\n",
       "      <th>col_0</th>\n",
       "      <th>count</th>\n",
       "    </tr>\n",
       "    <tr>\n",
       "      <th>chestpain</th>\n",
       "      <th></th>\n",
       "    </tr>\n",
       "  </thead>\n",
       "  <tbody>\n",
       "    <tr>\n",
       "      <td>1</td>\n",
       "      <td>5302</td>\n",
       "    </tr>\n",
       "    <tr>\n",
       "      <td>2</td>\n",
       "      <td>11447</td>\n",
       "    </tr>\n",
       "    <tr>\n",
       "      <td>3</td>\n",
       "      <td>19775</td>\n",
       "    </tr>\n",
       "    <tr>\n",
       "      <td>4</td>\n",
       "      <td>33476</td>\n",
       "    </tr>\n",
       "  </tbody>\n",
       "</table>\n",
       "</div>"
      ],
      "text/plain": [
       "col_0      count\n",
       "chestpain       \n",
       "1           5302\n",
       "2          11447\n",
       "3          19775\n",
       "4          33476"
      ]
     },
     "execution_count": 13,
     "metadata": {},
     "output_type": "execute_result"
    }
   ],
   "source": [
    "my_tab = pd.crosstab(hospital_temp['chestpain'],  # Make a crosstab\n",
    "                              columns=\"count\")      # Name the count column\n",
    "my_tab"
   ]
  },
  {
   "cell_type": "markdown",
   "metadata": {},
   "source": [
    "We can observe asymptomatic chest pain is most common, followed by non-anginal pain, atypical angina and finally typical angina."
   ]
  },
  {
   "cell_type": "markdown",
   "metadata": {},
   "source": [
    "#### Univariate of Resting blood pressure in mmHg -  restbps -  histogram"
   ]
  },
  {
   "cell_type": "code",
   "execution_count": 14,
   "metadata": {},
   "outputs": [
    {
     "name": "stderr",
     "output_type": "stream",
     "text": [
      "C:\\ProgramData\\Anaconda3\\lib\\site-packages\\plotnine\\scales\\scale.py:93: MatplotlibDeprecationWarning: \n",
      "The iterable function was deprecated in Matplotlib 3.1 and will be removed in 3.3. Use np.iterable instead.\n",
      "  if cbook.iterable(self.breaks) and cbook.iterable(self.labels):\n",
      "C:\\ProgramData\\Anaconda3\\lib\\site-packages\\plotnine\\utils.py:553: MatplotlibDeprecationWarning: \n",
      "The iterable function was deprecated in Matplotlib 3.1 and will be removed in 3.3. Use np.iterable instead.\n",
      "  return cbook.iterable(var) and not is_string(var)\n"
     ]
    },
    {
     "data": {
      "image/png": "[encoded data removed]",
      "text/plain": [
       "<Figure size 640x480 with 1 Axes>"
      ]
     },
     "metadata": {},
     "output_type": "display_data"
    },
    {
     "data": {
      "text/plain": [
       "<ggplot: (-9223371892575444599)>"
      ]
     },
     "execution_count": 14,
     "metadata": {},
     "output_type": "execute_result"
    }
   ],
   "source": [
    "p = ggplot(aes(x='restbps', fill='restbps'), data=hospital_temp)\n",
    "p + geom_density() + ggtitle(\"restbps Histogram\") "
   ]
  },
  {
   "cell_type": "markdown",
   "metadata": {},
   "source": [
    "#### Descriptive Statistics for resting blood pressure"
   ]
  },
  {
   "cell_type": "code",
   "execution_count": 15,
   "metadata": {},
   "outputs": [
    {
     "data": {
      "text/plain": [
       "count    70000.000000\n",
       "mean       131.398100\n",
       "std         17.221978\n",
       "min         94.000000\n",
       "25%        120.000000\n",
       "50%        130.000000\n",
       "75%        140.000000\n",
       "max        200.000000\n",
       "Name: restbps, dtype: float64"
      ]
     },
     "execution_count": 15,
     "metadata": {},
     "output_type": "execute_result"
    }
   ],
   "source": [
    "hospital_temp['restbps'].describe(include='all')"
   ]
  },
  {
   "cell_type": "markdown",
   "metadata": {},
   "source": [
    "We can observe that the maximum resting BP is 200mmHg, minimum is 94mmHg with a mean resting bpm of 131mmHg."
   ]
  },
  {
   "cell_type": "markdown",
   "metadata": {},
   "source": [
    "#### Univariate Density Plot of serum cholesterol in mg/dl"
   ]
  },
  {
   "cell_type": "code",
   "execution_count": 16,
   "metadata": {},
   "outputs": [
    {
     "name": "stderr",
     "output_type": "stream",
     "text": [
      "C:\\ProgramData\\Anaconda3\\lib\\site-packages\\plotnine\\scales\\scale.py:93: MatplotlibDeprecationWarning: \n",
      "The iterable function was deprecated in Matplotlib 3.1 and will be removed in 3.3. Use np.iterable instead.\n",
      "  if cbook.iterable(self.breaks) and cbook.iterable(self.labels):\n",
      "C:\\ProgramData\\Anaconda3\\lib\\site-packages\\plotnine\\utils.py:553: MatplotlibDeprecationWarning: \n",
      "The iterable function was deprecated in Matplotlib 3.1 and will be removed in 3.3. Use np.iterable instead.\n",
      "  return cbook.iterable(var) and not is_string(var)\n"
     ]
    },
    {
     "data": {
      "image/png": "[encoded data removed]",
      "text/plain": [
       "<Figure size 640x480 with 1 Axes>"
      ]
     },
     "metadata": {},
     "output_type": "display_data"
    },
    {
     "data": {
      "text/plain": [
       "<ggplot: (-9223371892575592672)>"
      ]
     },
     "execution_count": 16,
     "metadata": {},
     "output_type": "execute_result"
    }
   ],
   "source": [
    "p = ggplot(aes(x='chol', fill='chol'), data=hospital_temp)\n",
    "p + geom_density() + ggtitle(\" Serum Cholesterol Histogram\") "
   ]
  },
  {
   "cell_type": "markdown",
   "metadata": {},
   "source": [
    "#### Descriptive Statistics for Serum Cholesterol "
   ]
  },
  {
   "cell_type": "code",
   "execution_count": 17,
   "metadata": {},
   "outputs": [
    {
     "data": {
      "text/plain": [
       "count    70000.000000\n",
       "mean       246.873214\n",
       "std         52.438289\n",
       "min        100.000000\n",
       "25%        211.000000\n",
       "50%        243.000000\n",
       "75%        276.000000\n",
       "max        564.000000\n",
       "Name: chol, dtype: float64"
      ]
     },
     "execution_count": 17,
     "metadata": {},
     "output_type": "execute_result"
    }
   ],
   "source": [
    "hospital_temp['chol'].describe(include='all')"
   ]
  },
  {
   "cell_type": "markdown",
   "metadata": {},
   "source": [
    "We can observe a minimum serum cholesterol of 100, maximum of 564 with a mean of 246. \n",
    "\n",
    "Observation 1: It appears that values above 500 may be outliers. However, in the context of serum cholestrol\n",
    "as level of 300 to 600mg/dL is clinically relevant and may indicate such conditions as familial hypercholesterolemia. On these grounds we will not remove these maximums as outliers as they are clinically relevant though extreme."
   ]
  },
  {
   "cell_type": "markdown",
   "metadata": {},
   "source": [
    "#### Histogram of Fasting Blood Sugar levels"
   ]
  },
  {
   "cell_type": "code",
   "execution_count": 18,
   "metadata": {},
   "outputs": [
    {
     "name": "stderr",
     "output_type": "stream",
     "text": [
      "C:\\ProgramData\\Anaconda3\\lib\\site-packages\\plotnine\\scales\\scale.py:93: MatplotlibDeprecationWarning: \n",
      "The iterable function was deprecated in Matplotlib 3.1 and will be removed in 3.3. Use np.iterable instead.\n",
      "  if cbook.iterable(self.breaks) and cbook.iterable(self.labels):\n",
      "C:\\ProgramData\\Anaconda3\\lib\\site-packages\\plotnine\\utils.py:553: MatplotlibDeprecationWarning: \n",
      "The iterable function was deprecated in Matplotlib 3.1 and will be removed in 3.3. Use np.iterable instead.\n",
      "  return cbook.iterable(var) and not is_string(var)\n"
     ]
    },
    {
     "data": {
      "image/png": "[encoded data removed]",
      "text/plain": [
       "<Figure size 640x480 with 1 Axes>"
      ]
     },
     "metadata": {},
     "output_type": "display_data"
    },
    {
     "data": {
      "text/plain": [
       "<ggplot: (144279304789)>"
      ]
     },
     "execution_count": 18,
     "metadata": {},
     "output_type": "execute_result"
    }
   ],
   "source": [
    "p = ggplot(aes(x='fbsugar', fill='fbsugar'), data=hospital_temp)\n",
    "p + geom_bar() + ggtitle(\"Fasting Blood Sugar Histogram\") "
   ]
  },
  {
   "cell_type": "markdown",
   "metadata": {},
   "source": [
    "#### Descriptive Statistics (Counts) for Fasting Blood Sugar Levels"
   ]
  },
  {
   "cell_type": "code",
   "execution_count": 19,
   "metadata": {},
   "outputs": [
    {
     "data": {
      "text/html": [
       "<div>\n",
       "<style scoped>\n",
       "    .dataframe tbody tr th:only-of-type {\n",
       "        vertical-align: middle;\n",
       "    }\n",
       "\n",
       "    .dataframe tbody tr th {\n",
       "        vertical-align: top;\n",
       "    }\n",
       "\n",
       "    .dataframe thead th {\n",
       "        text-align: right;\n",
       "    }\n",
       "</style>\n",
       "<table border=\"1\" class=\"dataframe\">\n",
       "  <thead>\n",
       "    <tr style=\"text-align: right;\">\n",
       "      <th>col_0</th>\n",
       "      <th>count</th>\n",
       "    </tr>\n",
       "    <tr>\n",
       "      <th>fbsugar</th>\n",
       "      <th></th>\n",
       "    </tr>\n",
       "  </thead>\n",
       "  <tbody>\n",
       "    <tr>\n",
       "      <td>0</td>\n",
       "      <td>59950</td>\n",
       "    </tr>\n",
       "    <tr>\n",
       "      <td>1</td>\n",
       "      <td>10050</td>\n",
       "    </tr>\n",
       "  </tbody>\n",
       "</table>\n",
       "</div>"
      ],
      "text/plain": [
       "col_0    count\n",
       "fbsugar       \n",
       "0        59950\n",
       "1        10050"
      ]
     },
     "execution_count": 19,
     "metadata": {},
     "output_type": "execute_result"
    }
   ],
   "source": [
    "my_tab = pd.crosstab(hospital_temp['fbsugar'],  # Make a crosstab\n",
    "                              columns=\"count\")      # Name the count column\n",
    "my_tab"
   ]
  },
  {
   "cell_type": "markdown",
   "metadata": {},
   "source": [
    "We can observe that a significantly smaller portion of the population have fasting blood sugar > 120mg/dl {1} than \n",
    "fasting blood sugar levels less than or equal to 120mg/dl"
   ]
  },
  {
   "cell_type": "markdown",
   "metadata": {},
   "source": [
    "#### Histogram of Resting ECG Results"
   ]
  },
  {
   "cell_type": "code",
   "execution_count": 20,
   "metadata": {
    "scrolled": false
   },
   "outputs": [
    {
     "name": "stderr",
     "output_type": "stream",
     "text": [
      "C:\\ProgramData\\Anaconda3\\lib\\site-packages\\plotnine\\scales\\scale.py:93: MatplotlibDeprecationWarning: \n",
      "The iterable function was deprecated in Matplotlib 3.1 and will be removed in 3.3. Use np.iterable instead.\n",
      "  if cbook.iterable(self.breaks) and cbook.iterable(self.labels):\n",
      "C:\\ProgramData\\Anaconda3\\lib\\site-packages\\plotnine\\utils.py:553: MatplotlibDeprecationWarning: \n",
      "The iterable function was deprecated in Matplotlib 3.1 and will be removed in 3.3. Use np.iterable instead.\n",
      "  return cbook.iterable(var) and not is_string(var)\n"
     ]
    },
    {
     "data": {
      "image/png": "[encoded data removed]",
      "text/plain": [
       "<Figure size 640x480 with 1 Axes>"
      ]
     },
     "metadata": {},
     "output_type": "display_data"
    },
    {
     "data": {
      "text/plain": [
       "<ggplot: (144149939432)>"
      ]
     },
     "execution_count": 20,
     "metadata": {},
     "output_type": "execute_result"
    }
   ],
   "source": [
    "p = ggplot(aes(x='restecg', fill='restecg'), data=hospital_temp)\n",
    "p + geom_bar() + ggtitle(\"Resting ECG Histogram\") "
   ]
  },
  {
   "cell_type": "markdown",
   "metadata": {},
   "source": [
    "#### Descriptive Statistics (Counts) for Resting ECG "
   ]
  },
  {
   "cell_type": "code",
   "execution_count": 21,
   "metadata": {},
   "outputs": [
    {
     "data": {
      "text/html": [
       "<div>\n",
       "<style scoped>\n",
       "    .dataframe tbody tr th:only-of-type {\n",
       "        vertical-align: middle;\n",
       "    }\n",
       "\n",
       "    .dataframe tbody tr th {\n",
       "        vertical-align: top;\n",
       "    }\n",
       "\n",
       "    .dataframe thead th {\n",
       "        text-align: right;\n",
       "    }\n",
       "</style>\n",
       "<table border=\"1\" class=\"dataframe\">\n",
       "  <thead>\n",
       "    <tr style=\"text-align: right;\">\n",
       "      <th>col_0</th>\n",
       "      <th>count</th>\n",
       "    </tr>\n",
       "    <tr>\n",
       "      <th>restecg</th>\n",
       "      <th></th>\n",
       "    </tr>\n",
       "  </thead>\n",
       "  <tbody>\n",
       "    <tr>\n",
       "      <td>0</td>\n",
       "      <td>35031</td>\n",
       "    </tr>\n",
       "    <tr>\n",
       "      <td>1</td>\n",
       "      <td>931</td>\n",
       "    </tr>\n",
       "    <tr>\n",
       "      <td>2</td>\n",
       "      <td>34038</td>\n",
       "    </tr>\n",
       "  </tbody>\n",
       "</table>\n",
       "</div>"
      ],
      "text/plain": [
       "col_0    count\n",
       "restecg       \n",
       "0        35031\n",
       "1          931\n",
       "2        34038"
      ]
     },
     "execution_count": 21,
     "metadata": {},
     "output_type": "execute_result"
    }
   ],
   "source": [
    "my_tab = pd.crosstab(hospital_temp['restecg'],  # Make a crosstab\n",
    "                              columns=\"count\")      # Name the count column\n",
    "my_tab"
   ]
  },
  {
   "cell_type": "markdown",
   "metadata": {},
   "source": [
    "We can observe that a large portion of the population have normal resting ECGs and left ventricular hypertrophy with \n",
    "a far smaller proportion having ST-T abnormalities."
   ]
  },
  {
   "cell_type": "markdown",
   "metadata": {},
   "source": [
    "#### Density plot of Maxiumum Heart Rate"
   ]
  },
  {
   "cell_type": "code",
   "execution_count": 22,
   "metadata": {},
   "outputs": [
    {
     "name": "stderr",
     "output_type": "stream",
     "text": [
      "C:\\ProgramData\\Anaconda3\\lib\\site-packages\\plotnine\\scales\\scale.py:93: MatplotlibDeprecationWarning: \n",
      "The iterable function was deprecated in Matplotlib 3.1 and will be removed in 3.3. Use np.iterable instead.\n",
      "  if cbook.iterable(self.breaks) and cbook.iterable(self.labels):\n",
      "C:\\ProgramData\\Anaconda3\\lib\\site-packages\\plotnine\\utils.py:553: MatplotlibDeprecationWarning: \n",
      "The iterable function was deprecated in Matplotlib 3.1 and will be removed in 3.3. Use np.iterable instead.\n",
      "  return cbook.iterable(var) and not is_string(var)\n"
     ]
    },
    {
     "data": {
      "image/png": "[encoded data removed]",
      "text/plain": [
       "<Figure size 640x480 with 1 Axes>"
      ]
     },
     "metadata": {},
     "output_type": "display_data"
    },
    {
     "data": {
      "text/plain": [
       "<ggplot: (-9223371892704901586)>"
      ]
     },
     "execution_count": 22,
     "metadata": {},
     "output_type": "execute_result"
    }
   ],
   "source": [
    "p = ggplot(aes(x='maxheartrate', fill='maxheartrate'), data=hospital_temp)\n",
    "p + geom_density() + ggtitle(\"Max Heart Rate Histogram\") "
   ]
  },
  {
   "cell_type": "markdown",
   "metadata": {},
   "source": [
    "#### Descriptive Statistics for Max Heart Rate"
   ]
  },
  {
   "cell_type": "code",
   "execution_count": 23,
   "metadata": {},
   "outputs": [
    {
     "data": {
      "text/plain": [
       "count    70000.000000\n",
       "mean       149.388857\n",
       "std         23.314058\n",
       "min         71.000000\n",
       "25%        132.000000\n",
       "50%        153.000000\n",
       "75%        166.000000\n",
       "max        202.000000\n",
       "Name: maxheartrate, dtype: float64"
      ]
     },
     "execution_count": 23,
     "metadata": {},
     "output_type": "execute_result"
    }
   ],
   "source": [
    "hospital_temp['maxheartrate'].describe(include='all')"
   ]
  },
  {
   "cell_type": "markdown",
   "metadata": {},
   "source": [
    "We can observe a minimum Max heart rate of 71bpm with a maximum Max heart rate of 202bpm and a mean of 149bpm."
   ]
  },
  {
   "cell_type": "markdown",
   "metadata": {},
   "source": [
    "#### Histogram of Exercise-Induced Angina"
   ]
  },
  {
   "cell_type": "code",
   "execution_count": 24,
   "metadata": {},
   "outputs": [
    {
     "name": "stderr",
     "output_type": "stream",
     "text": [
      "C:\\ProgramData\\Anaconda3\\lib\\site-packages\\plotnine\\scales\\scale.py:93: MatplotlibDeprecationWarning: \n",
      "The iterable function was deprecated in Matplotlib 3.1 and will be removed in 3.3. Use np.iterable instead.\n",
      "  if cbook.iterable(self.breaks) and cbook.iterable(self.labels):\n",
      "C:\\ProgramData\\Anaconda3\\lib\\site-packages\\plotnine\\utils.py:553: MatplotlibDeprecationWarning: \n",
      "The iterable function was deprecated in Matplotlib 3.1 and will be removed in 3.3. Use np.iterable instead.\n",
      "  return cbook.iterable(var) and not is_string(var)\n"
     ]
    },
    {
     "data": {
      "image/png": "[encoded data removed]",
      "text/plain": [
       "<Figure size 640x480 with 1 Axes>"
      ]
     },
     "metadata": {},
     "output_type": "display_data"
    },
    {
     "data": {
      "text/plain": [
       "<ggplot: (-9223371892704869702)>"
      ]
     },
     "execution_count": 24,
     "metadata": {},
     "output_type": "execute_result"
    }
   ],
   "source": [
    "p = ggplot(aes(x='exangina', fill='exangina'), data=hospital_temp)\n",
    "p + geom_bar() + ggtitle(\"Excercise-Induced Angina Histogram\") \n"
   ]
  },
  {
   "cell_type": "markdown",
   "metadata": {},
   "source": [
    "#### Counts for Exercise-Induced Angina:"
   ]
  },
  {
   "cell_type": "code",
   "execution_count": 25,
   "metadata": {},
   "outputs": [
    {
     "data": {
      "text/html": [
       "<div>\n",
       "<style scoped>\n",
       "    .dataframe tbody tr th:only-of-type {\n",
       "        vertical-align: middle;\n",
       "    }\n",
       "\n",
       "    .dataframe tbody tr th {\n",
       "        vertical-align: top;\n",
       "    }\n",
       "\n",
       "    .dataframe thead th {\n",
       "        text-align: right;\n",
       "    }\n",
       "</style>\n",
       "<table border=\"1\" class=\"dataframe\">\n",
       "  <thead>\n",
       "    <tr style=\"text-align: right;\">\n",
       "      <th>col_0</th>\n",
       "      <th>count</th>\n",
       "    </tr>\n",
       "    <tr>\n",
       "      <th>exangina</th>\n",
       "      <th></th>\n",
       "    </tr>\n",
       "  </thead>\n",
       "  <tbody>\n",
       "    <tr>\n",
       "      <td>0</td>\n",
       "      <td>46914</td>\n",
       "    </tr>\n",
       "    <tr>\n",
       "      <td>1</td>\n",
       "      <td>23086</td>\n",
       "    </tr>\n",
       "  </tbody>\n",
       "</table>\n",
       "</div>"
      ],
      "text/plain": [
       "col_0     count\n",
       "exangina       \n",
       "0         46914\n",
       "1         23086"
      ]
     },
     "execution_count": 25,
     "metadata": {},
     "output_type": "execute_result"
    }
   ],
   "source": [
    "my_tab = pd.crosstab(hospital_temp['exangina'],  # Make a crosstab\n",
    "                              columns=\"count\")      # Name the count column\n",
    "my_tab"
   ]
  },
  {
   "cell_type": "markdown",
   "metadata": {},
   "source": [
    "We can observe that there are far more patients without exercise induced angina {0} than those with {1}."
   ]
  },
  {
   "cell_type": "markdown",
   "metadata": {},
   "source": [
    "#### Histogram of thalassesmia Status"
   ]
  },
  {
   "cell_type": "code",
   "execution_count": 26,
   "metadata": {},
   "outputs": [
    {
     "name": "stderr",
     "output_type": "stream",
     "text": [
      "C:\\ProgramData\\Anaconda3\\lib\\site-packages\\plotnine\\scales\\scale.py:93: MatplotlibDeprecationWarning: \n",
      "The iterable function was deprecated in Matplotlib 3.1 and will be removed in 3.3. Use np.iterable instead.\n",
      "  if cbook.iterable(self.breaks) and cbook.iterable(self.labels):\n",
      "C:\\ProgramData\\Anaconda3\\lib\\site-packages\\plotnine\\layer.py:360: UserWarning: stat_count : Removed 465 rows containing non-finite values.\n",
      "  data = self.stat.compute_layer(data, params, layout)\n",
      "C:\\ProgramData\\Anaconda3\\lib\\site-packages\\plotnine\\utils.py:553: MatplotlibDeprecationWarning: \n",
      "The iterable function was deprecated in Matplotlib 3.1 and will be removed in 3.3. Use np.iterable instead.\n",
      "  return cbook.iterable(var) and not is_string(var)\n"
     ]
    },
    {
     "data": {
      "image/png": "[encoded data removed]",
      "text/plain": [
       "<Figure size 640x480 with 1 Axes>"
      ]
     },
     "metadata": {},
     "output_type": "display_data"
    },
    {
     "data": {
      "text/plain": [
       "<ggplot: (144149970703)>"
      ]
     },
     "execution_count": 26,
     "metadata": {},
     "output_type": "execute_result"
    }
   ],
   "source": [
    "p = ggplot(aes(x='thalassemia', fill='thalassemia'), data=hospital_temp)\n",
    "p + geom_bar() + ggtitle(\"thalassemia Histogram\") "
   ]
  },
  {
   "cell_type": "markdown",
   "metadata": {},
   "source": [
    "Observation: We can see that the feature thalassemia is coded as 3,6,7, however, this corresponds with the data dictionary."
   ]
  },
  {
   "cell_type": "markdown",
   "metadata": {},
   "source": [
    "#### Counts of thalassemia classification"
   ]
  },
  {
   "cell_type": "code",
   "execution_count": 27,
   "metadata": {},
   "outputs": [
    {
     "data": {
      "text/html": [
       "<div>\n",
       "<style scoped>\n",
       "    .dataframe tbody tr th:only-of-type {\n",
       "        vertical-align: middle;\n",
       "    }\n",
       "\n",
       "    .dataframe tbody tr th {\n",
       "        vertical-align: top;\n",
       "    }\n",
       "\n",
       "    .dataframe thead th {\n",
       "        text-align: right;\n",
       "    }\n",
       "</style>\n",
       "<table border=\"1\" class=\"dataframe\">\n",
       "  <thead>\n",
       "    <tr style=\"text-align: right;\">\n",
       "      <th>col_0</th>\n",
       "      <th>count</th>\n",
       "    </tr>\n",
       "    <tr>\n",
       "      <th>thalassemia</th>\n",
       "      <th></th>\n",
       "    </tr>\n",
       "  </thead>\n",
       "  <tbody>\n",
       "    <tr>\n",
       "      <td>3.0</td>\n",
       "      <td>38096</td>\n",
       "    </tr>\n",
       "    <tr>\n",
       "      <td>6.0</td>\n",
       "      <td>4500</td>\n",
       "    </tr>\n",
       "    <tr>\n",
       "      <td>7.0</td>\n",
       "      <td>26939</td>\n",
       "    </tr>\n",
       "  </tbody>\n",
       "</table>\n",
       "</div>"
      ],
      "text/plain": [
       "col_0        count\n",
       "thalassemia       \n",
       "3.0          38096\n",
       "6.0           4500\n",
       "7.0          26939"
      ]
     },
     "execution_count": 27,
     "metadata": {},
     "output_type": "execute_result"
    }
   ],
   "source": [
    "my_tab = pd.crosstab(hospital_temp['thalassemia'],  # Make a crosstab\n",
    "                              columns=\"count\")      # Name the count column\n",
    "my_tab"
   ]
  },
  {
   "cell_type": "markdown",
   "metadata": {},
   "source": [
    "We can observe fixed defects of thalassemia is least common, followed by reversible defect and finally normal status."
   ]
  },
  {
   "cell_type": "markdown",
   "metadata": {},
   "source": [
    "#### Histogram of the number of major vessels (0–3) colored by fluoroscopy"
   ]
  },
  {
   "cell_type": "code",
   "execution_count": 28,
   "metadata": {},
   "outputs": [
    {
     "name": "stderr",
     "output_type": "stream",
     "text": [
      "C:\\ProgramData\\Anaconda3\\lib\\site-packages\\plotnine\\scales\\scale.py:93: MatplotlibDeprecationWarning: \n",
      "The iterable function was deprecated in Matplotlib 3.1 and will be removed in 3.3. Use np.iterable instead.\n",
      "  if cbook.iterable(self.breaks) and cbook.iterable(self.labels):\n",
      "C:\\ProgramData\\Anaconda3\\lib\\site-packages\\plotnine\\layer.py:360: UserWarning: stat_count : Removed 1039 rows containing non-finite values.\n",
      "  data = self.stat.compute_layer(data, params, layout)\n",
      "C:\\ProgramData\\Anaconda3\\lib\\site-packages\\plotnine\\utils.py:553: MatplotlibDeprecationWarning: \n",
      "The iterable function was deprecated in Matplotlib 3.1 and will be removed in 3.3. Use np.iterable instead.\n",
      "  return cbook.iterable(var) and not is_string(var)\n"
     ]
    },
    {
     "data": {
      "image/png": "[encoded data removed]",
      "text/plain": [
       "<Figure size 640x480 with 1 Axes>"
      ]
     },
     "metadata": {},
     "output_type": "display_data"
    },
    {
     "data": {
      "text/plain": [
       "<ggplot: (-9223371892704841128)>"
      ]
     },
     "execution_count": 28,
     "metadata": {},
     "output_type": "execute_result"
    }
   ],
   "source": [
    "p = ggplot(aes(x='majorvessel', fill='majorvessel'), data=hospital_temp)\n",
    "p + geom_bar() + ggtitle(\"Major Vessels coloured by fluoroscopy Histogram\") "
   ]
  },
  {
   "cell_type": "markdown",
   "metadata": {},
   "source": [
    "#### Counts of number of major vessels (0–3) colored by fluoroscopy"
   ]
  },
  {
   "cell_type": "code",
   "execution_count": 29,
   "metadata": {},
   "outputs": [
    {
     "data": {
      "text/html": [
       "<div>\n",
       "<style scoped>\n",
       "    .dataframe tbody tr th:only-of-type {\n",
       "        vertical-align: middle;\n",
       "    }\n",
       "\n",
       "    .dataframe tbody tr th {\n",
       "        vertical-align: top;\n",
       "    }\n",
       "\n",
       "    .dataframe thead th {\n",
       "        text-align: right;\n",
       "    }\n",
       "</style>\n",
       "<table border=\"1\" class=\"dataframe\">\n",
       "  <thead>\n",
       "    <tr style=\"text-align: right;\">\n",
       "      <th>col_0</th>\n",
       "      <th>count</th>\n",
       "    </tr>\n",
       "    <tr>\n",
       "      <th>majorvessel</th>\n",
       "      <th></th>\n",
       "    </tr>\n",
       "  </thead>\n",
       "  <tbody>\n",
       "    <tr>\n",
       "      <td>0.0</td>\n",
       "      <td>40583</td>\n",
       "    </tr>\n",
       "    <tr>\n",
       "      <td>1.0</td>\n",
       "      <td>15671</td>\n",
       "    </tr>\n",
       "    <tr>\n",
       "      <td>2.0</td>\n",
       "      <td>8441</td>\n",
       "    </tr>\n",
       "    <tr>\n",
       "      <td>3.0</td>\n",
       "      <td>4266</td>\n",
       "    </tr>\n",
       "  </tbody>\n",
       "</table>\n",
       "</div>"
      ],
      "text/plain": [
       "col_0        count\n",
       "majorvessel       \n",
       "0.0          40583\n",
       "1.0          15671\n",
       "2.0           8441\n",
       "3.0           4266"
      ]
     },
     "execution_count": 29,
     "metadata": {},
     "output_type": "execute_result"
    }
   ],
   "source": [
    "my_tab = pd.crosstab(hospital_temp['majorvessel'],  # Make a crosstab\n",
    "                              columns=\"count\")      # Name the count column\n",
    "my_tab"
   ]
  },
  {
   "cell_type": "markdown",
   "metadata": {},
   "source": [
    "We can observe the most common number is none, followed sequentially by increasing number of major vessels colored by fluoroscopy"
   ]
  },
  {
   "cell_type": "markdown",
   "metadata": {},
   "source": [
    "#### Histogram of the Peak exercise ST segment characteristic following exercise test"
   ]
  },
  {
   "cell_type": "code",
   "execution_count": 30,
   "metadata": {},
   "outputs": [
    {
     "name": "stderr",
     "output_type": "stream",
     "text": [
      "C:\\ProgramData\\Anaconda3\\lib\\site-packages\\plotnine\\scales\\scale.py:93: MatplotlibDeprecationWarning: \n",
      "The iterable function was deprecated in Matplotlib 3.1 and will be removed in 3.3. Use np.iterable instead.\n",
      "  if cbook.iterable(self.breaks) and cbook.iterable(self.labels):\n",
      "C:\\ProgramData\\Anaconda3\\lib\\site-packages\\plotnine\\utils.py:553: MatplotlibDeprecationWarning: \n",
      "The iterable function was deprecated in Matplotlib 3.1 and will be removed in 3.3. Use np.iterable instead.\n",
      "  return cbook.iterable(var) and not is_string(var)\n"
     ]
    },
    {
     "data": {
      "image/png": "[encoded data removed]",
      "text/plain": [
       "<Figure size 640x480 with 1 Axes>"
      ]
     },
     "metadata": {},
     "output_type": "display_data"
    },
    {
     "data": {
      "text/plain": [
       "<ggplot: (144150501026)>"
      ]
     },
     "execution_count": 30,
     "metadata": {},
     "output_type": "execute_result"
    }
   ],
   "source": [
    "p = ggplot(aes(x='STsegment', fill='STsegment'), data=hospital_temp)\n",
    "p + geom_bar() + ggtitle(\"Peak exercise ST segment characteristic following exercise test Histogram\") "
   ]
  },
  {
   "cell_type": "markdown",
   "metadata": {},
   "source": [
    "#### Counts of Peak Exercvise ST Segment Characteristic"
   ]
  },
  {
   "cell_type": "code",
   "execution_count": 31,
   "metadata": {},
   "outputs": [
    {
     "data": {
      "text/html": [
       "<div>\n",
       "<style scoped>\n",
       "    .dataframe tbody tr th:only-of-type {\n",
       "        vertical-align: middle;\n",
       "    }\n",
       "\n",
       "    .dataframe tbody tr th {\n",
       "        vertical-align: top;\n",
       "    }\n",
       "\n",
       "    .dataframe thead th {\n",
       "        text-align: right;\n",
       "    }\n",
       "</style>\n",
       "<table border=\"1\" class=\"dataframe\">\n",
       "  <thead>\n",
       "    <tr style=\"text-align: right;\">\n",
       "      <th>col_0</th>\n",
       "      <th>count</th>\n",
       "    </tr>\n",
       "    <tr>\n",
       "      <th>STsegment</th>\n",
       "      <th></th>\n",
       "    </tr>\n",
       "  </thead>\n",
       "  <tbody>\n",
       "    <tr>\n",
       "      <td>1</td>\n",
       "      <td>32658</td>\n",
       "    </tr>\n",
       "    <tr>\n",
       "      <td>2</td>\n",
       "      <td>32609</td>\n",
       "    </tr>\n",
       "    <tr>\n",
       "      <td>3</td>\n",
       "      <td>4733</td>\n",
       "    </tr>\n",
       "  </tbody>\n",
       "</table>\n",
       "</div>"
      ],
      "text/plain": [
       "col_0      count\n",
       "STsegment       \n",
       "1          32658\n",
       "2          32609\n",
       "3           4733"
      ]
     },
     "execution_count": 31,
     "metadata": {},
     "output_type": "execute_result"
    }
   ],
   "source": [
    "my_tab = pd.crosstab(hospital_temp['STsegment'],  # Make a crosstab\n",
    "                              columns=\"count\")      # Name the count column\n",
    "my_tab"
   ]
  },
  {
   "cell_type": "markdown",
   "metadata": {},
   "source": [
    "We can observe there are far less down-sloping ST segments as compared with groups 1 and 2."
   ]
  },
  {
   "cell_type": "markdown",
   "metadata": {},
   "source": [
    " #### Density plot of ST depression induced by exercise relative to rest"
   ]
  },
  {
   "cell_type": "code",
   "execution_count": 32,
   "metadata": {},
   "outputs": [
    {
     "name": "stderr",
     "output_type": "stream",
     "text": [
      "C:\\ProgramData\\Anaconda3\\lib\\site-packages\\plotnine\\scales\\scale.py:93: MatplotlibDeprecationWarning: \n",
      "The iterable function was deprecated in Matplotlib 3.1 and will be removed in 3.3. Use np.iterable instead.\n",
      "  if cbook.iterable(self.breaks) and cbook.iterable(self.labels):\n",
      "C:\\ProgramData\\Anaconda3\\lib\\site-packages\\plotnine\\utils.py:553: MatplotlibDeprecationWarning: \n",
      "The iterable function was deprecated in Matplotlib 3.1 and will be removed in 3.3. Use np.iterable instead.\n",
      "  return cbook.iterable(var) and not is_string(var)\n"
     ]
    },
    {
     "data": {
      "image/png": "[encoded data removed]",
      "text/plain": [
       "<Figure size 640x480 with 1 Axes>"
      ]
     },
     "metadata": {},
     "output_type": "display_data"
    },
    {
     "data": {
      "text/plain": [
       "<ggplot: (-9223371892704335742)>"
      ]
     },
     "execution_count": 32,
     "metadata": {},
     "output_type": "execute_result"
    }
   ],
   "source": [
    "p = ggplot(aes(x='STdepression', fill='STdepression'), data=hospital_temp)\n",
    "p + geom_density() + ggtitle(\"ST depression Histogram\") "
   ]
  },
  {
   "cell_type": "markdown",
   "metadata": {},
   "source": [
    "#### Descriptive statistics of measure of ST Depression"
   ]
  },
  {
   "cell_type": "code",
   "execution_count": 33,
   "metadata": {},
   "outputs": [
    {
     "data": {
      "text/plain": [
       "count    70000.00000\n",
       "mean         1.04636\n",
       "std          1.17049\n",
       "min          0.00000\n",
       "25%          0.00000\n",
       "50%          0.80000\n",
       "75%          1.60000\n",
       "max          6.20000\n",
       "Name: STdepression, dtype: float64"
      ]
     },
     "execution_count": 33,
     "metadata": {},
     "output_type": "execute_result"
    }
   ],
   "source": [
    "hospital_temp['STdepression'].describe(include='all')"
   ]
  },
  {
   "cell_type": "markdown",
   "metadata": {},
   "source": [
    "We can observe that the minimum is 0 thus no ST Depression or myocardial ischemia present, conversely the maximum is 6.2\n",
    "with a mean of 1.04."
   ]
  },
  {
   "cell_type": "markdown",
   "metadata": {},
   "source": [
    "#### Univariate histogram of diagnosis of heart disease (OUTCOME): Displays whether the individual is suffering from heart disease or not  "
   ]
  },
  {
   "cell_type": "code",
   "execution_count": 34,
   "metadata": {},
   "outputs": [
    {
     "name": "stderr",
     "output_type": "stream",
     "text": [
      "C:\\ProgramData\\Anaconda3\\lib\\site-packages\\plotnine\\scales\\scale.py:93: MatplotlibDeprecationWarning: \n",
      "The iterable function was deprecated in Matplotlib 3.1 and will be removed in 3.3. Use np.iterable instead.\n",
      "  if cbook.iterable(self.breaks) and cbook.iterable(self.labels):\n",
      "C:\\ProgramData\\Anaconda3\\lib\\site-packages\\plotnine\\utils.py:553: MatplotlibDeprecationWarning: \n",
      "The iterable function was deprecated in Matplotlib 3.1 and will be removed in 3.3. Use np.iterable instead.\n",
      "  return cbook.iterable(var) and not is_string(var)\n"
     ]
    },
    {
     "data": {
      "image/png": "[encoded data removed]",
      "text/plain": [
       "<Figure size 640x480 with 1 Axes>"
      ]
     },
     "metadata": {},
     "output_type": "display_data"
    },
    {
     "data": {
      "text/plain": [
       "<ggplot: (144150501103)>"
      ]
     },
     "execution_count": 34,
     "metadata": {},
     "output_type": "execute_result"
    }
   ],
   "source": [
    "p = ggplot(aes(x='heart', fill='heart'), data=hospital_temp)\n",
    "p + geom_bar() + ggtitle(\"Heart Disease Status Histogram\") "
   ]
  },
  {
   "cell_type": "markdown",
   "metadata": {},
   "source": [
    "Observation 2: As this is our outcome and our primary concern is whether a patient is identified as having HD or not,\n",
    "rather than the degree or severity of the HD we will consider cleaning this outcome variable for a binary rather than multi-level\n",
    "categorical variable for either having no diagnosed HR heart{0} or having a degree of HR heart{1}. The justification for this is that between levels of heart disease there is considerable variability and imbalance and thus it is likely this would add increased complexity into our model and higher levels of uncertainty in prediction likely hindering our results. With a binary two level classification problem we can better balance our outcome and thus construct a more accurate model."
   ]
  },
  {
   "cell_type": "markdown",
   "metadata": {},
   "source": [
    "#### Counts of Heart Disease Status:"
   ]
  },
  {
   "cell_type": "code",
   "execution_count": 35,
   "metadata": {},
   "outputs": [
    {
     "data": {
      "text/html": [
       "<div>\n",
       "<style scoped>\n",
       "    .dataframe tbody tr th:only-of-type {\n",
       "        vertical-align: middle;\n",
       "    }\n",
       "\n",
       "    .dataframe tbody tr th {\n",
       "        vertical-align: top;\n",
       "    }\n",
       "\n",
       "    .dataframe thead th {\n",
       "        text-align: right;\n",
       "    }\n",
       "</style>\n",
       "<table border=\"1\" class=\"dataframe\">\n",
       "  <thead>\n",
       "    <tr style=\"text-align: right;\">\n",
       "      <th>col_0</th>\n",
       "      <th>count</th>\n",
       "    </tr>\n",
       "    <tr>\n",
       "      <th>heart</th>\n",
       "      <th></th>\n",
       "    </tr>\n",
       "  </thead>\n",
       "  <tbody>\n",
       "    <tr>\n",
       "      <td>0</td>\n",
       "      <td>37858</td>\n",
       "    </tr>\n",
       "    <tr>\n",
       "      <td>1</td>\n",
       "      <td>13833</td>\n",
       "    </tr>\n",
       "    <tr>\n",
       "      <td>2</td>\n",
       "      <td>7567</td>\n",
       "    </tr>\n",
       "    <tr>\n",
       "      <td>3</td>\n",
       "      <td>7766</td>\n",
       "    </tr>\n",
       "    <tr>\n",
       "      <td>4</td>\n",
       "      <td>2976</td>\n",
       "    </tr>\n",
       "  </tbody>\n",
       "</table>\n",
       "</div>"
      ],
      "text/plain": [
       "col_0  count\n",
       "heart       \n",
       "0      37858\n",
       "1      13833\n",
       "2       7567\n",
       "3       7766\n",
       "4       2976"
      ]
     },
     "execution_count": 35,
     "metadata": {},
     "output_type": "execute_result"
    }
   ],
   "source": [
    "my_tab = pd.crosstab(hospital_temp['heart'],  # Make a crosstab\n",
    "                              columns=\"count\")      # Name the count column\n",
    "my_tab"
   ]
  },
  {
   "cell_type": "markdown",
   "metadata": {},
   "source": [
    "We can observe there are nearly as many patients exhibiting some degree of HD as compared with patients not presenting with HD - suggesting a balanced dataset."
   ]
  },
  {
   "cell_type": "markdown",
   "metadata": {},
   "source": [
    "### Data Cleaning: Manipulation"
   ]
  },
  {
   "cell_type": "markdown",
   "metadata": {},
   "source": [
    "#### We will create an alternative outcome variable to our outcome variable - heart -  being a binary variable representing 0 for no HD and 1 for any degree of HD and name it bin_heart. As discussed above, our concern is whether the patient has any degree of HD rather than interest in the specific degree of HD giving us a preference for a binary response rather than multi-level cateogorical. "
   ]
  },
  {
   "cell_type": "code",
   "execution_count": 36,
   "metadata": {},
   "outputs": [],
   "source": [
    "hospital_temp.loc[hospital_temp.heart== 0, 'bin_heart'] = 0;\n",
    "hospital_temp.loc[hospital_temp.heart== 1, 'bin_heart'] = 1;\n",
    "hospital_temp.loc[hospital_temp.heart== 2, 'bin_heart'] = 1;\n",
    "hospital_temp.loc[hospital_temp.heart== 3, 'bin_heart'] = 1;\n",
    "hospital_temp.loc[hospital_temp.heart== 4, 'bin_heart'] = 1;"
   ]
  },
  {
   "cell_type": "markdown",
   "metadata": {},
   "source": [
    "#### Histogram of Binary Heart Disease Diagnosis "
   ]
  },
  {
   "cell_type": "code",
   "execution_count": 37,
   "metadata": {},
   "outputs": [
    {
     "name": "stderr",
     "output_type": "stream",
     "text": [
      "C:\\ProgramData\\Anaconda3\\lib\\site-packages\\plotnine\\scales\\scale.py:93: MatplotlibDeprecationWarning: \n",
      "The iterable function was deprecated in Matplotlib 3.1 and will be removed in 3.3. Use np.iterable instead.\n",
      "  if cbook.iterable(self.breaks) and cbook.iterable(self.labels):\n",
      "C:\\ProgramData\\Anaconda3\\lib\\site-packages\\plotnine\\utils.py:553: MatplotlibDeprecationWarning: \n",
      "The iterable function was deprecated in Matplotlib 3.1 and will be removed in 3.3. Use np.iterable instead.\n",
      "  return cbook.iterable(var) and not is_string(var)\n"
     ]
    },
    {
     "data": {
      "image/png": "[encoded data removed]",
      "text/plain": [
       "<Figure size 640x480 with 1 Axes>"
      ]
     },
     "metadata": {},
     "output_type": "display_data"
    },
    {
     "data": {
      "text/plain": [
       "<ggplot: (-9223371892704308883)>"
      ]
     },
     "execution_count": 37,
     "metadata": {},
     "output_type": "execute_result"
    }
   ],
   "source": [
    "p = ggplot(aes(x='bin_heart', fill='bin_heart'), data=hospital_temp)\n",
    "p + geom_bar() + ggtitle(\"Binary Heart Disease Status Histogram\") "
   ]
  },
  {
   "cell_type": "markdown",
   "metadata": {},
   "source": [
    "#### Count of binary heart response variable for Heart Disease diagnosis:"
   ]
  },
  {
   "cell_type": "code",
   "execution_count": 38,
   "metadata": {},
   "outputs": [
    {
     "data": {
      "text/html": [
       "<div>\n",
       "<style scoped>\n",
       "    .dataframe tbody tr th:only-of-type {\n",
       "        vertical-align: middle;\n",
       "    }\n",
       "\n",
       "    .dataframe tbody tr th {\n",
       "        vertical-align: top;\n",
       "    }\n",
       "\n",
       "    .dataframe thead th {\n",
       "        text-align: right;\n",
       "    }\n",
       "</style>\n",
       "<table border=\"1\" class=\"dataframe\">\n",
       "  <thead>\n",
       "    <tr style=\"text-align: right;\">\n",
       "      <th>col_0</th>\n",
       "      <th>count</th>\n",
       "    </tr>\n",
       "    <tr>\n",
       "      <th>bin_heart</th>\n",
       "      <th></th>\n",
       "    </tr>\n",
       "  </thead>\n",
       "  <tbody>\n",
       "    <tr>\n",
       "      <td>0.0</td>\n",
       "      <td>37858</td>\n",
       "    </tr>\n",
       "    <tr>\n",
       "      <td>1.0</td>\n",
       "      <td>32142</td>\n",
       "    </tr>\n",
       "  </tbody>\n",
       "</table>\n",
       "</div>"
      ],
      "text/plain": [
       "col_0      count\n",
       "bin_heart       \n",
       "0.0        37858\n",
       "1.0        32142"
      ]
     },
     "execution_count": 38,
     "metadata": {},
     "output_type": "execute_result"
    }
   ],
   "source": [
    "my_tab = pd.crosstab(hospital_temp['bin_heart'],  # Make a crosstab\n",
    "                              columns=\"count\")      # Name the count column\n",
    "my_tab"
   ]
  },
  {
   "cell_type": "markdown",
   "metadata": {},
   "source": [
    "Therefore, we can conclude the dataset is slightly imbalanced towards those with an absence of HD - the negative class."
   ]
  },
  {
   "cell_type": "markdown",
   "metadata": {},
   "source": [
    "#### Vizualisation of missing data within feature and response variables"
   ]
  },
  {
   "cell_type": "code",
   "execution_count": 39,
   "metadata": {},
   "outputs": [
    {
     "data": {
      "text/plain": [
       "<matplotlib.axes._subplots.AxesSubplot at 0x21900c61400>"
      ]
     },
     "execution_count": 39,
     "metadata": {},
     "output_type": "execute_result"
    },
    {
     "data": {
      "image/png": "[encoded data removed]",
      "text/plain": [
       "<Figure size 432x288 with 1 Axes>"
      ]
     },
     "metadata": {
      "needs_background": "light"
     },
     "output_type": "display_data"
    }
   ],
   "source": [
    "sns.heatmap(hospital_temp.isnull(), cbar=False)"
   ]
  },
  {
   "cell_type": "markdown",
   "metadata": {},
   "source": [
    "We can observe there are only very few instances of missing values; \n",
    "within thalassemia and major vessel fluoroscopy. There does not seem to be any definitive pattern\n",
    "in how these missing values are distributed although as they will cause issues later on with dimensionality reduction in PCA so we will remove rows with these values from the dataset so we may undertake dimension reductionality."
   ]
  },
  {
   "cell_type": "code",
   "execution_count": 40,
   "metadata": {},
   "outputs": [
    {
     "name": "stdout",
     "output_type": "stream",
     "text": [
      "Observations before removing missing data: (70000, 15)\n",
      "Observations after removing missing data: (68501, 15)\n"
     ]
    }
   ],
   "source": [
    "print(\"Observations before removing missing data: {}\".format(hospital_temp.shape))\n",
    "hospital_temp = hospital_temp.dropna(axis='rows')\n",
    "print(\"Observations after removing missing data: {}\".format(hospital_temp.shape))"
   ]
  },
  {
   "cell_type": "markdown",
   "metadata": {},
   "source": [
    "#### Revizualisation of outcome - Binary Heart Disease Indicator:\n",
    "We will reassess the extent of imbalance after removing these 1500 rows of missing values"
   ]
  },
  {
   "cell_type": "code",
   "execution_count": 41,
   "metadata": {},
   "outputs": [
    {
     "data": {
      "text/html": [
       "<div>\n",
       "<style scoped>\n",
       "    .dataframe tbody tr th:only-of-type {\n",
       "        vertical-align: middle;\n",
       "    }\n",
       "\n",
       "    .dataframe tbody tr th {\n",
       "        vertical-align: top;\n",
       "    }\n",
       "\n",
       "    .dataframe thead th {\n",
       "        text-align: right;\n",
       "    }\n",
       "</style>\n",
       "<table border=\"1\" class=\"dataframe\">\n",
       "  <thead>\n",
       "    <tr style=\"text-align: right;\">\n",
       "      <th>col_0</th>\n",
       "      <th>count</th>\n",
       "    </tr>\n",
       "    <tr>\n",
       "      <th>bin_heart</th>\n",
       "      <th></th>\n",
       "    </tr>\n",
       "  </thead>\n",
       "  <tbody>\n",
       "    <tr>\n",
       "      <td>0.0</td>\n",
       "      <td>36990</td>\n",
       "    </tr>\n",
       "    <tr>\n",
       "      <td>1.0</td>\n",
       "      <td>31511</td>\n",
       "    </tr>\n",
       "  </tbody>\n",
       "</table>\n",
       "</div>"
      ],
      "text/plain": [
       "col_0      count\n",
       "bin_heart       \n",
       "0.0        36990\n",
       "1.0        31511"
      ]
     },
     "execution_count": 41,
     "metadata": {},
     "output_type": "execute_result"
    }
   ],
   "source": [
    "my_tab = pd.crosstab(hospital_temp['bin_heart'],  # Make a crosstab\n",
    "                              columns=\"count\")      # Name the count column\n",
    "my_tab"
   ]
  },
  {
   "cell_type": "code",
   "execution_count": 42,
   "metadata": {},
   "outputs": [
    {
     "name": "stderr",
     "output_type": "stream",
     "text": [
      "C:\\ProgramData\\Anaconda3\\lib\\site-packages\\plotnine\\scales\\scale.py:93: MatplotlibDeprecationWarning: \n",
      "The iterable function was deprecated in Matplotlib 3.1 and will be removed in 3.3. Use np.iterable instead.\n",
      "  if cbook.iterable(self.breaks) and cbook.iterable(self.labels):\n",
      "C:\\ProgramData\\Anaconda3\\lib\\site-packages\\plotnine\\utils.py:553: MatplotlibDeprecationWarning: \n",
      "The iterable function was deprecated in Matplotlib 3.1 and will be removed in 3.3. Use np.iterable instead.\n",
      "  return cbook.iterable(var) and not is_string(var)\n"
     ]
    },
    {
     "data": {
      "image/png": "[encoded data removed]",
      "text/plain": [
       "<Figure size 640x480 with 1 Axes>"
      ]
     },
     "metadata": {},
     "output_type": "display_data"
    },
    {
     "data": {
      "text/plain": [
       "<ggplot: (-9223371892703492359)>"
      ]
     },
     "execution_count": 42,
     "metadata": {},
     "output_type": "execute_result"
    }
   ],
   "source": [
    "p = ggplot(aes(x='bin_heart', fill='bin_heart'), data=hospital_temp)\n",
    "p + geom_bar() + ggtitle(\"Binary Heart Disease Status Histogram\") "
   ]
  },
  {
   "cell_type": "markdown",
   "metadata": {},
   "source": [
    "We observe we have lost a similar amount of missing values from both the postiive and negative classes with a similar representation between the classes when comparing via a histogram. We thereby lost a small percentage of our data though have allowed PCA dimensionality reduction to be used later on in the analysis process."
   ]
  },
  {
   "cell_type": "markdown",
   "metadata": {},
   "source": [
    "#### Descriptive Statistics according to Heart Disease Diagnosis:"
   ]
  },
  {
   "cell_type": "code",
   "execution_count": 43,
   "metadata": {},
   "outputs": [
    {
     "data": {
      "text/html": [
       "<div>\n",
       "<style scoped>\n",
       "    .dataframe tbody tr th:only-of-type {\n",
       "        vertical-align: middle;\n",
       "    }\n",
       "\n",
       "    .dataframe tbody tr th {\n",
       "        vertical-align: top;\n",
       "    }\n",
       "\n",
       "    .dataframe thead th {\n",
       "        text-align: right;\n",
       "    }\n",
       "</style>\n",
       "<table border=\"1\" class=\"dataframe\">\n",
       "  <thead>\n",
       "    <tr style=\"text-align: right;\">\n",
       "      <th></th>\n",
       "      <th>age</th>\n",
       "      <th>sex</th>\n",
       "      <th>chestpain</th>\n",
       "      <th>restbps</th>\n",
       "      <th>chol</th>\n",
       "      <th>fbsugar</th>\n",
       "      <th>restecg</th>\n",
       "      <th>maxheartrate</th>\n",
       "      <th>exangina</th>\n",
       "      <th>STdepression</th>\n",
       "      <th>STsegment</th>\n",
       "      <th>majorvessel</th>\n",
       "      <th>thalassemia</th>\n",
       "      <th>heart</th>\n",
       "      <th>bin_heart</th>\n",
       "    </tr>\n",
       "  </thead>\n",
       "  <tbody>\n",
       "    <tr>\n",
       "      <td>count</td>\n",
       "      <td>36990.000000</td>\n",
       "      <td>36990.000000</td>\n",
       "      <td>36990.000000</td>\n",
       "      <td>36990.000000</td>\n",
       "      <td>36990.000000</td>\n",
       "      <td>36990.000000</td>\n",
       "      <td>36990.000000</td>\n",
       "      <td>36990.000000</td>\n",
       "      <td>36990.000000</td>\n",
       "      <td>36990.000000</td>\n",
       "      <td>36990.00000</td>\n",
       "      <td>36990.000000</td>\n",
       "      <td>36990.000000</td>\n",
       "      <td>36990.0</td>\n",
       "      <td>36990.0</td>\n",
       "    </tr>\n",
       "    <tr>\n",
       "      <td>mean</td>\n",
       "      <td>52.775020</td>\n",
       "      <td>0.605164</td>\n",
       "      <td>2.832279</td>\n",
       "      <td>129.653906</td>\n",
       "      <td>244.897459</td>\n",
       "      <td>0.136577</td>\n",
       "      <td>0.919519</td>\n",
       "      <td>156.673479</td>\n",
       "      <td>0.196783</td>\n",
       "      <td>0.726380</td>\n",
       "      <td>1.47402</td>\n",
       "      <td>0.381049</td>\n",
       "      <td>3.878670</td>\n",
       "      <td>0.0</td>\n",
       "      <td>0.0</td>\n",
       "    </tr>\n",
       "    <tr>\n",
       "      <td>std</td>\n",
       "      <td>9.450288</td>\n",
       "      <td>0.488822</td>\n",
       "      <td>0.937235</td>\n",
       "      <td>16.456347</td>\n",
       "      <td>52.519923</td>\n",
       "      <td>0.343405</td>\n",
       "      <td>0.989734</td>\n",
       "      <td>20.634449</td>\n",
       "      <td>0.397572</td>\n",
       "      <td>0.937365</td>\n",
       "      <td>0.58974</td>\n",
       "      <td>0.755527</td>\n",
       "      <td>1.624013</td>\n",
       "      <td>0.0</td>\n",
       "      <td>0.0</td>\n",
       "    </tr>\n",
       "    <tr>\n",
       "      <td>min</td>\n",
       "      <td>29.000000</td>\n",
       "      <td>0.000000</td>\n",
       "      <td>1.000000</td>\n",
       "      <td>94.000000</td>\n",
       "      <td>100.000000</td>\n",
       "      <td>0.000000</td>\n",
       "      <td>0.000000</td>\n",
       "      <td>71.000000</td>\n",
       "      <td>0.000000</td>\n",
       "      <td>0.000000</td>\n",
       "      <td>1.00000</td>\n",
       "      <td>0.000000</td>\n",
       "      <td>3.000000</td>\n",
       "      <td>0.0</td>\n",
       "      <td>0.0</td>\n",
       "    </tr>\n",
       "    <tr>\n",
       "      <td>25%</td>\n",
       "      <td>45.000000</td>\n",
       "      <td>0.000000</td>\n",
       "      <td>2.000000</td>\n",
       "      <td>120.000000</td>\n",
       "      <td>211.000000</td>\n",
       "      <td>0.000000</td>\n",
       "      <td>0.000000</td>\n",
       "      <td>146.000000</td>\n",
       "      <td>0.000000</td>\n",
       "      <td>0.000000</td>\n",
       "      <td>1.00000</td>\n",
       "      <td>0.000000</td>\n",
       "      <td>3.000000</td>\n",
       "      <td>0.0</td>\n",
       "      <td>0.0</td>\n",
       "    </tr>\n",
       "    <tr>\n",
       "      <td>50%</td>\n",
       "      <td>52.000000</td>\n",
       "      <td>1.000000</td>\n",
       "      <td>3.000000</td>\n",
       "      <td>130.000000</td>\n",
       "      <td>239.000000</td>\n",
       "      <td>0.000000</td>\n",
       "      <td>0.000000</td>\n",
       "      <td>160.000000</td>\n",
       "      <td>0.000000</td>\n",
       "      <td>0.400000</td>\n",
       "      <td>1.00000</td>\n",
       "      <td>0.000000</td>\n",
       "      <td>3.000000</td>\n",
       "      <td>0.0</td>\n",
       "      <td>0.0</td>\n",
       "    </tr>\n",
       "    <tr>\n",
       "      <td>75%</td>\n",
       "      <td>60.000000</td>\n",
       "      <td>1.000000</td>\n",
       "      <td>4.000000</td>\n",
       "      <td>140.000000</td>\n",
       "      <td>270.000000</td>\n",
       "      <td>0.000000</td>\n",
       "      <td>2.000000</td>\n",
       "      <td>172.000000</td>\n",
       "      <td>0.000000</td>\n",
       "      <td>1.200000</td>\n",
       "      <td>2.00000</td>\n",
       "      <td>0.000000</td>\n",
       "      <td>3.000000</td>\n",
       "      <td>0.0</td>\n",
       "      <td>0.0</td>\n",
       "    </tr>\n",
       "    <tr>\n",
       "      <td>max</td>\n",
       "      <td>77.000000</td>\n",
       "      <td>1.000000</td>\n",
       "      <td>4.000000</td>\n",
       "      <td>200.000000</td>\n",
       "      <td>564.000000</td>\n",
       "      <td>1.000000</td>\n",
       "      <td>2.000000</td>\n",
       "      <td>202.000000</td>\n",
       "      <td>1.000000</td>\n",
       "      <td>6.200000</td>\n",
       "      <td>3.00000</td>\n",
       "      <td>3.000000</td>\n",
       "      <td>7.000000</td>\n",
       "      <td>0.0</td>\n",
       "      <td>0.0</td>\n",
       "    </tr>\n",
       "  </tbody>\n",
       "</table>\n",
       "</div>"
      ],
      "text/plain": [
       "                age           sex     chestpain       restbps          chol  \\\n",
       "count  36990.000000  36990.000000  36990.000000  36990.000000  36990.000000   \n",
       "mean      52.775020      0.605164      2.832279    129.653906    244.897459   \n",
       "std        9.450288      0.488822      0.937235     16.456347     52.519923   \n",
       "min       29.000000      0.000000      1.000000     94.000000    100.000000   \n",
       "25%       45.000000      0.000000      2.000000    120.000000    211.000000   \n",
       "50%       52.000000      1.000000      3.000000    130.000000    239.000000   \n",
       "75%       60.000000      1.000000      4.000000    140.000000    270.000000   \n",
       "max       77.000000      1.000000      4.000000    200.000000    564.000000   \n",
       "\n",
       "            fbsugar       restecg  maxheartrate      exangina  STdepression  \\\n",
       "count  36990.000000  36990.000000  36990.000000  36990.000000  36990.000000   \n",
       "mean       0.136577      0.919519    156.673479      0.196783      0.726380   \n",
       "std        0.343405      0.989734     20.634449      0.397572      0.937365   \n",
       "min        0.000000      0.000000     71.000000      0.000000      0.000000   \n",
       "25%        0.000000      0.000000    146.000000      0.000000      0.000000   \n",
       "50%        0.000000      0.000000    160.000000      0.000000      0.400000   \n",
       "75%        0.000000      2.000000    172.000000      0.000000      1.200000   \n",
       "max        1.000000      2.000000    202.000000      1.000000      6.200000   \n",
       "\n",
       "         STsegment   majorvessel   thalassemia    heart  bin_heart  \n",
       "count  36990.00000  36990.000000  36990.000000  36990.0    36990.0  \n",
       "mean       1.47402      0.381049      3.878670      0.0        0.0  \n",
       "std        0.58974      0.755527      1.624013      0.0        0.0  \n",
       "min        1.00000      0.000000      3.000000      0.0        0.0  \n",
       "25%        1.00000      0.000000      3.000000      0.0        0.0  \n",
       "50%        1.00000      0.000000      3.000000      0.0        0.0  \n",
       "75%        2.00000      0.000000      3.000000      0.0        0.0  \n",
       "max        3.00000      3.000000      7.000000      0.0        0.0  "
      ]
     },
     "execution_count": 43,
     "metadata": {},
     "output_type": "execute_result"
    }
   ],
   "source": [
    "#Descriptive Statistic for patients without HD diagnosis:\n",
    "hospital_temp.loc[hospital_temp.bin_heart== 0, :].describe(include='all')"
   ]
  },
  {
   "cell_type": "code",
   "execution_count": 44,
   "metadata": {},
   "outputs": [
    {
     "data": {
      "text/html": [
       "<div>\n",
       "<style scoped>\n",
       "    .dataframe tbody tr th:only-of-type {\n",
       "        vertical-align: middle;\n",
       "    }\n",
       "\n",
       "    .dataframe tbody tr th {\n",
       "        vertical-align: top;\n",
       "    }\n",
       "\n",
       "    .dataframe thead th {\n",
       "        text-align: right;\n",
       "    }\n",
       "</style>\n",
       "<table border=\"1\" class=\"dataframe\">\n",
       "  <thead>\n",
       "    <tr style=\"text-align: right;\">\n",
       "      <th></th>\n",
       "      <th>age</th>\n",
       "      <th>sex</th>\n",
       "      <th>chestpain</th>\n",
       "      <th>restbps</th>\n",
       "      <th>chol</th>\n",
       "      <th>fbsugar</th>\n",
       "      <th>restecg</th>\n",
       "      <th>maxheartrate</th>\n",
       "      <th>exangina</th>\n",
       "      <th>STdepression</th>\n",
       "      <th>STsegment</th>\n",
       "      <th>majorvessel</th>\n",
       "      <th>thalassemia</th>\n",
       "      <th>heart</th>\n",
       "      <th>bin_heart</th>\n",
       "    </tr>\n",
       "  </thead>\n",
       "  <tbody>\n",
       "    <tr>\n",
       "      <td>count</td>\n",
       "      <td>31511.000000</td>\n",
       "      <td>31511.000000</td>\n",
       "      <td>31511.000000</td>\n",
       "      <td>31511.000000</td>\n",
       "      <td>31511.000000</td>\n",
       "      <td>31511.000000</td>\n",
       "      <td>31511.000000</td>\n",
       "      <td>31511.000000</td>\n",
       "      <td>31511.000000</td>\n",
       "      <td>31511.000000</td>\n",
       "      <td>31511.000000</td>\n",
       "      <td>31511.000000</td>\n",
       "      <td>31511.000000</td>\n",
       "      <td>31511.000000</td>\n",
       "      <td>31511.0</td>\n",
       "    </tr>\n",
       "    <tr>\n",
       "      <td>mean</td>\n",
       "      <td>56.393069</td>\n",
       "      <td>0.763384</td>\n",
       "      <td>3.546603</td>\n",
       "      <td>133.627622</td>\n",
       "      <td>249.589889</td>\n",
       "      <td>0.154295</td>\n",
       "      <td>1.070229</td>\n",
       "      <td>140.661166</td>\n",
       "      <td>0.487005</td>\n",
       "      <td>1.440506</td>\n",
       "      <td>1.756942</td>\n",
       "      <td>0.982895</td>\n",
       "      <td>5.762337</td>\n",
       "      <td>1.998604</td>\n",
       "      <td>1.0</td>\n",
       "    </tr>\n",
       "    <tr>\n",
       "      <td>std</td>\n",
       "      <td>7.982398</td>\n",
       "      <td>0.425011</td>\n",
       "      <td>0.833664</td>\n",
       "      <td>17.934507</td>\n",
       "      <td>52.678509</td>\n",
       "      <td>0.361237</td>\n",
       "      <td>0.991292</td>\n",
       "      <td>23.471232</td>\n",
       "      <td>0.499839</td>\n",
       "      <td>1.297956</td>\n",
       "      <td>0.603897</td>\n",
       "      <td>0.982031</td>\n",
       "      <td>1.765920</td>\n",
       "      <td>1.021414</td>\n",
       "      <td>0.0</td>\n",
       "    </tr>\n",
       "    <tr>\n",
       "      <td>min</td>\n",
       "      <td>29.000000</td>\n",
       "      <td>0.000000</td>\n",
       "      <td>1.000000</td>\n",
       "      <td>94.000000</td>\n",
       "      <td>100.000000</td>\n",
       "      <td>0.000000</td>\n",
       "      <td>0.000000</td>\n",
       "      <td>71.000000</td>\n",
       "      <td>0.000000</td>\n",
       "      <td>0.000000</td>\n",
       "      <td>1.000000</td>\n",
       "      <td>0.000000</td>\n",
       "      <td>3.000000</td>\n",
       "      <td>1.000000</td>\n",
       "      <td>1.0</td>\n",
       "    </tr>\n",
       "    <tr>\n",
       "      <td>25%</td>\n",
       "      <td>52.000000</td>\n",
       "      <td>1.000000</td>\n",
       "      <td>3.000000</td>\n",
       "      <td>120.000000</td>\n",
       "      <td>212.000000</td>\n",
       "      <td>0.000000</td>\n",
       "      <td>0.000000</td>\n",
       "      <td>125.000000</td>\n",
       "      <td>0.000000</td>\n",
       "      <td>0.200000</td>\n",
       "      <td>1.000000</td>\n",
       "      <td>0.000000</td>\n",
       "      <td>3.000000</td>\n",
       "      <td>1.000000</td>\n",
       "      <td>1.0</td>\n",
       "    </tr>\n",
       "    <tr>\n",
       "      <td>50%</td>\n",
       "      <td>57.000000</td>\n",
       "      <td>1.000000</td>\n",
       "      <td>4.000000</td>\n",
       "      <td>130.000000</td>\n",
       "      <td>248.000000</td>\n",
       "      <td>0.000000</td>\n",
       "      <td>2.000000</td>\n",
       "      <td>143.000000</td>\n",
       "      <td>0.000000</td>\n",
       "      <td>1.200000</td>\n",
       "      <td>2.000000</td>\n",
       "      <td>1.000000</td>\n",
       "      <td>7.000000</td>\n",
       "      <td>2.000000</td>\n",
       "      <td>1.0</td>\n",
       "    </tr>\n",
       "    <tr>\n",
       "      <td>75%</td>\n",
       "      <td>62.000000</td>\n",
       "      <td>1.000000</td>\n",
       "      <td>4.000000</td>\n",
       "      <td>142.000000</td>\n",
       "      <td>282.000000</td>\n",
       "      <td>0.000000</td>\n",
       "      <td>2.000000</td>\n",
       "      <td>160.000000</td>\n",
       "      <td>1.000000</td>\n",
       "      <td>2.200000</td>\n",
       "      <td>2.000000</td>\n",
       "      <td>2.000000</td>\n",
       "      <td>7.000000</td>\n",
       "      <td>3.000000</td>\n",
       "      <td>1.0</td>\n",
       "    </tr>\n",
       "    <tr>\n",
       "      <td>max</td>\n",
       "      <td>77.000000</td>\n",
       "      <td>1.000000</td>\n",
       "      <td>4.000000</td>\n",
       "      <td>200.000000</td>\n",
       "      <td>564.000000</td>\n",
       "      <td>1.000000</td>\n",
       "      <td>2.000000</td>\n",
       "      <td>202.000000</td>\n",
       "      <td>1.000000</td>\n",
       "      <td>6.200000</td>\n",
       "      <td>3.000000</td>\n",
       "      <td>3.000000</td>\n",
       "      <td>7.000000</td>\n",
       "      <td>4.000000</td>\n",
       "      <td>1.0</td>\n",
       "    </tr>\n",
       "  </tbody>\n",
       "</table>\n",
       "</div>"
      ],
      "text/plain": [
       "                age           sex     chestpain       restbps          chol  \\\n",
       "count  31511.000000  31511.000000  31511.000000  31511.000000  31511.000000   \n",
       "mean      56.393069      0.763384      3.546603    133.627622    249.589889   \n",
       "std        7.982398      0.425011      0.833664     17.934507     52.678509   \n",
       "min       29.000000      0.000000      1.000000     94.000000    100.000000   \n",
       "25%       52.000000      1.000000      3.000000    120.000000    212.000000   \n",
       "50%       57.000000      1.000000      4.000000    130.000000    248.000000   \n",
       "75%       62.000000      1.000000      4.000000    142.000000    282.000000   \n",
       "max       77.000000      1.000000      4.000000    200.000000    564.000000   \n",
       "\n",
       "            fbsugar       restecg  maxheartrate      exangina  STdepression  \\\n",
       "count  31511.000000  31511.000000  31511.000000  31511.000000  31511.000000   \n",
       "mean       0.154295      1.070229    140.661166      0.487005      1.440506   \n",
       "std        0.361237      0.991292     23.471232      0.499839      1.297956   \n",
       "min        0.000000      0.000000     71.000000      0.000000      0.000000   \n",
       "25%        0.000000      0.000000    125.000000      0.000000      0.200000   \n",
       "50%        0.000000      2.000000    143.000000      0.000000      1.200000   \n",
       "75%        0.000000      2.000000    160.000000      1.000000      2.200000   \n",
       "max        1.000000      2.000000    202.000000      1.000000      6.200000   \n",
       "\n",
       "          STsegment   majorvessel   thalassemia         heart  bin_heart  \n",
       "count  31511.000000  31511.000000  31511.000000  31511.000000    31511.0  \n",
       "mean       1.756942      0.982895      5.762337      1.998604        1.0  \n",
       "std        0.603897      0.982031      1.765920      1.021414        0.0  \n",
       "min        1.000000      0.000000      3.000000      1.000000        1.0  \n",
       "25%        1.000000      0.000000      3.000000      1.000000        1.0  \n",
       "50%        2.000000      1.000000      7.000000      2.000000        1.0  \n",
       "75%        2.000000      2.000000      7.000000      3.000000        1.0  \n",
       "max        3.000000      3.000000      7.000000      4.000000        1.0  "
      ]
     },
     "execution_count": 44,
     "metadata": {},
     "output_type": "execute_result"
    }
   ],
   "source": [
    "#Descriptive Statistic for patients with HD diagnosis:\n",
    "hospital_temp.loc[hospital_temp.bin_heart== 1, :].describe(include='all')"
   ]
  },
  {
   "cell_type": "markdown",
   "metadata": {},
   "source": [
    "#### Descriptive Statistics by positive or negative Heart Disease diagnosis"
   ]
  },
  {
   "cell_type": "markdown",
   "metadata": {},
   "source": [
    "Overall, we can observe that patients diagnosed with heart disease tend to have higher values for all features (including more positive classes for categorical features),\n",
    "besides max heart rate which has a lower mean for non-heart disease patients.\n"
   ]
  },
  {
   "cell_type": "code",
   "execution_count": 45,
   "metadata": {},
   "outputs": [
    {
     "data": {
      "image/png": "[encoded data removed]",
      "text/plain": [
       "<Figure size 432x288 with 2 Axes>"
      ]
     },
     "metadata": {
      "needs_background": "light"
     },
     "output_type": "display_data"
    }
   ],
   "source": [
    "corr_matrix = hospital_temp.corr()\n",
    "ax = sns.heatmap(\n",
    "    corr_matrix, \n",
    "    vmin=-1, vmax=1, center=0,\n",
    "    cmap=sns.diverging_palette(20, 220, n=200),\n",
    ")\n",
    "ax.set_xticklabels(\n",
    "    ax.get_xticklabels(),\n",
    "    rotation=45,\n",
    "    horizontalalignment='right'\n",
    ");"
   ]
  },
  {
   "cell_type": "markdown",
   "metadata": {},
   "source": [
    "We can see that max heart rate and age are strongly negatively correlated, aswell as max heart rate and chest pain and numerous other features compared with max heart rate - this is not surprising considering its clinical relevance and shared properities with these other cardiac related features and further highlights this feature from the previous statistical comparison between outcome classes as being of interest. We can also observe that ST Depression and ST segment are both correlated. Overall, we can see there is varying degrees of correlation throughout the dataset, with this again being not surprising considering the homeostatic-interactive nature of these indicators within the cardiorespiratory system on a biological level and as contributors, measures and confounders of Heart Disease. With no obvious points for grouping of features we will take this varying correlation as an indicator for undertaking a Principal Components Analysis (PCA) for dimension reduction in reducing any redundancy within the dataset through reducing importance on features which describe similar properities and thereby with variance in different classes being uninformative or redundant. Furthermore, this will result in a reduction in dimensionality allowing for more efficient fitting of the model through PCA  and is a common-practice method for improved classification results in classification problems. Thus we will apply this dimensionality reduction method.\n"
   ]
  },
  {
   "cell_type": "markdown",
   "metadata": {},
   "source": [
    "Furthermore, we can observe thast chest pain, thalassemia and maxheartrate are all rather correlated to our binary outcome bin_heart and between one another. Thus we will plot multi-variate plots of these three variables to vizualise these relationship:"
   ]
  },
  {
   "cell_type": "code",
   "execution_count": 46,
   "metadata": {},
   "outputs": [
    {
     "data": {
      "image/png": "[encoded data removed]",
      "text/plain": [
       "<Figure size 402.375x360 with 1 Axes>"
      ]
     },
     "metadata": {
      "needs_background": "light"
     },
     "output_type": "display_data"
    }
   ],
   "source": [
    "sns.catplot(x=\"bin_heart\", y=\"maxheartrate\", hue=\"sex\", kind=\"violin\", data=hospital_temp);"
   ]
  },
  {
   "cell_type": "markdown",
   "metadata": {},
   "source": [
    "We can observe that the mean maximum heart rate is higher among females than males and lower amongst those diagnosed with HD than those without a HD diagnosis.\n"
   ]
  },
  {
   "cell_type": "code",
   "execution_count": 47,
   "metadata": {},
   "outputs": [
    {
     "data": {
      "image/png": "[encoded data removed]",
      "text/plain": [
       "<Figure size 416.75x360 with 1 Axes>"
      ]
     },
     "metadata": {
      "needs_background": "light"
     },
     "output_type": "display_data"
    }
   ],
   "source": [
    "sns.catplot(x=\"bin_heart\", y=\"maxheartrate\", hue=\"chestpain\", kind=\"violin\", data=hospital_temp);"
   ]
  },
  {
   "cell_type": "markdown",
   "metadata": {},
   "source": [
    "We can observe that those with asymptomatic chest pain tend to have lower maximum heart rates compared with other groups,\n",
    "with this being similar between HD diagnosis groups."
   ]
  },
  {
   "cell_type": "code",
   "execution_count": 48,
   "metadata": {},
   "outputs": [
    {
     "data": {
      "image/png": "[encoded data removed]",
      "text/plain": [
       "<Figure size 428.625x360 with 1 Axes>"
      ]
     },
     "metadata": {
      "needs_background": "light"
     },
     "output_type": "display_data"
    }
   ],
   "source": [
    "sns.catplot(x=\"bin_heart\", y=\"maxheartrate\", hue=\"thalassemia\", kind=\"violin\", data=hospital_temp);"
   ]
  },
  {
   "cell_type": "markdown",
   "metadata": {},
   "source": [
    "We can observe that maximum heart rate is lower amongst patients with HD and more so with patients with HD and fixed defects\n",
    "by thalassemia."
   ]
  },
  {
   "cell_type": "markdown",
   "metadata": {},
   "source": [
    "This further emphasises the correlations between these correlated variables and maxium heart rate in general and thus possible redundancy with these features due to representing shared properities or explaining similar components of variance within the dataset and between our outcome groups, highlighting \n",
    "the likely benefit of applying PCA dimensionality reduction."
   ]
  },
  {
   "cell_type": "markdown",
   "metadata": {},
   "source": [
    "### Creating dummy variables (hot-encoding) for categorical variables and creating final cleaned dataset - redfern_hospital\n",
    "For categorical variables with more than two-levels (i.e. not including categorical variables with two levels only being 0 and 1 - as these are already technically in dummy variable format) to being meaningfully and accurately represented in the model we will use one-hot encoding to clean/prepare these categorical variables for the modelling process and create a final cleaned dataset - redfern_hospital - as our final dataset ready for the modelling process. These categoricals are Chestpain, restecg, STsegment and Thalassemia"
   ]
  },
  {
   "cell_type": "code",
   "execution_count": 49,
   "metadata": {},
   "outputs": [],
   "source": [
    "#creating hot-encoded dummy variables:\n",
    "dummies_chestpain= pd.get_dummies(hospital_temp['chestpain'])\n",
    "dummies_restecg= pd.get_dummies(hospital_temp['restecg'])\n",
    "dummies_STsegment= pd.get_dummies(hospital_temp['STsegment'])\n",
    "dummies_thalassemia= pd.get_dummies(hospital_temp['thalassemia'])"
   ]
  },
  {
   "cell_type": "code",
   "execution_count": 50,
   "metadata": {},
   "outputs": [],
   "source": [
    "#cleaning hot-encoded dummy variables by correcting column names:\n",
    "dummies_chestpain.columns = ['typical_angina', 'atypical_angina', 'non‐anginal_angina', 'asymptotic_angina']\n",
    "dummies_restecg.columns = ['normal_rECG', 'ST_abnormality_rECG', 'LVH_rECG']\n",
    "dummies_STsegment.columns = ['upslope_ST', 'flat_ST', 'downslope_ST']\n",
    "dummies_thalassemia.columns = ['normal_thal', 'fixed_thal', 'reversible_thal']"
   ]
  },
  {
   "cell_type": "code",
   "execution_count": 51,
   "metadata": {},
   "outputs": [],
   "source": [
    "#Joining cleaned dummy variables to hospital_temp dataset:\n",
    "hospital_temp=hospital_temp.join(dummies_chestpain)\n",
    "hospital_temp=hospital_temp.join(dummies_restecg)\n",
    "hospital_temp=hospital_temp.join(dummies_STsegment)\n",
    "hospital_temp=hospital_temp.join(dummies_thalassemia)"
   ]
  },
  {
   "cell_type": "code",
   "execution_count": 52,
   "metadata": {},
   "outputs": [],
   "source": [
    "#removing uncleaned corresponding categorical variables for final dataset redfern_hospital:\n",
    "redfern_hospital = hospital_temp.drop(['chestpain','restecg', 'STsegment', 'thalassemia', 'heart'], axis=1)\n",
    "#redfern_hospital.info()"
   ]
  },
  {
   "cell_type": "markdown",
   "metadata": {},
   "source": [
    "As we can see all features and our outcome is now cleaned and ready for the modelling process, although our binary outcome - bin_heart and majorvessel and are floats where it should be a integer as floats types may be too large for PCA:"
   ]
  },
  {
   "cell_type": "code",
   "execution_count": 53,
   "metadata": {},
   "outputs": [],
   "source": [
    "redfern_hospital = redfern_hospital.astype({'bin_heart':'int64', 'majorvessel':'int64'})\n",
    "#redfern_hospital.info()"
   ]
  },
  {
   "cell_type": "markdown",
   "metadata": {},
   "source": [
    "### Seperating target (outcome) from features"
   ]
  },
  {
   "cell_type": "code",
   "execution_count": 54,
   "metadata": {},
   "outputs": [],
   "source": [
    "y = redfern_hospital['bin_heart']"
   ]
  },
  {
   "cell_type": "code",
   "execution_count": 55,
   "metadata": {},
   "outputs": [],
   "source": [
    "X = redfern_hospital.drop(['bin_heart'], axis=1)"
   ]
  },
  {
   "cell_type": "markdown",
   "metadata": {},
   "source": [
    "### Splitting the data into training and test sets\n",
    "We will use 80% as training data and 20% as the test set."
   ]
  },
  {
   "cell_type": "code",
   "execution_count": 56,
   "metadata": {},
   "outputs": [],
   "source": [
    "from sklearn.model_selection import train_test_split\n",
    "X_train, X_test, y_train, y_test = train_test_split(X, y, test_size=0.20, random_state=0, stratify=y)"
   ]
  },
  {
   "cell_type": "markdown",
   "metadata": {},
   "source": [
    "### Scaling the dataset for PCA and subsequent models"
   ]
  },
  {
   "cell_type": "markdown",
   "metadata": {},
   "source": [
    "We will standardize the data as PCA is sensitive to scale, particularly variance, using the StandardScaler to scale features to a normal distribution with variance of 1 and mean of 0 - subsequent models will also benefit from this scaling."
   ]
  },
  {
   "cell_type": "code",
   "execution_count": 57,
   "metadata": {},
   "outputs": [],
   "source": [
    "#Creating a scaler object\n",
    "scaler = StandardScaler()\n",
    "# Fitting on training set only.\n",
    "scaler.fit(X_train)\n",
    "# Applying scaler transformation to both the training and the test set.\n",
    "Scaled_X_train = scaler.transform(X_train)\n",
    "Scaled_X_test = scaler.transform(X_test)"
   ]
  },
  {
   "cell_type": "markdown",
   "metadata": {},
   "source": [
    "### Importing and applying PCA dimensionality reduction:\n",
    "We will choose the minimum number of principal components that will ensure 95% of the variance explaining the data is retained."
   ]
  },
  {
   "cell_type": "code",
   "execution_count": 58,
   "metadata": {},
   "outputs": [
    {
     "data": {
      "text/plain": [
       "PCA(copy=True, iterated_power='auto', n_components=0.95, random_state=0,\n",
       "    svd_solver='auto', tol=0.0, whiten=False)"
      ]
     },
     "execution_count": 58,
     "metadata": {},
     "output_type": "execute_result"
    }
   ],
   "source": [
    "from sklearn.decomposition import PCA\n",
    "# creating a PCA instance model \n",
    "pca_model = PCA(n_components = 0.95, random_state=0)\n",
    "#Fitting the fitted PCA model on training set only.\n",
    "pca_model.fit(Scaled_X_train)"
   ]
  },
  {
   "cell_type": "code",
   "execution_count": 59,
   "metadata": {},
   "outputs": [
    {
     "name": "stdout",
     "output_type": "stream",
     "text": [
      "16\n"
     ]
    }
   ],
   "source": [
    "print(pca_model.n_components_)"
   ]
  },
  {
   "cell_type": "code",
   "execution_count": 60,
   "metadata": {},
   "outputs": [
    {
     "name": "stdout",
     "output_type": "stream",
     "text": [
      "[0.18059009 0.28125625 0.36041811 0.42945802 0.49545669 0.55485529\n",
      " 0.60889154 0.6599344  0.70845702 0.75425268 0.79492804 0.83459898\n",
      " 0.86918655 0.90176053 0.93239886 0.95798207]\n"
     ]
    },
    {
     "data": {
      "image/png": "[encoded data removed]",
      "text/plain": [
       "<Figure size 432x288 with 1 Axes>"
      ]
     },
     "metadata": {
      "needs_background": "light"
     },
     "output_type": "display_data"
    },
    {
     "name": "stdout",
     "output_type": "stream",
     "text": [
      "The Minimum number of dimensions that explain 95% of the data variance is : 16\n"
     ]
    }
   ],
   "source": [
    "# Plotting the cumulative sum of explained variance from the fitted PCA model.\n",
    "cumulative_sum = np.cumsum(pca_model.explained_variance_ratio_)\n",
    "print(cumulative_sum)\n",
    "plt.plot(cumulative_sum)\n",
    "plt.xlabel('Dimension')\n",
    "plt.ylabel('Cumulative Explained Variance')\n",
    "plt.grid(True)\n",
    "plt.show()\n",
    "\n",
    "# Computing the minimum number of dimensions (d) that explain 95% of the data variance\n",
    "d = np.argmax(cumulative_sum >= 0.95)+1\n",
    "print(\"The Minimum number of dimensions that explain 95% of the data variance is : {}\".format(d))\n"
   ]
  },
  {
   "cell_type": "code",
   "execution_count": 61,
   "metadata": {},
   "outputs": [],
   "source": [
    "# Applying PCA transformations to both the training and the test set.\n",
    "Reduced_X_train = pca_model.transform(Scaled_X_train)\n",
    "Reduced_X_test = pca_model.transform(Scaled_X_test)"
   ]
  },
  {
   "cell_type": "markdown",
   "metadata": {},
   "source": [
    "From this PCA analysis we can conclude that 95% of the variance of the dataset is explained by 16 Principal Components, thereby allowing us to significantly reduce the dimensions of the dataset (which was greatly increased by hot-encoding categorical variables) to only 16 dimensions whilst still retaining important information captured by the variance within all important features whilst significantly reducing redundancy turning these into different representations of the data. This will ultimately allow our more complex and costly models to be run more efficiently and hopefully maximise the accuracy of our models."
   ]
  },
  {
   "cell_type": "markdown",
   "metadata": {},
   "source": [
    "## Choosing a model, Training, Evaluation, Hyperparameter Tuning and Prediction\n",
    "For this stage we will train five models in total; a linear model, a Decision Tree model, a Support Vector Machine, A Artifical Neural Network and finally a fifth model depending on the results of our best model from the first four models trained and evaluated. Throughout this assessment we will use accuracy as our metric for cross-validation scoring and evaluation for obtaining best parameters for each model. With this being a reliable indicator of predictive performance in making correct classifications of Heart Disease of our models on a dataset which is overall balanced. If the dataset was significantly imbalanced,however, then we would have considered using a more robust metric such as an F1 score."
   ]
  },
  {
   "cell_type": "markdown",
   "metadata": {},
   "source": [
    "## 1. Choosing a model, Training, Evaluation, Hyperparameter Tuning and Prediction - Logistic Regression"
   ]
  },
  {
   "cell_type": "markdown",
   "metadata": {},
   "source": [
    "### Justification of Logistic Regression as choice for linear model: "
   ]
  },
  {
   "cell_type": "markdown",
   "metadata": {},
   "source": [
    "First we will apply a default Logistic regression model to both our reduced PCA training data and our scaled only training dataset seperately and compare these to see which data processing method improves accuracy the most with a 5-fold CV - we will then use the best performing processed data to apply to our logistic regression model with hyperparameter tuning to find the best model."
   ]
  },
  {
   "cell_type": "markdown",
   "metadata": {},
   "source": [
    "##### Assessing accuracy of default Logistic Regression model on standardised only dataset:\n",
    "As this is a classification task, we have decided logistic regression is the most appropriate of available linear models. Whether L1 or L2 regularization or none at all are used will be determined by which produces the best accuracy and the trade off with interpretation.\n"
   ]
  },
  {
   "cell_type": "code",
   "execution_count": 62,
   "metadata": {
    "scrolled": true
   },
   "outputs": [
    {
     "name": "stderr",
     "output_type": "stream",
     "text": [
      "C:\\ProgramData\\Anaconda3\\lib\\site-packages\\sklearn\\linear_model\\logistic.py:432: FutureWarning: Default solver will be changed to 'lbfgs' in 0.22. Specify a solver to silence this warning.\n",
      "  FutureWarning)\n"
     ]
    },
    {
     "name": "stdout",
     "output_type": "stream",
     "text": [
      "Best accuracy score: 0.81\n"
     ]
    }
   ],
   "source": [
    "Log_Reg_default = LogisticRegression()\n",
    "#Fitting the default Model with our standardised only training data\n",
    "Log_Reg_default.fit(Scaled_X_train, y_train)\n",
    "print(\"Best accuracy score: {:.2f}\".format(Log_Reg_default.score(Scaled_X_test, y_test)))"
   ]
  },
  {
   "cell_type": "markdown",
   "metadata": {},
   "source": [
    "##### Assessing accuracy of default Logistic Regression model on standardised and dimensionality reduced (PCA) dataset:\n"
   ]
  },
  {
   "cell_type": "code",
   "execution_count": 63,
   "metadata": {},
   "outputs": [
    {
     "name": "stderr",
     "output_type": "stream",
     "text": [
      "C:\\ProgramData\\Anaconda3\\lib\\site-packages\\sklearn\\linear_model\\logistic.py:432: FutureWarning: Default solver will be changed to 'lbfgs' in 0.22. Specify a solver to silence this warning.\n",
      "  FutureWarning)\n"
     ]
    },
    {
     "name": "stdout",
     "output_type": "stream",
     "text": [
      "Best accuracy score: 0.82\n"
     ]
    }
   ],
   "source": [
    "Log_Reg_default2 = LogisticRegression() \n",
    "#Fitting the GridSearchCV default Model with our standardised only training data\n",
    "Log_Reg_default2.fit(Reduced_X_train, y_train)\n",
    "print(\"Best accuracy score: {:.2f}\".format(Log_Reg_default2.score(Reduced_X_test, y_test)))"
   ]
  },
  {
   "cell_type": "markdown",
   "metadata": {},
   "source": [
    "#### Therefore, we can see the dimensionally-reduced data only slightly increases accuracy, thus we will use the standardized only dataset with our logistic regression parameter search to emphasis interpretability, as our high-dimensional PCA dataset has greatly reduced interpretability for most of our models."
   ]
  },
  {
   "cell_type": "code",
   "execution_count": 67,
   "metadata": {},
   "outputs": [],
   "source": [
    "#creating logistic regression model object for passing into pipe object\n",
    "Log_Reg = LogisticRegression()\n",
    "\n",
    "# Intiating pipeLine object with standardization and logistic model as arguements for pipe to sequentially\n",
    "#fit the Log_Reg model and allow easy customisation in the future of the model if additional functionality needs to be added to the pipe.\n",
    "pipe = Pipeline([('Estimator', Log_Reg)])"
   ]
  },
  {
   "cell_type": "code",
   "execution_count": 68,
   "metadata": {},
   "outputs": [],
   "source": [
    "#Creating a parameter dictionary variable for inputting as an arguement to our GridSearchCV object for parameter search\n",
    "#of all possible iterations of C and class_weight parameters for our logistic regression model.\n",
    "param_grid = {'Estimator__C': [0.001, 0.01, 0.1, 1, 10, 100], \n",
    "'Estimator__class_weight':['balanced',{0:0.1, 1:0.9}, {0:0.2, 1:0.8}, {0:0.3, 1:0.7}, {0:0.4, 1:0.6},{0:0.5, 1:0.5},\n",
    "                          {0:0.9, 1:0.1}, {0:0.8, 1:0.2}, {0:0.7, 1:0.3}, {0:0.6, 1:0.4}], \n",
    "             'Estimator__penalty':['l1', 'l2']}"
   ]
  },
  {
   "cell_type": "code",
   "execution_count": 69,
   "metadata": {},
   "outputs": [],
   "source": [
    "#Initialising a GridSearchCV object which will take our pipeline object and parameter_grid variable as arguements\n",
    "Grid_search = GridSearchCV(pipe, param_grid, cv=5, n_jobs=-1)"
   ]
  },
  {
   "cell_type": "code",
   "execution_count": 70,
   "metadata": {},
   "outputs": [
    {
     "name": "stderr",
     "output_type": "stream",
     "text": [
      "C:\\ProgramData\\Anaconda3\\lib\\site-packages\\sklearn\\linear_model\\logistic.py:432: FutureWarning: Default solver will be changed to 'lbfgs' in 0.22. Specify a solver to silence this warning.\n",
      "  FutureWarning)\n"
     ]
    },
    {
     "name": "stdout",
     "output_type": "stream",
     "text": [
      "Best parameters: {'Estimator__C': 0.001, 'Estimator__class_weight': {0: 0.4, 1: 0.6}, 'Estimator__penalty': 'l1'}\n",
      "Best cross-validation score: 0.82\n"
     ]
    }
   ],
   "source": [
    "#Fitting the GridSearchCV Model with our training data\n",
    "Grid_search.fit(Scaled_X_train, y_train)\n",
    "#Printing the best parameters after completeing a grid search for , regularization, C and class_weight parameters with\n",
    "#an internal 5-fold cross validation using a logistic regression model and standardised training data with validation data\n",
    "print(\"Best parameters: {}\".format(Grid_search.best_params_))\n",
    "#Printing the best parameters after completeing a grid search for both C and class_weight parameters with\n",
    "#an internal 5-fold cross validation using a logistic regression model and standardised training data with validation data\n",
    "print(\"Best cross-validation score: {:.2f}\".format(Grid_search.best_score_))"
   ]
  },
  {
   "cell_type": "code",
   "execution_count": 71,
   "metadata": {},
   "outputs": [
    {
     "name": "stdout",
     "output_type": "stream",
     "text": [
      "Saving best parameter logistic regression model\n",
      "Model has been saved to Best_logistic_regression_model.pkl in working directory \n"
     ]
    }
   ],
   "source": [
    "print(\"Saving best parameter logistic regression model\")\n",
    "pickle.dump( Grid_search, open( \"Best_logistic_regression_model.pkl\", \"wb\" ) )\n",
    "print(\"Model has been saved to Best_logistic_regression_model.pkl in working directory \")\n"
   ]
  },
  {
   "cell_type": "code",
   "execution_count": 66,
   "metadata": {},
   "outputs": [],
   "source": [
    "#Loading in the best logistic model:\n",
    "logistic_model=pickle.load(open(\"Best_logistic_regression_model.pkl\",\"rb\"))"
   ]
  },
  {
   "cell_type": "markdown",
   "metadata": {},
   "source": [
    "We can see that logistic regression with L1 Regularization, slightly biased class weights towards the positive class and C parameter of 0.001 returns the \n",
    "maximum accuracy score of 0.82 for the model based on the non-PCA training data."
   ]
  },
  {
   "cell_type": "code",
   "execution_count": 72,
   "metadata": {},
   "outputs": [
    {
     "name": "stdout",
     "output_type": "stream",
     "text": [
      "Confusion matrix:\n",
      "[[6312 1086]\n",
      " [1390 4913]]\n",
      "\n"
     ]
    },
    {
     "data": {
      "image/png": "[encoded data removed]",
      "text/plain": [
       "<Figure size 432x288 with 2 Axes>"
      ]
     },
     "metadata": {
      "needs_background": "light"
     },
     "output_type": "display_data"
    }
   ],
   "source": [
    "#Creating prediction variable for constructing confusion matrix\n",
    "ypred = logistic_model.predict(Scaled_X_test)\n",
    "\n",
    "#Creating confusion matrix\n",
    "confusion = confusion_matrix(y_test, ypred)\n",
    "print(\"Confusion matrix:\\n{}\\n\".format(confusion))\n",
    "\n",
    "import matplotlib.pyplot as plt\n",
    "fig = plt.figure()\n",
    "ax = fig.add_subplot(111)\n",
    "cax = ax.matshow(confusion)\n",
    "plt.title('Confusion matrix of the classifier')\n",
    "fig.colorbar(cax)\n",
    "ax.set_xticklabels([''])\n",
    "ax.set_yticklabels([''])\n",
    "plt.xlabel('Predicted class')\n",
    "plt.ylabel('True class')\n",
    "plt.show()"
   ]
  },
  {
   "cell_type": "markdown",
   "metadata": {},
   "source": [
    " <INSERT-INTERPRETATION-HERE>"
   ]
  },
  {
   "cell_type": "code",
   "execution_count": 73,
   "metadata": {},
   "outputs": [
    {
     "name": "stdout",
     "output_type": "stream",
     "text": [
      "Accuracy: 0.8192832639953288\n",
      "\n",
      "f1 score: 0.80\n",
      "\n",
      "              precision    recall  f1-score   support\n",
      "\n",
      "           0       0.82      0.85      0.84      7398\n",
      "           1       0.82      0.78      0.80      6303\n",
      "\n",
      "    accuracy                           0.82     13701\n",
      "   macro avg       0.82      0.82      0.82     13701\n",
      "weighted avg       0.82      0.82      0.82     13701\n",
      "\n",
      "AUC score is:\n",
      "0.8631952167544071\n",
      "\n"
     ]
    }
   ],
   "source": [
    "#Using default accuracy scoring from logistic regression estimator to get score from the model created by Grid_Search.\n",
    "print(\"Accuracy: {}\\n\".format(logistic_model.score(Scaled_X_test,y_test)))\n",
    "\n",
    "#Calculating F1 score for best model and parameters with test data.\n",
    "print(\"f1 score: {:.2f}\\n\".format(f1_score(y_test, ypred)))\n",
    "\n",
    "#Calculating precision through summarising classification report function\n",
    "print(classification_report(y_test, ypred))\n",
    "\n",
    "from sklearn.metrics import roc_auc_score\n",
    "#Calculating AUC/ROC for the best grid_search model trained on whole data and tested on testset. \n",
    "#predicting with output as probability of class allocation for each observation:\n",
    "y_pred_proba = logistic_model.predict_proba(Scaled_X_test)[:,1]\n",
    "#Calcutating the AUC score for the model:\n",
    "print(\"AUC score is:\\n{}\\n\".format(roc_auc_score(y_true = y_test, y_score = y_pred_proba)))"
   ]
  },
  {
   "cell_type": "markdown",
   "metadata": {},
   "source": [
    "## Result of Logistic Regression with L1 Regularization:\n",
    "We can see the test accuracy is 0.81% with F1 score of 0.80. This not surprising as we can observe that both false positives and false negatives are roughly balanced although the logistic model seems to be more biased towards negative classifications of no HD diagnosis at 1390 false negatives as opposed to 1086 false positives. We can see the ROC score is high at 0.86 reflecting the trade-off between sensitivity (TPR) and specificity (1 – FPR) and again confirming an overall good result for predictive accuracy for the logistic regression model.\n"
   ]
  },
  {
   "cell_type": "markdown",
   "metadata": {},
   "source": [
    "## 2. Choosing a model, Training, Evaluation, Hyperparameter Tuning and Prediction - Random Forest"
   ]
  },
  {
   "cell_type": "markdown",
   "metadata": {},
   "source": [
    "### Justification of Random Forest as Choice for Decision Tree Model: \n",
    "In this case, from available Decision Tree Methods we have chosen the Random Forest Model. The reasoning behind this was that the goal of the study is more so interested in the predictive accuracy than interpretation. The Decision Tree Classifier model would provide good interpretation and reasoning behind the models assumptions and results. However, may not fair as well as a stacked ensemble decision tree method such as Random Forest. Thus, for predictive power and avoiding overfitting (a commmon issue in Decison Tree Classifiers) we have chosen to use these generalizable predictive models, which provide less interpretation although will likely generalize better and provide a greater degree of accuracy, though without being a computationally taxing as a more complex ensembled decision tree algorithm as XG Boost or other Gradient Boosted Trees."
   ]
  },
  {
   "cell_type": "markdown",
   "metadata": {},
   "source": [
    "First we will apply a default Random Forest model to both our reduced PCA training data and our scaled only training dataset seperately and compare these to see which data processing method improves accuracy the most with a 5-fold CV - we will then use the best performing processed data to apply to our Random Forest model with hyperparameter tuning to find the best model."
   ]
  },
  {
   "cell_type": "markdown",
   "metadata": {},
   "source": [
    "##### Assessing accuracy of default Random Forest Model on standardised only dataset:"
   ]
  },
  {
   "cell_type": "code",
   "execution_count": 68,
   "metadata": {},
   "outputs": [
    {
     "name": "stderr",
     "output_type": "stream",
     "text": [
      "C:\\ProgramData\\Anaconda3\\lib\\site-packages\\sklearn\\ensemble\\forest.py:245: FutureWarning: The default value of n_estimators will change from 10 in version 0.20 to 100 in 0.22.\n",
      "  \"10 in version 0.20 to 100 in 0.22.\", FutureWarning)\n"
     ]
    },
    {
     "name": "stdout",
     "output_type": "stream",
     "text": [
      "Best accuracy score: 0.83\n"
     ]
    }
   ],
   "source": [
    "from sklearn.ensemble import RandomForestClassifier\n",
    "forest_default = RandomForestClassifier()\n",
    "#Fitting the default Model with our standardised only training data\n",
    "forest_default.fit(Scaled_X_train, y_train)\n",
    "print(\"Best accuracy score: {:.2f}\".format(forest_default.score(Scaled_X_test,y_test)))"
   ]
  },
  {
   "cell_type": "markdown",
   "metadata": {},
   "source": [
    "##### Assessing accuracy of default Random Forest model on standardised and dimensionality reduced (PCA) dataset:\n"
   ]
  },
  {
   "cell_type": "code",
   "execution_count": 69,
   "metadata": {},
   "outputs": [
    {
     "name": "stderr",
     "output_type": "stream",
     "text": [
      "C:\\ProgramData\\Anaconda3\\lib\\site-packages\\sklearn\\ensemble\\forest.py:245: FutureWarning: The default value of n_estimators will change from 10 in version 0.20 to 100 in 0.22.\n",
      "  \"10 in version 0.20 to 100 in 0.22.\", FutureWarning)\n"
     ]
    },
    {
     "name": "stdout",
     "output_type": "stream",
     "text": [
      "Best accuracy score: 0.81\n"
     ]
    }
   ],
   "source": [
    "forest_default2 = RandomForestClassifier()\n",
    "#Fitting the default Model with our standardised only training data\n",
    "forest_default2.fit(Reduced_X_train, y_train)\n",
    "print(\"Best accuracy score: {:.2f}\".format(forest_default2.score(Reduced_X_test,y_test)))"
   ]
  },
  {
   "cell_type": "markdown",
   "metadata": {},
   "source": [
    "#### Therefore, we can see the dimensionally-reduced data through PCA provides a poorer default accuracy and thus we will use the scaled only dataset instead during our hyperparameter search for the best Random Forest model with the highest degree of interpretability."
   ]
  },
  {
   "cell_type": "code",
   "execution_count": 71,
   "metadata": {},
   "outputs": [],
   "source": [
    "#creating random forest model object for passing into pipe object\n",
    "forest = RandomForestClassifier()\n",
    "\n",
    "# Intiating pipeLine object with standardization and random forest as arguements for pipe to sequentially\n",
    "#fit the model and allow easy customisation in the future of the model if additional functionality needs to be added to the pipe.\n",
    "pipe2 = Pipeline([('Estimator', forest)])\n"
   ]
  },
  {
   "cell_type": "code",
   "execution_count": 74,
   "metadata": {},
   "outputs": [],
   "source": [
    "#Creating a parameter dictionary variable for inputting as an arguement to our GridSearchCV object for parameter search\n",
    "#of all possible iterations of parameters for our Random Forest model.\n",
    "param_grid2 = {'Estimator__class_weight':[{0: 0.4, 1: 0.6},{0: 0.3, 1: 0.7}, {0: 0.2, 1: 0.8},\n",
    "               'balanced'], \n",
    "              'Estimator__max_depth':[3,5,8,10], 'Estimator__n_estimators':[500, 1000, 1500],\n",
    "              'Estimator__max_features':['sqrt', 'log2']}"
   ]
  },
  {
   "cell_type": "code",
   "execution_count": 76,
   "metadata": {},
   "outputs": [
    {
     "name": "stdout",
     "output_type": "stream",
     "text": [
      "Best parameters: {'Estimator__class_weight': {0: 0.4, 1: 0.6}, 'Estimator__max_depth': 10, 'Estimator__max_features': 'log2', 'Estimator__n_estimators': 500}\n",
      "Best cross-validation score: 0.85\n"
     ]
    }
   ],
   "source": [
    "#Initialising a GridSearchCV object which will take our pipeline object and parameter_grid variable as arguements\n",
    "Grid_search2 = GridSearchCV(pipe2, param_grid2, cv=5, n_jobs=-1)\n",
    "#Fitting the GridSearchCV Model with our training data\n",
    "Grid_search2.fit(Scaled_X_train, y_train)\n",
    "#Printing the best parameters after completeing a grid search for parameters with\n",
    "#an internal 5-fold cross validation using a Random Forest model and standardised training data with validation data\n",
    "print(\"Best parameters: {}\".format(Grid_search2.best_params_))\n",
    "#Printing the best parameters after completeing a grid search for both C and class_weight parameters with\n",
    "#an internal 5-fold cross validation using a logistic regression model and standardised training data with validation data\n",
    "print(\"Best cross-validation score: {:.2f}\".format(Grid_search2.best_score_))"
   ]
  },
  {
   "cell_type": "code",
   "execution_count": 77,
   "metadata": {},
   "outputs": [
    {
     "name": "stdout",
     "output_type": "stream",
     "text": [
      "Saving best parameter Random Forest model\n",
      "Model has been saved to Best_RandomForest_model.pkl in working directory \n"
     ]
    }
   ],
   "source": [
    "import pickle\n",
    "print(\"Saving best parameter Random Forest model\")\n",
    "pickle.dump( Grid_search2, open( \"Best_RandomForest_model.pkl\", \"wb\" ) )\n",
    "print(\"Model has been saved to Best_RandomForest_model.pkl in working directory \")"
   ]
  },
  {
   "cell_type": "code",
   "execution_count": 74,
   "metadata": {},
   "outputs": [],
   "source": [
    "#Loading in the best random forest model:\n",
    "Random_forest_model=pickle.load(open(\"Best_RandomForest_model.pkl\",\"rb\"))"
   ]
  },
  {
   "cell_type": "code",
   "execution_count": 75,
   "metadata": {},
   "outputs": [
    {
     "name": "stdout",
     "output_type": "stream",
     "text": [
      "Confusion matrix:\n",
      "[[6432  966]\n",
      " [1171 5132]]\n",
      "\n"
     ]
    },
    {
     "data": {
      "image/png": "[encoded data removed]",
      "text/plain": [
       "<Figure size 432x288 with 2 Axes>"
      ]
     },
     "metadata": {
      "needs_background": "light"
     },
     "output_type": "display_data"
    }
   ],
   "source": [
    "#Creating prediction variable for constructing confusion matrix\n",
    "ypred = Random_forest_model.predict(Scaled_X_test)\n",
    "\n",
    "#Creating confusion matrix\n",
    "confusion = confusion_matrix(y_test, ypred)\n",
    "print(\"Confusion matrix:\\n{}\\n\".format(confusion))\n",
    "\n",
    "import matplotlib.pyplot as plt\n",
    "fig = plt.figure()\n",
    "ax = fig.add_subplot(111)\n",
    "cax = ax.matshow(confusion)\n",
    "plt.title('Confusion matrix of the classifier')\n",
    "fig.colorbar(cax)\n",
    "ax.set_xticklabels([''])\n",
    "ax.set_yticklabels([''])\n",
    "plt.xlabel('Predicted class')\n",
    "plt.ylabel('True class')\n",
    "plt.show()"
   ]
  },
  {
   "cell_type": "code",
   "execution_count": 76,
   "metadata": {},
   "outputs": [
    {
     "name": "stdout",
     "output_type": "stream",
     "text": [
      "Accuracy: 0.8440259835048537\n",
      "\n",
      "f1 score: 0.83\n",
      "\n",
      "              precision    recall  f1-score   support\n",
      "\n",
      "           0       0.85      0.87      0.86      7398\n",
      "           1       0.84      0.81      0.83      6303\n",
      "\n",
      "    accuracy                           0.84     13701\n",
      "   macro avg       0.84      0.84      0.84     13701\n",
      "weighted avg       0.84      0.84      0.84     13701\n",
      "\n",
      "AUC score is:\n",
      "0.906342493567497\n",
      "\n"
     ]
    }
   ],
   "source": [
    "#Using default accuracy scoring from Random Forest estimator to get score from the model created by Grid_Search.\n",
    "print(\"Accuracy: {}\\n\".format(Random_forest_model.score(Scaled_X_test,y_test)))\n",
    "\n",
    "#Calculating F1 score for best model and parameters with test data.\n",
    "print(\"f1 score: {:.2f}\\n\".format(f1_score(y_test, ypred)))\n",
    "\n",
    "#Calculating precision through summarising classification report function\n",
    "print(classification_report(y_test, ypred))\n",
    "\n",
    "#Calculating AUC/ROC for the best grid_search model trained on whole data and tested on testset. \n",
    "#predicting with output as probability of class allocation for each observation:\n",
    "y_pred_proba = Random_forest_model.predict_proba(Scaled_X_test)[:,1]\n",
    "#Calcutating the AUC score for the model:\n",
    "print(\"AUC score is:\\n{}\\n\".format(roc_auc_score(y_true = y_test, y_score = y_pred_proba)))"
   ]
  },
  {
   "cell_type": "markdown",
   "metadata": {},
   "source": [
    "## Results of Random Forest Model:\n",
    "As compared with our logistic Regression model, we can observe that the final Random Forest (RF) model has higher accuracy and F1 score overall, and further has reduced both false negatives and false positives, though like the logistic regression model still being slightly biased towards negative classifications rather than positive classifications. Finally, the ROC is significantly higher at 0.906 indicating an increase in general predictive accuracy though with less interpretability as the logistic regression model, though with weightings of importance obtainable if this is considered the most appropriate and accurate model for our goal of prediction of HD. Overall, we can see for these purposes the RF model is more superior than the logistic regression model overall."
   ]
  },
  {
   "cell_type": "markdown",
   "metadata": {},
   "source": [
    "## 3. Choosing a model, Training, Evaluation, Hyperparameter Tuning and Prediction - Support Vector Machine (SVM)"
   ]
  },
  {
   "cell_type": "markdown",
   "metadata": {},
   "source": [
    "In this case we will use our dimensionally reduced PCA dataset for the best performing processed data to apply our SVM model with hyperparameter tuning to find the best model most efficently. This is due to computationaly efficiency from dimensionality reduction (PCA) and secondly the SVC interpretability is relatively poor in comparison to our earlier logistic and decision-Tree based models thus there will not be significant benefit in terms of interpretability in using the standardised only data. Furthermore, due to limitations in computing power by the research team we have opted for using the google cloud computing platform namly a virtual engine instance based on n1-standard-8 machine type, that is 8 CPUs. Prior to using google cloud platform on the datalab, we were unable to run the model efficently and recieve an output with the below settings. The results from the cloud computation have been added in and the code used is as below."
   ]
  },
  {
   "cell_type": "code",
   "execution_count": 86,
   "metadata": {},
   "outputs": [],
   "source": [
    "from sklearn.svm import SVC\n",
    "from scipy.stats import expon\n",
    "from sklearn.pipeline import Pipeline\n",
    "#creating random forest model object for passing into pipe object\n",
    "SVM = SVC(probability=True)\n",
    "\n",
    "# Intiating pipeLine object with standardization and random forest as arguements for pipe to sequentially\n",
    "#fit the model and allow easy customisation in the future of the model if additional functionality needs to be added to the pipe.\n",
    "pipe3 = Pipeline([('Estimator', SVM)])"
   ]
  },
  {
   "cell_type": "code",
   "execution_count": null,
   "metadata": {},
   "outputs": [],
   "source": [
    "#Creating a parameter dictionary variable for inputting as an arguement to our GridSearchCV object for parameter search\n",
    "#of all possible iterations of kernels, gamma, C parameters for our SVC model.\n",
    "parameter_distribution = {'Estimator__C': expon(scale=10), 'Estimator__gamma': expon(scale=1/30), \n",
    "                          'Estimator__kernel': ['rbf'], 'Estimator__class_weight':['balanced', None]}"
   ]
  },
  {
   "cell_type": "code",
   "execution_count": null,
   "metadata": {},
   "outputs": [],
   "source": [
    "random_searchSVC = RandomizedSearchCV(pipe3, parameter_distribution,cv=3,n_iter=10)\n",
    "random_searchSVC.fit(Reduced_X_train, y_train)\n",
    "#Printing the best parameters after completeing a randomised grid search for parameters with\n",
    "#an internal 3-fold cross validation using a SVC classification model and standardised, reduced training data \n",
    "#with validation data.\n",
    "print(\"Best parameters: {}\".format(random_searchSVC.best_params_))\n",
    "#Printing the best parameters after completeing a randomised search for both C and class_weight parameters with\n",
    "#an internal 3-fold cross validation using a SVC classification model and standardised training data with validation data\n",
    "print(\"Best cross-validation score: {:.2f}\".format(random_searchSVC.best_score_))"
   ]
  },
  {
   "cell_type": "markdown",
   "metadata": {},
   "source": [
    "### Best Parameters of SVC from Cloud Computation:\n",
    "\n",
    "Best parameters: {'Estimator__class_weight': 'balanced', 'Estimator__kernel': 'rbf', 'Estimator__gamma': 0.01726208510783589, 'Estimator__C': 5.314673957933001}\n",
    "\n",
    "Best cross-validation score: 0.84"
   ]
  },
  {
   "cell_type": "code",
   "execution_count": null,
   "metadata": {},
   "outputs": [],
   "source": [
    "print(\"Saving best parameter SVM model\")\n",
    "pickle.dump(random_searchSVC, open( \"Best_SVM_model.pkl\", \"wb\" ) )\n",
    "print(\"Model has been saved to Best_SVM_model.pkl in working directory \")\n"
   ]
  },
  {
   "cell_type": "code",
   "execution_count": 31,
   "metadata": {},
   "outputs": [],
   "source": [
    "#Loading in the best SVM model:\n",
    "SVM_model=pickle.load(open(\"Best_SVM_model.pkl\",\"rb\"))"
   ]
  },
  {
   "cell_type": "markdown",
   "metadata": {},
   "source": [
    "### Results of SVC from Google Cloud Computation using n1-standard-8 machine:\n",
    "Note: The same code in the document was used in a google datalab jupyter environment to obtain the below outputs from best models in the above parameter search. Unfortunately, we were not able to save this final model from the cloud using pickle and import this pickle file to use directly within this project file. This is the justification for copying in outputs in this manner. Alternatively if you run the model fitting above, you will also return the same result though these searches will be costly and timely without a machine with CPU capacity greater than 8."
   ]
  },
  {
   "cell_type": "markdown",
   "metadata": {},
   "source": [
    "If running above code for model output uncomment the below two statements to create confusion matrix and comment out default confusion matrix."
   ]
  },
  {
   "cell_type": "code",
   "execution_count": null,
   "metadata": {},
   "outputs": [],
   "source": [
    "#CONFUSION MATRIX FROM RUNNING ABOVE CODE:\n",
    "\n",
    "#Creating prediction variable for constructing confusion matrix\n",
    "#ypred = xgb_search.predict(Reduced_X_test)\n",
    "\n",
    "#Creating manual confusion matrix with results from cloud computed output:\n",
    "#confusion = confusion_matrix(y_test, ypred)"
   ]
  },
  {
   "cell_type": "markdown",
   "metadata": {},
   "source": [
    "If not running above models that use default confusion matrix with inputted values from cloud computation of the above model fitting code:"
   ]
  },
  {
   "cell_type": "code",
   "execution_count": 85,
   "metadata": {},
   "outputs": [
    {
     "name": "stdout",
     "output_type": "stream",
     "text": [
      "Confusion matrix:\n",
      "[[6522, 876], [1361, 4942]]\n",
      "\n"
     ]
    },
    {
     "data": {
      "image/png": "[encoded data removed]",
      "text/plain": [
       "<Figure size 432x288 with 2 Axes>"
      ]
     },
     "metadata": {
      "needs_background": "light"
     },
     "output_type": "display_data"
    }
   ],
   "source": [
    "#DEFAULT CONFUSION MATRIX FROM CLOUD COMPUTATION OF ABOVE CODE:\n",
    "\n",
    "confusion =  [[6522, 876],\n",
    "              [1361, 4942]]\n",
    "print(\"Confusion matrix:\\n{}\\n\".format(confusion))\n",
    "\n",
    "\n",
    "import matplotlib.pyplot as plt\n",
    "fig = plt.figure()\n",
    "ax = fig.add_subplot(111)\n",
    "cax = ax.matshow(confusion)\n",
    "plt.title('Confusion matrix of the classifier')\n",
    "fig.colorbar(cax)\n",
    "ax.set_xticklabels([''])\n",
    "ax.set_yticklabels([''])\n",
    "plt.xlabel('Predicted class')\n",
    "plt.ylabel('True class')\n",
    "plt.show()"
   ]
  },
  {
   "cell_type": "code",
   "execution_count": null,
   "metadata": {},
   "outputs": [],
   "source": [
    "#Using default accuracy scoring from SVC estimator to get score from the model created by the random search.\n",
    "print(\"Accuracy: {}\\n\".format(SVM_model.score(Reduced_X_test,y_test)))\n",
    "\n",
    "#Calculating F1 score for best model and parameters with test data.\n",
    "print(\"f1 score: {:.2f}\\n\".format(f1_score(y_test, ypred)))\n",
    "\n",
    "#Calculating precision through summarising classification report function\n",
    "print(classification_report(y_test, ypred))\n",
    "from sklearn.metrics import roc_auc_score\n",
    "#Calculating AUC/ROC for the best grid_search model trained on whole data and tested on testset. \n",
    "#predicting with output as probability of class allocation for each observation:\n",
    "y_pred_proba = SVM_model.predict_proba(Reduced_X_test)[:,1]\n",
    "#Calcutating the AUC score for the model:\n",
    "print(\"AUC score is:\\n{}\\n\".format(roc_auc_score(y_true = y_test, y_score = y_pred_proba)))"
   ]
  },
  {
   "cell_type": "markdown",
   "metadata": {},
   "source": [
    "Accuracy: 0.8367272461864097\n",
    "\n",
    "f1 score: 0.82\n",
    "\n",
    "             precision    recall  f1-score   support\n",
    "\n",
    "          0       0.83      0.88      0.85      7398\n",
    "          1       0.85      0.78      0.82      6303\n",
    "          T       0.84      0.84      0.84     13701\n",
    "\n",
    "ROC score is:\n",
    "0.8726357879075679"
   ]
  },
  {
   "cell_type": "markdown",
   "metadata": {},
   "source": [
    "### Summary of SVC:\n",
    "Firstly, a major consideration in analysing the results of the SVC model on the dataset is that due to computational limitations even when implementing training through the cloud with a n1-standard-8 machine the parameter search was reduced through the application of a Randomised rather than brute-force grid search. This means that rather than assessing all key perturbations of parameters together in all combinations and taking the best CV result, we rather set a limit on iterations of random sampling from the parameter space. Thus as compared with the two prior models the likelihood of reaching the optima for parameters was far reduced and thus for our computational ability and with the resources available this is the best SVC that could be trained on the Redfern hospital data, although it should be considered that with greater computational resources and a better optimized hyperparameter search we could likely find a better performing SVC model.\n",
    "\n",
    "With this limitation considered, the results of our best trained SVC model is superior in predictive power than the logistic regression model though poorer than the Random Forest model. With interpretation being reduced due to reliance on the PCA reduced dataset. This is illustrated by a ROC of 0.87 and F1 score of 0.82. We can see that the bias towards false negatives is increased as compared with the logistic regression model and more so when compared with the RF model. This suggests that the best trained SVC model is not as appropriate as a predictive model to the RF."
   ]
  },
  {
   "cell_type": "markdown",
   "metadata": {},
   "source": [
    "## 4. Choosing a model, Training, Evaluation, Hyperparameter Tuning and Prediction - Artifical Neural Network"
   ]
  },
  {
   "cell_type": "markdown",
   "metadata": {},
   "source": [
    "We will not apply a default ANN model to both our reduced PCA training data and our scaled only training dataset seperately due to computation limitations as we have done previously with other models (linear and decision tree) as ANN's are highly computationally-taxing models to build and have inheritantly poor interpretability due to significant model complexity thus the PCA reduced dataset will likely be of most benefit in the deep learning context and with our resources using only one dataset will be the best allocation of our resources. Furthermore, Google cloud was again implemented to obtain our results for the ANN model to increase computational ability for training."
   ]
  },
  {
   "cell_type": "code",
   "execution_count": null,
   "metadata": {},
   "outputs": [],
   "source": [
    "#Creating a function for input into a KerasClassifier wrapping function to allow the model to be usable within sklearn\n",
    "def create_network(neurons=5,drop_rate_input=0.0, drop_rate_hidden1=0.0, drop_rate_hidden2=0.0):\n",
    "    # creating the neural network model object with two parameters for independant dropout rates for two independant\n",
    "    # layers the input layer and hidden layer of the neural network\n",
    "    network = models.Sequential()\n",
    "    \n",
    "    #initalizing First input layer:\n",
    "    network.add(layers.Dense(input_dim=16, output_dim=8,activation='relu'))\n",
    "    #Adding a dropout regularization layer between the input and first hidden layer with input drop_rate_input parameter\n",
    "    #using probability 'drop_rate_input' (p) to determine if output of input layer will be converted to 0 for specific input neuron\n",
    "    #of an interation of forward feed/back propogation\n",
    "    network.add(Dropout(drop_rate_input))\n",
    "    \n",
    "    #initializing first hidden layer:\n",
    "    network.add(layers.Dense(output_dim=4,activation='relu'))\n",
    "    #Simiarly adding a second dropout regularization layer between 1st hidden layer and output layer with input drop_rate_hidden parameter\n",
    "    #to dropout regularize with probability 'drop_rate_hidden1' :\n",
    "    network.add(Dropout(drop_rate_hidden1))\n",
    "\n",
    "    \n",
    "    #initializing second hidden layer to output:\n",
    "    network.add(Dense(output_dim=1, kernel_initializer='uniform', activation='sigmoid'))\n",
    "    # Compiling the aritifical neural network with input parameters:\n",
    "    network.compile(optimizer='adam',loss='binary_crossentropy',metrics=['accuracy'])    \n",
    "    return network"
   ]
  },
  {
   "cell_type": "code",
   "execution_count": 66,
   "metadata": {},
   "outputs": [],
   "source": [
    "from keras.wrappers.scikit_learn import KerasClassifier\n",
    "#Wrapping the returned ANN from create_network function to allow for implementation into sklearns param_grid:\n",
    "network=KerasClassifier(build_fn=create_network, verbose=0)"
   ]
  },
  {
   "cell_type": "code",
   "execution_count": 67,
   "metadata": {},
   "outputs": [],
   "source": [
    "#Defining our parameter random search variables for tuning of key complimentary parameters:\n",
    "#Batch size/number of neurons specified with the last model:\n",
    "#creating an independant parameter search variable for the first\n",
    "#input layer output for the drop regularization probability of the input layer only.\n",
    "drop_rate_input=[0.0,0.1,0.2,0.3,0.4,0.5,0.6,0.7,0.8,0.9, 1.0]\n",
    "#creating an independant parameter search variable for the first\n",
    "#hidden layer1 output for the drop regularization probability of the hidden layer only.\n",
    "drop_rate_hidden1=[0.0,0.1,0.2,0.3,0.4,0.5,0.6,0.7,0.8,0.9, 1.0]\n",
    "#Note: these parameters for dropout rates have been specified independantly to allow the \n",
    "#grid search to search over the most optimal drop out probabilities for each\n",
    "#dropout layer independantly of other layers for an optimal solution and idea of which layers \n",
    "#dropped out may be most useful. \n",
    "neurons=[5,10,15]\n",
    "batch_size=[50,100,150]\n",
    "epochs=[50,100, 150]\n"
   ]
  },
  {
   "cell_type": "code",
   "execution_count": 68,
   "metadata": {},
   "outputs": [],
   "source": [
    "#Creating a parameter grid dictionary for random sampled hyperparameter tuning:\n",
    "param_grid4 = dict(batch_size=batch_size, epochs=epochs, drop_rate_hidden1=drop_rate_hidden1,\n",
    "                 \n",
    "                  drop_rate_input=drop_rate_input,neurons=neurons\n",
    "                  )"
   ]
  },
  {
   "cell_type": "code",
   "execution_count": null,
   "metadata": {},
   "outputs": [],
   "source": [
    "random_searchANN = RandomizedSearchCV(estimator=network, param_distributions=param_grid4,cv=3,n_iter=10)\n",
    "random_searchANN.fit(Reduced_X_train, y_train)\n",
    "#Printing the best parameters after completeing a randomised grid search for parameters with\n",
    "#an internal 3-fold cross validation using a ANN classification model and standardised, reduced training data\n",
    "#with validation data\n",
    "print(\"Best parameters: {}\".format(random_searchANN.best_params_))\n",
    "#Printing the best parameters after completeing a randomised search for ANN parameters with\n",
    "#an internal 3-fold cross validation using a ANN classification model and standardised, reduced training data \n",
    "#with validation data\n",
    "print(\"Best cross-validation score: {:.2f}\".format(random_searchANN.best_score_))"
   ]
  },
  {
   "cell_type": "markdown",
   "metadata": {},
   "source": [
    "### Best Parameters of ANN from Cloud Computation:\n",
    "Best parameters: {'batch_size': 150, 'drop_rate_hidden1': 0.1, 'epochs': 150, 'drop_rate_input': 0.0, 'neurons': 15}\n",
    "\n",
    "Best cross-validation score: 0.84"
   ]
  },
  {
   "cell_type": "code",
   "execution_count": null,
   "metadata": {},
   "outputs": [],
   "source": [
    "print(\"Saving best parameter ANN model\")\n",
    "pickle.dump( random_searchANN, open( \"Best_ANN_model.pkl\", \"wb\" ) )\n",
    "print(\"Model has been saved to Best_ANN_model.pkl in working directory \")\n",
    "\n",
    "#Loading in the best ANN model:\n",
    "random_searchANN=pickle.load(open(\"Best_ANN_model.pkl\",\"rb\"))"
   ]
  },
  {
   "cell_type": "markdown",
   "metadata": {},
   "source": [
    "### Results of ANN from Google Cloud Computation using n1-standard-8 machine:\n",
    "Note: The same code in the document was used in a google datalab jupyter environment to obtain the below outputs from best models in the above parameter search. Unfortunately, we were not able to save this final model from the cloud using pickle and import this pickle file to use directly within this project file. This is the justification for copying in outputs in this manner. Alternatively if you run the model fitting above, you will also return the same result though these searches will be costly and timely without a machine with CPU capacity greater than 8."
   ]
  },
  {
   "cell_type": "markdown",
   "metadata": {},
   "source": [
    "If running above code for model output uncomment the below two statements to create confusion matrix and comment out default confusion matrix."
   ]
  },
  {
   "cell_type": "code",
   "execution_count": null,
   "metadata": {},
   "outputs": [],
   "source": [
    "#CONFUSION MATRIX FROM RUNNING ABOVE CODE:\n",
    "\n",
    "#Creating prediction variable for constructing confusion matrix\n",
    "#ypred = xgb_search.predict(Reduced_X_test)\n",
    "\n",
    "#Creating manual confusion matrix with results from cloud computed output:\n",
    "#confusion = confusion_matrix(y_test, ypred)"
   ]
  },
  {
   "cell_type": "markdown",
   "metadata": {},
   "source": [
    "If not running above models that use default confusion matrix with inputted values from cloud computation of the above model fitting code:"
   ]
  },
  {
   "cell_type": "code",
   "execution_count": 84,
   "metadata": {},
   "outputs": [
    {
     "name": "stdout",
     "output_type": "stream",
     "text": [
      "Confusion matrix:\n",
      "[[6569, 829], [1407, 4896]]\n",
      "\n"
     ]
    },
    {
     "data": {
      "image/png": "[encoded data removed]",
      "text/plain": [
       "<Figure size 432x288 with 2 Axes>"
      ]
     },
     "metadata": {
      "needs_background": "light"
     },
     "output_type": "display_data"
    }
   ],
   "source": [
    "#DEFAULT CONFUSION MATRIX FROM CLOUD COMPUTATION OF ABOVE CODE:\n",
    "\n",
    "confusion = [[6569, 829], [1407, 4896]]\n",
    "print(\"Confusion matrix:\\n{}\\n\".format(confusion))\n",
    "\n",
    "\n",
    "import matplotlib.pyplot as plt\n",
    "fig = plt.figure()\n",
    "ax = fig.add_subplot(111)\n",
    "cax = ax.matshow(confusion)\n",
    "plt.title('Confusion matrix of the classifier')\n",
    "fig.colorbar(cax)\n",
    "ax.set_xticklabels([''])\n",
    "ax.set_yticklabels([''])\n",
    "plt.xlabel('Predicted class')\n",
    "plt.ylabel('True class')\n",
    "plt.show()"
   ]
  },
  {
   "cell_type": "code",
   "execution_count": null,
   "metadata": {},
   "outputs": [],
   "source": [
    "#Using default accuracy scoring from ANN estimator to get score from the model created by Random search.\n",
    "print(\"Accuracy: {}\\n\".format(random_searchANN.score(Reduced_X_test,y_test)))\n",
    "\n",
    "#Calculating F1 score for best model and parameters with test data.\n",
    "print(\"f1 score: {:.2f}\\n\".format(f1_score(y_test, ypred)))\n",
    "\n",
    "#Calculating precision through summarising classification report function\n",
    "print(classification_report(y_test, ypred))\n",
    "\n",
    "#Calculating AUC/ROC for the best grid_search model trained on whole data and tested on testset. \n",
    "#predicting with output as probability of class allocation for each observation:\n",
    "y_pred_proba = random_searchANN.predict_proba(Reduced_X_test)[:,1]\n",
    "#Calcutating the AUC score for the model:\n",
    "print(\"AUC score is:\\n{}\\n\".format(roc_auc_score(y_true = y_test, y_score = y_pred_proba)))"
   ]
  },
  {
   "cell_type": "markdown",
   "metadata": {},
   "source": [
    "Confusion matrix:\n",
    "\n",
    " [6569  829]\n",
    "\n",
    " [1407 4896]\n",
    "\n",
    "Accuracy: 0.83680023565213\n",
    "\n",
    "f1 score: 0.81\n",
    "\n",
    "             precision    recall  f1-score   support\n",
    "\n",
    "          0       0.82      0.89      0.85      7398\n",
    "          1       0.86      0.78      0.81      6303\n",
    "          3       0.84      0.84      0.84     13701\n",
    "\n",
    "ROC score is:\n",
    "0.888831221648638"
   ]
  },
  {
   "cell_type": "markdown",
   "metadata": {},
   "source": [
    "### Summary of ANN:\n",
    "Firstly, similar to our SVC prior to comparisons between models we must acknowledge that due to computational limitations both in our primary hardware and secondly in outsourcing to Google Cloud we had to compromise on the breadth of our hyperparameter search and depth of our Neural Network Architecture. This has resulted in resorting to a randomised search of the parameter space consisting only 10 iterations. Therefore, our model is unlikely to be within the 5% optimum for the best hyperparameters due to the nature of randomly sampling only 10 times from our parameter space. The justification was thus due limited resources, however, if further resources were available it would be adviced to increase the iterations to 60 which gives a much higher probability of being within the 5% optimum for accuracy or the best hyperparameters for the model. \n",
    "\n",
    "In regards, to our best trained ANN model we decided to use a dense layering schema from a simple sequential model. More complex models such as Recurrent Neural networks (e.g. LSNN) or Convolutional neural networks were not considered as these do not meet our goal of prediction over a non-time stampled, ordered or sequential dataset. We decided to train only the drop-out rate and other key parameters and with only 1 hidden layer from input to output layers to reduce complexity and thus computation. \n",
    "\n",
    "The results, indicate that our best trained ANN performed better than the logistic regression model, though worse than both the Random Forest and SVC in terms of accuracy and F1 score. One noticable distinction is that this model had the highest bias towards negative classifications, with the most false negatives and greatest difference between false positive and false negative results. In terms of AUC we can see the ANN model actually performed better than the SVC model. Overall, however, this suggests thus far that the Random Forest Model is still the most appropriate model from our analysis for prediction purposes having a greater degree of interpretation - not being trained on the reduced PCA data unlike the ANN - and additionally having feature importance functionality and further both a higher ROC and F1 score than the ANN model.\n",
    "\n",
    "It is suggested, however, that with further resources a deeper ANN with a larger amount of iterations for a randomised search or further using an optimised hyperparameter search incorporating priori knowledge of prior search results could give a more comprehensive result in terms of predictive accuracy from an ANN built on this dataset.\n",
    "\n",
    "\n",
    "\n",
    "\n",
    "\n"
   ]
  },
  {
   "cell_type": "markdown",
   "metadata": {},
   "source": [
    "## 5. Choosing a model, Training, Evaluation, Hyperparameter Tuning and Prediction - Gradient Boosted Tree - XGBoost"
   ]
  },
  {
   "cell_type": "markdown",
   "metadata": {},
   "source": [
    "Firstly, as XG Boost is a significantly complex model like ANN's and thus interpretation is rather limited prior\n",
    "to using PCA dimensionality reduction, the reduced training data will thus be highly beneficial for computational efficency in training. Furthermore, we have again implemented Google Cloud computing to undertake a more thorough search of the parameter space using a randomised parameter search protocol with 60 iterations. This has been undertaken as our hardware was not sufficient enough with such a large dataset and in using these more complex models when training. Using 60 iterations we have a good probability of getting within 5% of the optimum range for best parameters with the multidimensional parameter space of the random search, whilst being far more efficient and quicker as compared with a brute-force grid search."
   ]
  },
  {
   "cell_type": "code",
   "execution_count": null,
   "metadata": {},
   "outputs": [],
   "source": [
    "import xgboost as xgb\n",
    "#creating XG tree-gradient-boosting model:\n",
    "xgb = xgb.XGBClassifier()\n",
    "#Creating a parameter grid dictionary for hyperparameter tuning:\n",
    "param_grid = {\n",
    "        'silent': [False],\n",
    "        'max_depth': [6, 10, 15, 20],\n",
    "        'learning_rate': [0.001, 0.01, 0.1, 0.2, 0,3],\n",
    "        'subsample': [0.5, 0.6, 0.7, 0.8, 0.9, 1.0],\n",
    "        'colsample_bytree': [0.4, 0.5, 0.6, 0.7, 0.8, 0.9, 1.0],\n",
    "        'colsample_bylevel': [0.4, 0.5, 0.6, 0.7, 0.8, 0.9, 1.0],\n",
    "        'min_child_weight': [0.5, 1.0, 3.0, 5.0, 7.0, 10.0],\n",
    "        'gamma': [0, 0.25, 0.5, 1.0],\n",
    "        'reg_lambda': [0.1, 1.0, 5.0, 10.0, 50.0, 100.0],\n",
    "        'n_estimators': [50, 100, 150]}\n",
    "\n",
    "#Commencing random search for optimized hyperparameter tuning:\n",
    "xgb_search = RandomizedSearchCV(xgb, param_distributions=param_grid,cv=3, verbose=0,refit=True, n_iter=60, n_jobs=-1)\n",
    "#fitting the model:\n",
    "xgb_search.fit(Reduced_X_train, y_train)\n",
    "#Printing the best parameters after completeing a randomised grid search over main parameters with\n",
    "#an internal 5-fold cross validation using a XGBoost model and standardised training data with validation data\n",
    "print(\"Best parameters: {}\".format(xgb_search.best_params_))\n",
    "#Printing the best parameters after completeing a grid search for all parameters with\n",
    "#an internal 3-fold cross validation using a XG Boost model and standardised training data with validation data\n",
    "print(\"Best cross-validation score: {:.2f}\".format(xgb_search.best_score_))"
   ]
  },
  {
   "cell_type": "markdown",
   "metadata": {},
   "source": [
    "### Best Parameters of XG Boost (Gradient Boosted Tree) from Cloud Computation:\n",
    "Best parameters: {'max_depth': 15, 'n_estimators': 100, 'gamma': 0.5, 'colsample_bytree': 0.7, 'learning_rate': 0.1, 'subsample': 0.8, 'min_child_weight': 10.0, 'silent': False, 'reg_lambda': 50.0, 'colsample_bylevel': 0.9}\n",
    "\n",
    "Best cross-validation score: 0.84"
   ]
  },
  {
   "cell_type": "code",
   "execution_count": null,
   "metadata": {},
   "outputs": [],
   "source": [
    "print(\"Saving best parameter XGB model\")\n",
    "pickle.dump( xgb_search, open( \"Best_XGB_model.pkl\", \"wb\" ) )\n",
    "print(\"Model has been saved to Best_XGB_model.pkl in working directory \")"
   ]
  },
  {
   "cell_type": "code",
   "execution_count": null,
   "metadata": {},
   "outputs": [],
   "source": [
    "#Loading in the best ANN model:\n",
    "xgb_search=pickle.load(open(\"Best_XGB_model.pkl\",\"rb\"))"
   ]
  },
  {
   "cell_type": "markdown",
   "metadata": {},
   "source": [
    "### Results of XGBoost from Google Cloud Computation using n1-standard-8 machine:\n",
    "Note: The same code in the document was used in a google datalab jupyter environment to obtain the below outputs from best models in the above parameter search. Unfortunately, we were not able to save this final model from the cloud using pickle and import this pickle file to use directly within this project file. This is the justification for copying in outputs in this manner. Alternatively if you run the model fitting above, you will also return the same result though these searches will be costly and timely without a machine with CPU capacity greater than 8."
   ]
  },
  {
   "cell_type": "markdown",
   "metadata": {},
   "source": [
    "If running above code for model output uncomment the below two statements to create confusion matrix and comment out default confusion matrix."
   ]
  },
  {
   "cell_type": "code",
   "execution_count": 79,
   "metadata": {},
   "outputs": [],
   "source": [
    "#CONFUSION MATRIX FROM RUNNING ABOVE CODE:\n",
    "\n",
    "#Creating prediction variable for constructing confusion matrix\n",
    "#ypred = xgb_search.predict(Reduced_X_test)\n",
    "\n",
    "#Creating manual confusion matrix with results from cloud computed output:\n",
    "#confusion = confusion_matrix(y_test, ypred)"
   ]
  },
  {
   "cell_type": "markdown",
   "metadata": {},
   "source": [
    "If not running above models that use default confusion matrix with inputted values from cloud computation of the above model fitting code:"
   ]
  },
  {
   "cell_type": "code",
   "execution_count": 81,
   "metadata": {},
   "outputs": [
    {
     "name": "stdout",
     "output_type": "stream",
     "text": [
      "Confusion matrix:\n",
      "[[6584, 814], [1466, 4837]]\n",
      "\n"
     ]
    },
    {
     "data": {
      "image/png": "[encoded data removed]",
      "text/plain": [
       "<Figure size 432x288 with 2 Axes>"
      ]
     },
     "metadata": {
      "needs_background": "light"
     },
     "output_type": "display_data"
    }
   ],
   "source": [
    "#DEFAULT CONFUSION MATRIX FROM CLOUD COMPUTATION OF ABOVE CODE:\n",
    "\n",
    "confusion = [[6584, 814],[1466, 4837]]\n",
    "print(\"Confusion matrix:\\n{}\\n\".format(confusion))\n",
    "\n",
    "\n",
    "import matplotlib.pyplot as plt\n",
    "fig = plt.figure()\n",
    "ax = fig.add_subplot(111)\n",
    "cax = ax.matshow(confusion)\n",
    "plt.title('Confusion matrix of the classifier')\n",
    "fig.colorbar(cax)\n",
    "ax.set_xticklabels([''])\n",
    "ax.set_yticklabels([''])\n",
    "plt.xlabel('Predicted class')\n",
    "plt.ylabel('True class')\n",
    "plt.show()"
   ]
  },
  {
   "cell_type": "code",
   "execution_count": null,
   "metadata": {},
   "outputs": [],
   "source": [
    "#Using default accuracy scoring from logistic regression estimator to get score from the model created by Grid_Search.\n",
    "print(\"Accuracy: {}\\n\".format(xgb_search.score(Reduced_X_test,y_test)))\n",
    "\n",
    "#Calculating F1 score for best model and parameters with test data.\n",
    "print(\"f1 score: {:.2f}\\n\".format(f1_score(y_test, ypred)))\n",
    "\n",
    "#Calculating precision through summarising classification report function\n",
    "print(classification_report(y_test, ypred))\n",
    "\n",
    "#Calculating AUC/ROC for the best grid_search model trained on whole data and tested on testset. \n",
    "#predicting with output as probability of class allocation for each observation:\n",
    "y_pred_proba = xgb_search.predict_proba(Reduced_X_test)[:,1]\n",
    "#Calcutating the AUC score for the model:\n",
    "print(\"AUC score is:\\n{}\\n\".format(roc_auc_score(y_true = y_test, y_score = y_pred_proba)))"
   ]
  },
  {
   "cell_type": "markdown",
   "metadata": {},
   "source": [
    "Accuracy: 0.8335887891394789\n",
    "\n",
    "f1 score: 0.81\n",
    "\n",
    "             precision    recall  f1-score   support\n",
    "\n",
    "          0       0.82      0.89      0.85      7398\n",
    "          1       0.86      0.77      0.81      6303\n",
    "          T       0.84      0.83      0.83     13701\n",
    "\n",
    "ROC score is:\n",
    "0.8938028390296514"
   ]
  },
  {
   "cell_type": "markdown",
   "metadata": {},
   "source": [
    "### Summary of XG Boost (Gradient Boosted Tree Variant):\n",
    "We have decided to in addition to the prior 4 models assess the effectivness of another Ensemble Tree method from a similar family as our high performing Random Forest Model, with this particular XG Boost model being recognised within the Machine Learning community as being a significantly effective model in predictive classification tasks. We have supplemented computational power using Google cloud platform and the results gives a satisfactory search of the parameter space through randomised sampling cross validation. We can see that performance is better than our linear model and ANN in terms of accuracy and ROC. Although when compared with our SVC model performance was similar for both metrics. Again there is significant bias towards the false negative class and large amount of false positive classes. Finally, we can see despite being from the same family as the Random Forest, the XG Boost we have trained is slightly less effective for the task, additionally using PCA reduced training data and having a higher complexity, thus significantly reduced interpretability.\n",
    "Overall, we can see that the Random Forest still produces the best overall results for F1 score and AUC with the benefit of some degree of interpretability of the results through feature importance."
   ]
  },
  {
   "cell_type": "markdown",
   "metadata": {},
   "source": [
    "## Interpretation of Final Model: Random Forest\n",
    "\n",
    "As we have discussed, the model with highest predictive power from the five best models trainined for the prediction of Heart Disease on the Redfern Hospital dataset and with consideration of the limitations of computational resources of the study and differing degrees of capability in undertaking hyperparameter searches and cross-validation iterations of the same degree is the Random Forest Model. We will interpret this models using Random Forest feature importance."
   ]
  },
  {
   "cell_type": "code",
   "execution_count": 82,
   "metadata": {},
   "outputs": [
    {
     "data": {
      "image/png": "[encoded data removed]",
      "text/plain": [
       "<Figure size 432x288 with 1 Axes>"
      ]
     },
     "metadata": {
      "needs_background": "light"
     },
     "output_type": "display_data"
    }
   ],
   "source": [
    "#Function for plotting feature importances for vizualisation on the final model: Random Forest model.\n",
    "import matplotlib.pyplot as plt\n",
    "Random_forest = Random_forest_model.best_estimator_.steps[0][1]\n",
    "def plot_feature_importances(model):\n",
    "    n_features = X.shape[1]\n",
    "    plt.barh(range(n_features), model.feature_importances_, align='center') \n",
    "    plt.yticks(np.arange(n_features), X.columns) \n",
    "    plt.xlabel(\"Feature importance\")\n",
    "    plt.ylabel(\"Feature\")\n",
    "plot_feature_importances(Random_forest)"
   ]
  },
  {
   "cell_type": "markdown",
   "metadata": {},
   "source": [
    "As we can see thalassemia levels, the presence or absence of angina and the number of major vessels colored by fluoroscopy are three particularly significant variables within the model. Sex surprisingly did not return significant in terms of feature importance with this likely being due to the significant imbalance between males and females. We can observe there are six features in particular that stand out as being particularly important with the model. We will plot these seperately from other features for further analysis."
   ]
  },
  {
   "cell_type": "code",
   "execution_count": 83,
   "metadata": {},
   "outputs": [
    {
     "data": {
      "image/png": "[encoded data removed]",
      "text/plain": [
       "<Figure size 432x288 with 1 Axes>"
      ]
     },
     "metadata": {
      "needs_background": "light"
     },
     "output_type": "display_data"
    }
   ],
   "source": [
    "def top6_plot_feature_importances(model):\n",
    "    \n",
    "    #locate indices of the features with non-zero feature importance\n",
    "    indices = np.where(model.feature_importances_ >= 0.05)[0]\n",
    "    \n",
    "    #extract the number of features that have non-zero feature importance\n",
    "    n_features = X.iloc[:,indices].shape[1]\n",
    "    \n",
    "    #plot the features that have a non-zero feature importance\n",
    "    plt.barh(range(n_features), model.feature_importances_[indices], align='center') \n",
    "    plt.yticks(np.arange(n_features), X.iloc[:,indices].columns) \n",
    "    plt.xlabel(\"Feature importance\")\n",
    "    plt.ylabel(\"Feature\")\n",
    "top6_plot_feature_importances(Random_forest)"
   ]
  },
  {
   "cell_type": "markdown",
   "metadata": {},
   "source": [
    "We can see from the above plot that normal thalassemia, asymptotic angina and major vessels colored by fluoroscopy were respectively the top three most important features within the final Raondom Forest model being far ahead of the later features reversible thalassemia, maximum heart rate and resting blood pressure as the remaining top fourth, fifth and sixth important features respectively."
   ]
  },
  {
   "cell_type": "markdown",
   "metadata": {},
   "source": [
    "## Deployment of Final Model: Random Forest\n",
    "\n",
    "When considering deployment, one of the most important considerations is the context for which the final model will be operating and it's purpose. Thus in the diagnosis of heart disease, it would be essential to have a model that minimises false negatives and maximises true positives. As the binary outcome from the dataset was slightly imbalanced being biased towards the negative class we could expect that a model without the application of class weights would be prone to over-classification of patients as being negative for heart disease diagnosis thus we could expect a higher recall and precision amongst the negative classes as compared with the positive classes. This consideration is highly important in the deployment of a model into the healthcare system whereby a tendency for type II errors or false negatives may have detrimental impacts on a patients well-being in the context of recieving an indication of the absence of heart disease by our predictive model where in fact the ground truth from the data indicates the patient likely has heart disease. We found all our models suffered to some degree from this bias towards the negative class, with our final model - the Random Forest Model - minimising these type II errors and reducing this bias to highest degree out of the five models trained. Overall, our final RF model had 1171 false negatives far lower than the other four models; logistic regression, SVC, ANN and SG Boost that averaged around 1400 false negatives. Additionally, we can observe that the Random Forest model also had the second highest true positive rate at 966 with the logistic regression model having the highest true positive rate at 1086 although with far higher type II errors - an indication of the Random Forests balanced predictive performance in correctly diagnosing patients with heart disease and those without as compared with the remaining four models. Furthermore, the F1 score in addition to the accuracy was evaluated between these models, again supporting the above findings in terms of the confusion matrix statistics and recall/precision trade-off finding that the Random Forest Model had the highest F1 score of the five models, further with recall and precision far closer together in value suggesting this model was the most balanced in correct predictions amongst performance in both classes, while still minimising type II errors important in the clincial context. The Random Forest model distinctly had the highest Area under the curve (AUC) amongst all models at 0.906 indicating the best maximised trade-off between sensitivity (TPR) and specificity - respectively the ability to detect positives and the ability of the model to reduce false classifications or errors. Finally, with these evaluation metrics considered the model also had the highest accuracy at 0.844, with only slight imbalance in the dataset indicating that amongst the five models the Random forest had the best general predictive performance in addition to reducing the more contextual clincial measure of type II errors or false negatives. \n",
    "\n",
    "With the clincial context and general predictive metrics/overall predictive power in classifying diagnosis of heart disease being a primary consideration in the selection and deployment of our final model, the second major factor for deployment was interpretability. Despite the goal of the study being the prediction of heart disease for the clinical team and fast-tracking and identification of patients suitable for early intervention, interpretability for the clincial team highlighting what has guided the models decisions is highly important. Firsly, in providing insight into the functioning of the machine and the decision process and secondly for building a sense of understanding and confidence between the predictive model and clinicans in utilising the models predictions. Amongst the five models trained we can see that only the logistic regression model and random forest model allow access to the original features for interpretation and further a means of assessing which features were most influential in the classification process for each respective model. This was due to the fact dimensionality reduction through primary components analysis (PCA) was applied to the more complex and computationally taxing models such as the Artifical Neural Network (ANN), Support Vector Machine and Gradient Boosted Decision Tree (XGBoost). Our final model, the Random Forest, thus provides a basis for clincians to assess which features the model deemed most important with these being untransformed by dimensionality reduction. We found that there were six key features that were most influential in the final models predictions, these being discussed above. Interestingly, asymptomatic angina, normal thalasemmia and a greater number of major vessels recorded from fluroscopy seemed highly important. This thereby provides a degree of insight and interpretability for the clinical team and was another key consideration in choosing the Random forest model as our final model the one most suitable for deployment in this case. \n",
    "\n",
    "There were major limitations in our study we must discuss prior to analysis of whether our hypothesis was correct and prior to delving into considerations of how benefical our final model would be to the Redfern ED clinical team if implemented. These limitations were primarily our computational resources. Our first two models the logistic regression classifier and the Random Forest classifer both were robustly trained using a brute-force grid search algorithm and satisfactory parameter set. This was due to these models both being relatively easy to train in terms of complexity and training cost. However, as we moved to more complex models such as the SVC, ANN and XGBoost it became apparent that the computational power available to us was not sufficient to train these three models in the same manner or within the same scope. For these models we chose to apply cloud computation through Google Cloud and datalab software using a n1-standard-8 machine type increasing our CPU capacity for training from 2 CPUs to 8 allowing us to adopt distributed learning through parallel processing capacities built into keras, tensor-flow and scikit-learn models. Furthermore, we reverted from using a comprehensive grid-search algorithm to a randomised sampling algorithm and reduced the cross-validation iterations from 5 to 3. Despite, using cloud computing capabilities the parameter set or parameter space used was still far smaller for both SVC and ANN models whereby it is highly likely that with the 10 random sampled models evaluated within each cross-validation set for each model we likely did not reach within the 5% optima for best parameters for these two model types. However, when training the XGBoost we were able to use 60 iterations with a large parameter set, thereby giving a comprehensive and far more robust result for our best trained XGBoost model. This model was inferior to our Random Forest model and thus helped us support prior evidence that the Random Forest model was the more appropriate final model of the five model types. It must be stated however, that with greater computation capacity and resources it is possible a deeper ANN model with more layers and a more comprehensive optimized parameter search could possibly provide better results and similarly an SVC using different kernels and greater scope of parameter search could also potentially yield a better model for the dataset and purpose of this study. With training limitations and time contraints in training - training times of greater than 30 hours without output - preventing as robust training and parameter searches for best models of these two types particularly. \n",
    "\n",
    "In conclusion, the hypothesis that a predictive model could be built upon the Redfern dataset to effectively predict heart disease was overall correct. We can see that with our final Random Forest model it would be possible to create a predictive tool for augmenting the Redfern ED's Heart Disease workflow with an accuracy of 84% and AUC of 90%. However, this model if deployed could only serve as a guide in recommending patients to the clinical team who are highly likely to have heart disease if it was further supported by protocols, procedures and a reliable infrastructure designed to capture patients falling within the type II error classification group - those patients falsely classified as not having heart disease when in fact they are highly likely to have the disease. Whether there would be benefit in deploying such a complimentary system based around this final model would need to be assessed by comparing the current ability for physicians in Redfern ED in predicting heart disease at the current time and if this final model out-performs or performs at the same rate as this current gold-standard. If this was the case, then the model supported by a fast-track clinical pathway for positively classified patients for early intervention and a complimentary reassessment pathway for patients negatively classified to be reassessed by a clinical team to avoid missing misclassified type II error patients, would provide benefit in the prediction of HD in redfern hospital. Furthermore, it is recommended a team of health data scientists manage the model throughout deployment maintaining the model if deployed and augmenting it as new ED data is created and as trends and patterns underlying the generative population of the dataset change with time. Finally, with greater computational resources as discussed, more robust assessment of these models and alternative models could be undertaken to better improve predictive accuracy and reduce these type II errors, type I errors and increase positive predictive power."
   ]
  }
 ],
 "metadata": {
  "kernelspec": {
   "display_name": "Python 3",
   "language": "python",
   "name": "python3"
  },
  "language_info": {
   "codemirror_mode": {
    "name": "ipython",
    "version": 3
   },
   "file_extension": ".py",
   "mimetype": "text/x-python",
   "name": "python",
   "nbconvert_exporter": "python",
   "pygments_lexer": "ipython3",
   "version": "3.7.3"
  }
 },
 "nbformat": 4,
 "nbformat_minor": 2
}
