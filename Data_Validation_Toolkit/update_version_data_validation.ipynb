{
 "cells": [
  {
   "cell_type": "markdown",
   "id": "d099a10c",
   "metadata": {},
   "source": [
    "# Script to update data validation script after creating new wheel file"
   ]
  },
  {
   "cell_type": "markdown",
   "id": "e0559013",
   "metadata": {},
   "source": [
    "Goal: After making changes to our data validation package script/functions - to make it easy to add changes to the data validation script/package, and output the wheel file that glue jobs point to in S3 to use our data validation package"
   ]
  },
  {
   "cell_type": "markdown",
   "id": "c4ce7443",
   "metadata": {},
   "source": [
    "First update pip"
   ]
  },
  {
   "cell_type": "code",
   "execution_count": 4,
   "id": "e1f58246",
   "metadata": {},
   "outputs": [
    {
     "name": "stdout",
     "output_type": "stream",
     "text": [
      "Requirement already satisfied: pip in c:\\users\\liam\\anaconda3\\envs\\test_final\\lib\\site-packages (21.2.4)\n",
      "Collecting pip\n",
      "  Using cached pip-22.2.2-py3-none-any.whl (2.0 MB)\n",
      "Installing collected packages: pip\n",
      "  Attempting uninstall: pip\n",
      "    Found existing installation: pip 21.2.4\n",
      "    Uninstalling pip-21.2.4:\n",
      "      Successfully uninstalled pip-21.2.4\n",
      "Successfully installed pip-22.2.2\n"
     ]
    },
    {
     "name": "stderr",
     "output_type": "stream",
     "text": [
      "Error processing line 1 of C:\\Users\\Liam\\Anaconda3\\envs\\test_final\\lib\\site-packages\\matplotlib-3.4.3-py3.9-nspkg.pth:\n",
      "\n",
      "  Traceback (most recent call last):\n",
      "    File \"C:\\Users\\Liam\\Anaconda3\\envs\\test_final\\lib\\site.py\", line 169, in addpackage\n",
      "      exec(line)\n",
      "    File \"<string>\", line 1, in <module>\n",
      "    File \"<frozen importlib._bootstrap>\", line 562, in module_from_spec\n",
      "  AttributeError: 'NoneType' object has no attribute 'loader'\n",
      "\n",
      "Remainder of file ignored\n",
      "WARNING: Error parsing requirements for numpy: [Errno 2] No such file or directory: 'c:\\\\users\\\\liam\\\\anaconda3\\\\envs\\\\test_final\\\\lib\\\\site-packages\\\\numpy-1.21.2.dist-info\\\\METADATA'\n"
     ]
    }
   ],
   "source": [
    "# first upgrading pip\n",
    "!pip install --upgrade pip"
   ]
  },
  {
   "cell_type": "markdown",
   "id": "c6811059",
   "metadata": {},
   "source": [
    "Then update/install wheel for assembling wheel file for glue job"
   ]
  },
  {
   "cell_type": "code",
   "execution_count": 5,
   "id": "ee833d52",
   "metadata": {},
   "outputs": [
    {
     "name": "stdout",
     "output_type": "stream",
     "text": [
      "Requirement already satisfied: wheel in c:\\users\\liam\\anaconda3\\envs\\test_final\\lib\\site-packages (0.37.1)\n"
     ]
    },
    {
     "name": "stderr",
     "output_type": "stream",
     "text": [
      "Error processing line 1 of C:\\Users\\Liam\\Anaconda3\\envs\\test_final\\lib\\site-packages\\matplotlib-3.4.3-py3.9-nspkg.pth:\n",
      "\n",
      "  Traceback (most recent call last):\n",
      "    File \"C:\\Users\\Liam\\Anaconda3\\envs\\test_final\\lib\\site.py\", line 169, in addpackage\n",
      "      exec(line)\n",
      "    File \"<string>\", line 1, in <module>\n",
      "    File \"<frozen importlib._bootstrap>\", line 562, in module_from_spec\n",
      "  AttributeError: 'NoneType' object has no attribute 'loader'\n",
      "\n",
      "Remainder of file ignored\n",
      "WARNING: Error parsing requirements for numpy: [Errno 2] No such file or directory: 'c:\\\\users\\\\liam\\\\anaconda3\\\\envs\\\\test_final\\\\lib\\\\site-packages\\\\numpy-1.21.2.dist-info\\\\METADATA'\n"
     ]
    }
   ],
   "source": [
    "# update/ install the wheel package for creating python packages & wheel files (compressed python packages)\n",
    "!pip install wheel"
   ]
  },
  {
   "cell_type": "markdown",
   "id": "aca84a8c",
   "metadata": {},
   "source": [
    "Now we will remove the old wheel folders - these will be deleted & remade."
   ]
  },
  {
   "cell_type": "code",
   "execution_count": 1,
   "id": "a8490550",
   "metadata": {},
   "outputs": [],
   "source": [
    "import os\n",
    "import shutil\n",
    "shutil.rmtree(\"Data_Validation_Toolkit.egg-info\")\n",
    "shutil.rmtree(\"dist\")\n",
    "shutil.rmtree(\"build\")"
   ]
  },
  {
   "cell_type": "markdown",
   "id": "1049a16e",
   "metadata": {},
   "source": [
    "Recreate the wheel file/folders for the new changes/version"
   ]
  },
  {
   "cell_type": "code",
   "execution_count": 2,
   "id": "650f8d59",
   "metadata": {},
   "outputs": [
    {
     "name": "stdout",
     "output_type": "stream",
     "text": [
      "running bdist_wheel\n",
      "running build\n",
      "running build_py\n",
      "creating build\n",
      "creating build\\lib\n",
      "creating build\\lib\\Data_Validation_Toolkit\n",
      "copying Data_Validation_Toolkit\\functions.py -> build\\lib\\Data_Validation_Toolkit\n",
      "copying Data_Validation_Toolkit\\__init__.py -> build\\lib\\Data_Validation_Toolkit\n",
      "installing to build\\bdist.win-amd64\\wheel\n",
      "running install\n",
      "running install_lib\n",
      "creating build\\bdist.win-amd64\n",
      "creating build\\bdist.win-amd64\\wheel\n",
      "creating build\\bdist.win-amd64\\wheel\\Data_Validation_Toolkit\n",
      "copying build\\lib\\Data_Validation_Toolkit\\functions.py -> build\\bdist.win-amd64\\wheel\\.\\Data_Validation_Toolkit\n",
      "copying build\\lib\\Data_Validation_Toolkit\\__init__.py -> build\\bdist.win-amd64\\wheel\\.\\Data_Validation_Toolkit\n",
      "running install_egg_info\n",
      "running egg_info\n",
      "creating Data_Validation_Toolkit.egg-info\n",
      "writing Data_Validation_Toolkit.egg-info\\PKG-INFO\n",
      "writing dependency_links to Data_Validation_Toolkit.egg-info\\dependency_links.txt\n",
      "writing requirements to Data_Validation_Toolkit.egg-info\\requires.txt\n",
      "writing top-level names to Data_Validation_Toolkit.egg-info\\top_level.txt\n",
      "writing manifest file 'Data_Validation_Toolkit.egg-info\\SOURCES.txt'\n",
      "reading manifest file 'Data_Validation_Toolkit.egg-info\\SOURCES.txt'\n",
      "writing manifest file 'Data_Validation_Toolkit.egg-info\\SOURCES.txt'\n",
      "Copying Data_Validation_Toolkit.egg-info to build\\bdist.win-amd64\\wheel\\.\\Data_Validation_Toolkit-0.36.1-py3.9.egg-info\n",
      "running install_scripts\n",
      "creating build\\bdist.win-amd64\\wheel\\Data_Validation_Toolkit-0.36.1.dist-info\\WHEEL\n",
      "creating 'dist\\Data_Validation_Toolkit-0.36.1-py3-none-any.whl' and adding 'build\\bdist.win-amd64\\wheel' to it\n",
      "adding 'Data_Validation_Toolkit/__init__.py'\n",
      "adding 'Data_Validation_Toolkit/functions.py'\n",
      "adding 'Data_Validation_Toolkit-0.36.1.dist-info/METADATA'\n",
      "adding 'Data_Validation_Toolkit-0.36.1.dist-info/WHEEL'\n",
      "adding 'Data_Validation_Toolkit-0.36.1.dist-info/top_level.txt'\n",
      "adding 'Data_Validation_Toolkit-0.36.1.dist-info/RECORD'\n",
      "removing build\\bdist.win-amd64\\wheel\n"
     ]
    },
    {
     "name": "stderr",
     "output_type": "stream",
     "text": [
      "Error processing line 1 of c:\\Users\\Liam\\Anaconda3\\envs\\test_final\\lib\\site-packages\\matplotlib-3.4.3-py3.9-nspkg.pth:\n",
      "\n",
      "  Traceback (most recent call last):\n",
      "    File \"c:\\Users\\Liam\\Anaconda3\\envs\\test_final\\lib\\site.py\", line 169, in addpackage\n",
      "      exec(line)\n",
      "    File \"<string>\", line 1, in <module>\n",
      "    File \"<frozen importlib._bootstrap>\", line 562, in module_from_spec\n",
      "  AttributeError: 'NoneType' object has no attribute 'loader'\n",
      "\n",
      "Remainder of file ignored\n",
      "c:\\Users\\Liam\\Anaconda3\\envs\\test_final\\lib\\site-packages\\setuptools\\dist.py:516: UserWarning: Normalizing '0.36.01' to '0.36.1'\n",
      "  warnings.warn(tmpl.format(**locals()))\n",
      "c:\\Users\\Liam\\Anaconda3\\envs\\test_final\\lib\\site-packages\\setuptools\\command\\install.py:34: SetuptoolsDeprecationWarning: setup.py install is deprecated. Use build and pip and other standards-based tools.\n",
      "  warnings.warn(\n"
     ]
    }
   ],
   "source": [
    "!python setup.py bdist_wheel "
   ]
  },
  {
   "cell_type": "markdown",
   "id": "afafb72c",
   "metadata": {},
   "source": [
    "No longer changing the wheel version for ease of automating the upload of the wheel file up to s3. We will just keep the version name the same - 0.36.01. After this once you push to main, the latest wheel file will now be pushed up to our s3 bucket for glue jobs in main region validation jobs overwriting the current wheel file at s3://package_path/dash_validation_toolkit-0.36.1-py3-none-any.whl. So when next glue job is run it will take this updated compressed wheel file and implement your latest changes."
   ]
  },
  {
   "cell_type": "markdown",
   "id": "6bd035ae",
   "metadata": {},
   "source": [
    "FINISHED!"
   ]
  }
 ],
 "metadata": {
  "kernelspec": {
   "display_name": "Python 3.9.12 ('test_final')",
   "language": "python",
   "name": "python3"
  },
  "language_info": {
   "codemirror_mode": {
    "name": "ipython",
    "version": 3
   },
   "file_extension": ".py",
   "mimetype": "text/x-python",
   "name": "python",
   "nbconvert_exporter": "python",
   "pygments_lexer": "ipython3",
   "version": "3.9.12"
  },
  "vscode": {
   "interpreter": {
    "hash": "f4d2df424717668b5d920ec4f8c7ab904e0a14af76ca1ebcc7059a4069358cb6"
   }
  }
 },
 "nbformat": 4,
 "nbformat_minor": 5
}
