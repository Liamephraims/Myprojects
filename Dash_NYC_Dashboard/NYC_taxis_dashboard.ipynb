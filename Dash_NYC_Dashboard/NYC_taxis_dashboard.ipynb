{
 "cells": [
  {
   "cell_type": "code",
   "execution_count": 1,
   "id": "0896282e-0962-4223-93e8-8cb289419dcd",
   "metadata": {},
   "outputs": [],
   "source": [
    "# import neccessary packages\n",
    "import folium\n",
    "import geopandas as gpd\n",
    "import pickle\n",
    "import pandas as pd\n",
    "from shapely.geometry import Point\n",
    "import calendar\n"
   ]
  },
  {
   "cell_type": "code",
   "execution_count": 2,
   "id": "321325da-9f08-4748-b7dd-ac04d1e209b0",
   "metadata": {},
   "outputs": [],
   "source": [
    "import jupyter_dash "
   ]
  },
  {
   "cell_type": "code",
   "execution_count": 3,
   "id": "5e6bfab7-e029-49b3-b713-d329d33e5917",
   "metadata": {},
   "outputs": [],
   "source": [
    "# Reading in cleaned and merged dataset - trip + fare \n",
    "merged_dataset = pd.read_pickle(r'merged_dataset.pkl')"
   ]
  },
  {
   "cell_type": "code",
   "execution_count": 4,
   "id": "6b5d68f2-cc8c-4a98-8275-5f8e8b6150f0",
   "metadata": {},
   "outputs": [],
   "source": [
    "# Completing some final cleaning before visualisation:\n",
    "#rename\n",
    "merged_dataset = merged_dataset.rename(columns = {\"pickup_day_of_week_x\": \"Weekday\",\n",
    "                                  \"vendor_id_x\":\"Vendor\",\n",
    "                                  \"passenger_count\": \"Passengers\"\n",
    "                                                 })\n",
    "\n",
    "#Clean passengers:\n",
    "merged_dataset[\"Weekday\"] = merged_dataset[\"Weekday\"].apply(lambda x: 'weekday' if x in {1,2,3,4,5} else 'weekend')\n",
    "\n",
    "#clean to passengers - turn into boolean flag:\n",
    "merged_dataset = merged_dataset[(merged_dataset[\"Passengers\"] != 0) & (merged_dataset[\"Passengers\"] != 208)]\n",
    "merged_dataset[\"Passengers\"] = merged_dataset[\"Passengers\"].apply(lambda x: 'single ride' if x == 1 else 'shared ride')\n",
    "\n",
    "#clean vendor\n",
    "merged_dataset[\"Vendor\"] = merged_dataset[\"Vendor\"].apply(lambda x: 'Creative Mobile Technologies' if x == 'CMT' else 'VeriFone')\n"
   ]
  },
  {
   "cell_type": "code",
   "execution_count": 5,
   "id": "dbc05ef8-4004-4f50-ad43-13a1bbf25749",
   "metadata": {},
   "outputs": [
    {
     "name": "stderr",
     "output_type": "stream",
     "text": [
      "c:\\Users\\Liam\\Anaconda3\\lib\\site-packages\\pyproj\\crs\\crs.py:130: FutureWarning: '+init=<authority>:<code>' syntax is deprecated. '<authority>:<code>' is the preferred initialization method. When making the change, be mindful of axis order changes: https://pyproj4.github.io/pyproj/stable/gotchas.html#axis-order-changes-in-proj-6\n",
      "  in_crs_string = _prepare_from_proj_string(in_crs_string)\n"
     ]
    }
   ],
   "source": [
    "taxi_zones = gpd.read_file(\"data/shapefiles/taxi_zones.shp\").to_crs({'init': 'epsg:4326'})\n",
    "taxi_zones = taxi_zones.drop(['Shape_Area', 'Shape_Leng', 'OBJECTID'], axis=1)"
   ]
  },
  {
   "cell_type": "code",
   "execution_count": 6,
   "id": "7e267974-786d-4f0f-867e-aeeea892686d",
   "metadata": {},
   "outputs": [],
   "source": [
    "# turn taxi datasets into geodataframes\n",
    "taxi_fare_trip = gpd.GeoDataFrame(merged_dataset, crs=\"epsg:4326\",geometry=gpd.points_from_xy(merged_dataset.pickup_longitude, merged_dataset.pickup_latitude))"
   ]
  },
  {
   "cell_type": "code",
   "execution_count": 7,
   "id": "7f6d85dc-b40f-40ef-819c-8972b769cf8d",
   "metadata": {},
   "outputs": [
    {
     "name": "stderr",
     "output_type": "stream",
     "text": [
      "c:\\Users\\Liam\\Anaconda3\\lib\\site-packages\\geopandas\\tools\\sjoin.py:58: UserWarning: CRS of frames being joined does not match!({'init': 'epsg:4326'} != epsg:4326)\n",
      "  warn(\n"
     ]
    }
   ],
   "source": [
    "# Spatial Join by geometry, where co-ordinates of pick-up location is within the boundary of taxi zones\n",
    "joined = gpd.sjoin(\n",
    "        taxi_zones,\n",
    "        taxi_fare_trip, \n",
    "        how='left'    )"
   ]
  },
  {
   "cell_type": "code",
   "execution_count": 8,
   "id": "96d7243d-946d-4a2f-b0c2-9ed48665ee3a",
   "metadata": {},
   "outputs": [
    {
     "name": "stdout",
     "output_type": "stream",
     "text": [
      "(1589234, 32)\n",
      "(1621917, 28)\n"
     ]
    }
   ],
   "source": [
    "# Check to visualise outcome of join:\n",
    "print(joined.shape)\n",
    "print(taxi_fare_trip.shape)"
   ]
  },
  {
   "cell_type": "code",
   "execution_count": 9,
   "id": "6e69b099-1c80-4891-aa8c-e64c062bd230",
   "metadata": {},
   "outputs": [],
   "source": [
    "def create_choropleth(dataset, target_variable, group_variable):\n",
    "  mymap = folium.Map(location=[40.75055690397181, -73.97406181019522], zoom_start=11,tiles=None)\n",
    "  folium.TileLayer('CartoDB positron',name=\"Dark Map\",control=False).add_to(mymap)\n",
    "  myscale = (dataset[target_variable].quantile((0,0.1,0.75,0.9,0.98,1))).tolist()\n",
    "\n",
    "  # capturing the return of folium.Choropleth()\n",
    "  cp = folium.Choropleth(\n",
    "      geo_data=dataset,\n",
    "      name='Choropleth',\n",
    "      data=dataset,\n",
    "      columns=[group_variable,target_variable],\n",
    "      key_on=f\"feature.properties.{group_variable}\",\n",
    "      fill_color='YlGnBu',\n",
    "      threshold_scale=myscale,\n",
    "      fill_opacity=1,\n",
    "      line_opacity=0.2,\n",
    "      legend_name=f'Proportion % of {target_variable} by {group_variable}',\n",
    "      smooth_factor=0\n",
    "    ).add_to(mymap)\n",
    "\n",
    "  folium.GeoJsonTooltip([target_variable, group_variable]).add_to(cp.geojson)\n",
    "    \n",
    "  folium.LayerControl().add_to(mymap)\n",
    "\n",
    "  return mymap"
   ]
  },
  {
   "cell_type": "code",
   "execution_count": 10,
   "id": "016a0565-f4cb-4d9d-aea7-a8bf153c3e5d",
   "metadata": {},
   "outputs": [
    {
     "name": "stderr",
     "output_type": "stream",
     "text": [
      "C:\\Users\\Liam\\AppData\\Local\\Temp\\ipykernel_4244\\2738406618.py:3: UserWarning: \n",
      "The dash_core_components package is deprecated. Please replace\n",
      "`import dash_core_components as dcc` with `from dash import dcc`\n",
      "  import dash_core_components as dcc\n",
      "C:\\Users\\Liam\\AppData\\Local\\Temp\\ipykernel_4244\\2738406618.py:4: UserWarning: \n",
      "The dash_html_components package is deprecated. Please replace\n",
      "`import dash_html_components as html` with `from dash import html`\n",
      "  import dash_html_components as html\n"
     ]
    }
   ],
   "source": [
    "import plotly.express as px\n",
    "from jupyter_dash import JupyterDash\n",
    "import dash_core_components as dcc\n",
    "import dash_html_components as html\n",
    "from dash.dependencies import Input, Output\n",
    "import dash\n",
    "import pyproj\n",
    "# pyproj.Proj(\"+init=epsg:4326\")\n",
    "\n",
    "#\n",
    "all_options = {\n",
    "    'No filter':list(['None']),\n",
    "    'Passengers': list(set(i for i in joined[\"Passengers\"] if pd.notna(i))),\n",
    "    'Weekday': list(set(i for i in joined[\"Weekday\"] if pd.notna(i))),\n",
    "    'Vendor': list(set(i for i in joined[\"Vendor\"] if pd.notna(i))),\n",
    "}\n",
    "\n",
    "# Build App\n",
    "\n",
    "app = JupyterDash(__name__)\n",
    "app.layout = html.Div([\n",
    "    html.H1(\"New York City Taxi Dashboard\"),\n",
    "    \n",
    "    ##Dash_HTML component where the map is displayed within an Iframe. Not included in the callback, but on the layout page\n",
    "    html.Iframe(id='map', srcDoc=None, width='100%', height='400'), \n",
    "        \n",
    "    html.Label([\n",
    "        \"Choose statistic:\",\n",
    "        dcc.Dropdown(\n",
    "            id='target', clearable=False,\n",
    "            value='number_of_trips', options=['trip_distance', 'trip_time_in_secs', 'fare_amount', 'number_of_trips'])\n",
    "    ], style={'width': '48%', 'display': 'inline-block', 'fontSize': '16px'}),\n",
    "    html.Label([\n",
    "        \"Group by:\",\n",
    "        dcc.Dropdown(\n",
    "            id='groupby', clearable=False,\n",
    "            value='borough', options=['zone', 'borough'])\n",
    "    ], style={'width': '48%', 'display': 'inline-block', 'fontSize': '16px'}),\n",
    "\n",
    "    html.Hr(),\n",
    "\n",
    "    html.Label([\n",
    "        \"Filter by:\",\n",
    "    dcc.RadioItems(\n",
    "        list(all_options.keys()),\n",
    "        'No filter',\n",
    "        id='column-radio',\n",
    "    ) ], style={'width': '48%', 'display': 'inline-block', 'fontSize': '16px'}),\n",
    "    html.Label([\n",
    "        \"Select value:\",\n",
    "    dcc.RadioItems( id='values-radio')], style={'width': '48%', 'display': 'inline-block', 'fontSize': '16px'}),\n",
    "\n",
    "    html.Hr(),\n",
    "    \n",
    "    dcc.Graph(id = 'live-graph'),\n",
    "    \n",
    "#    dcc.Graph(id = 'graph-multivariate', style={'width': '48%', 'display': 'inline-block', 'fontSize': '16px'})\n",
    "    \n",
    "])\n",
    "@app.callback(\n",
    "    Output('values-radio', 'options'),\n",
    "    Input('column-radio', 'value'))\n",
    "def set_cities_options(selected_country):\n",
    "    return [{'label': i, 'value': i} for i in all_options[selected_country]]\n",
    "\n",
    "\n",
    "@app.callback(\n",
    "    Output('values-radio', 'value'),\n",
    "    Input('values-radio', 'options'))\n",
    "def set_cities_value(available_options):\n",
    "    return available_options[0]['value']\n",
    "\n",
    "\n",
    "@app.callback(dash.dependencies.Output('map', 'srcDoc'),\n",
    "                [dash.dependencies.Input('target', 'value'),\n",
    "                dash.dependencies.Input('groupby', 'value'),\n",
    "                dash.dependencies.Input('column-radio', 'value'),\n",
    "                dash.dependencies.Input('values-radio', 'value')\n",
    "                ]\n",
    "    )\n",
    "\n",
    "def update_folium_map( target, groupby, filter_column, filter_value):\n",
    "    \"\"\"  \n",
    "        From a dataset, create a folium choropleth map, filtering dataset by parameters, then grouping by groupby variable in map\n",
    "        and using target as measure\n",
    "    \"\"\"\n",
    "    \n",
    "    dataset = joined.copy()\n",
    "\n",
    "    if (filter_column and filter_value) and filter_column != 'No filter':\n",
    "            dataset = dataset[dataset[filter_column] == filter_value]\n",
    "            \n",
    "    aggregated = dataset.groupby([groupby])\n",
    "    counts = aggregated.size().to_frame(name='number_of_trips')\n",
    "    prepped = (counts.join(aggregated.agg({'trip_distance':'mean'}))\n",
    "        .join(aggregated.agg({'trip_time_in_secs':'mean'}))\n",
    "        .join(aggregated.agg({'fare_amount':'mean'}))\n",
    "        .join(aggregated.agg({'total_amount': 'mean'}))\n",
    "        .reset_index() )\n",
    "    merged = taxi_zones.merge(prepped, left_on=groupby, right_on=groupby)  \n",
    "\n",
    "    m = create_choropleth(merged,  target, groupby)\n",
    "    \n",
    "    #Save the map in a .html file\n",
    "    m.save(\"mymapnew.html\")\n",
    "    return open('mymapnew.html', 'r').read()\n",
    "\n",
    "\n",
    "@app.callback(\n",
    "    Output('live-graph', 'figure'),\n",
    "    [ dash.dependencies.Input('target', 'value'),\n",
    "                dash.dependencies.Input('groupby', 'value'),\n",
    "                dash.dependencies.Input('column-radio', 'value'),\n",
    "                dash.dependencies.Input('values-radio', 'value') ]\n",
    ")\n",
    "def update_histogram(target, groupby, filter_column, filter_value):\n",
    "    dataset = joined.copy() \n",
    "    if filter_column == 'No filter':\n",
    "        filter_column = groupby\n",
    "    if target == 'number_of_trips':\n",
    "        target = 'fare_amount'\n",
    "    barchart = px.histogram(\n",
    "        data_frame=dataset,\n",
    "        x=target,\n",
    "        color=filter_column,\n",
    "        opacity=1,\n",
    "        barmode='group')\n",
    "    return barchart\n",
    "\n",
    "# @app.callback(\n",
    "#     Output('graph-multivariate', 'figure'),\n",
    "#     [ dash.dependencies.Input('target', 'value'),\n",
    "#                 dash.dependencies.Input('groupby', 'value'),\n",
    "#                 dash.dependencies.Input('column-radio', 'value'),\n",
    "#                 dash.dependencies.Input('values-radio', 'value') ]\n",
    "# )\n",
    "# def update_histogram(target, groupby, filter_column, filter_value):\n",
    "#     dataset = joined.copy()\n",
    "#     if filter_column == 'No filter':\n",
    "#         filter_column = groupby\n",
    "#     if target == 'number_of_trips':\n",
    "#         target = 'fare_amount'\n",
    "#     barchart = px.bar(\n",
    "#         data_frame=dataset,\n",
    "#         x=filter_column,\n",
    "#         y=target)\n",
    "#     return barchart"
   ]
  },
  {
   "cell_type": "code",
   "execution_count": 11,
   "id": "b7a4d66c",
   "metadata": {},
   "outputs": [
    {
     "name": "stdout",
     "output_type": "stream",
     "text": [
      "Dash app running on http://127.0.0.1:8221/\n"
     ]
    }
   ],
   "source": [
    "# Run app and display result inline in the notebook\n",
    "app.run_server(mode='external', port=8221)"
   ]
  },
  {
   "cell_type": "code",
   "execution_count": null,
   "id": "12240a61-063e-45fd-b006-79b53651cd00",
   "metadata": {},
   "outputs": [],
   "source": []
  }
 ],
 "metadata": {
  "kernelspec": {
   "display_name": "Python 3.8.8 ('base')",
   "language": "python",
   "name": "python3"
  },
  "language_info": {
   "codemirror_mode": {
    "name": "ipython",
    "version": 3
   },
   "file_extension": ".py",
   "mimetype": "text/x-python",
   "name": "python",
   "nbconvert_exporter": "python",
   "pygments_lexer": "ipython3",
   "version": "3.8.8"
  },
  "vscode": {
   "interpreter": {
    "hash": "6bd192a07a6d2baea92609ce143b0ed4b7634927d70d20884a270aeedae28e74"
   }
  }
 },
 "nbformat": 4,
 "nbformat_minor": 5
}
